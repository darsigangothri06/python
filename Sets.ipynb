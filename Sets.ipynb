{
 "cells": [
  {
   "cell_type": "markdown",
   "metadata": {},
   "source": [
    "# Sets\n",
    "\n",
    "A set is a collection which is both **unordered and unindexed.**\n",
    "\n",
    "Sets are written within **`{ }`**\n",
    "\n",
    "Set items can be of any data type\n",
    "\n",
    "Every set element is unique (no duplicates) and must be immutable (cannot be changed).\n",
    "\n",
    "However, a set itself is mutable. We can add or remove items from it."
   ]
  },
  {
   "cell_type": "code",
   "execution_count": 1,
   "metadata": {},
   "outputs": [
    {
     "name": "stdout",
     "output_type": "stream",
     "text": [
      "<class 'set'>\n"
     ]
    }
   ],
   "source": [
    "a = {2,3,45,6}\n",
    "print(type(a))"
   ]
  },
  {
   "cell_type": "code",
   "execution_count": 22,
   "metadata": {
    "scrolled": true
   },
   "outputs": [
    {
     "name": "stdout",
     "output_type": "stream",
     "text": [
      "['__and__', '__class__', '__contains__', '__delattr__', '__dir__', '__doc__', '__eq__', '__format__', '__ge__', '__getattribute__', '__gt__', '__hash__', '__iand__', '__init__', '__init_subclass__', '__ior__', '__isub__', '__iter__', '__ixor__', '__le__', '__len__', '__lt__', '__ne__', '__new__', '__or__', '__rand__', '__reduce__', '__reduce_ex__', '__repr__', '__ror__', '__rsub__', '__rxor__', '__setattr__', '__sizeof__', '__str__', '__sub__', '__subclasshook__', '__xor__', 'add', 'clear', 'copy', 'difference', 'difference_update', 'discard', 'intersection', 'intersection_update', 'isdisjoint', 'issubset', 'issuperset', 'pop', 'remove', 'symmetric_difference', 'symmetric_difference_update', 'union', 'update']\n"
     ]
    }
   ],
   "source": [
    "print(dir(set))"
   ]
  },
  {
   "cell_type": "code",
   "execution_count": 8,
   "metadata": {},
   "outputs": [
    {
     "name": "stdout",
     "output_type": "stream",
     "text": [
      "<class 'dict'>\n",
      "<class 'set'>\n"
     ]
    }
   ],
   "source": [
    "# Empty curly braces {} will make an empty dictionary in Python.\n",
    "# We can create an empty with set()\n",
    "k = {}\n",
    "print(type(k))\n",
    "\n",
    "k = set()\n",
    "print(type(k))"
   ]
  },
  {
   "cell_type": "markdown",
   "metadata": {},
   "source": [
    "**Set items are unordered, `so you cannot be sure in which order the items will appear.`** <br>\n",
    "Unordered means that the items in a set do not have a defined order.\n",
    "\n",
    "Set items are also unchangeable(`we cannot change the items after the set has been created`) and do not allow duplicate values."
   ]
  },
  {
   "cell_type": "code",
   "execution_count": 12,
   "metadata": {},
   "outputs": [
    {
     "name": "stdout",
     "output_type": "stream",
     "text": [
      "<class 'set'>\n",
      "{1, 'a', 2, 4, 'b', 'c'}\n",
      "{'two', 'one', 'four', 'three'}\n"
     ]
    }
   ],
   "source": [
    "Set = {1,2,3.4,'empty', (45.4,67,3)}\n",
    "print(type(Set))\n",
    "\n",
    "# sets cannot have duplicates\n",
    "Set1 = {'a', 'b', 'c', 1, 2, 4, 2, 1, 2, 1} \n",
    "print(Set1)\n",
    "\n",
    "Set2 = {'one', 'two', 'three', 'four'}\n",
    "print(Set2)"
   ]
  },
  {
   "cell_type": "markdown",
   "metadata": {},
   "source": [
    "But a set cannot have mutable elements like lists, sets or dicts as its elements"
   ]
  },
  {
   "cell_type": "code",
   "execution_count": 5,
   "metadata": {
    "scrolled": true
   },
   "outputs": [
    {
     "ename": "TypeError",
     "evalue": "unhashable type: 'list'",
     "output_type": "error",
     "traceback": [
      "\u001b[1;31m---------------------------------------------------------------------------\u001b[0m",
      "\u001b[1;31mTypeError\u001b[0m                                 Traceback (most recent call last)",
      "\u001b[1;32m<ipython-input-5-7eddfaaa2a92>\u001b[0m in \u001b[0;36m<module>\u001b[1;34m\u001b[0m\n\u001b[1;32m----> 1\u001b[1;33m \u001b[0mSet\u001b[0m \u001b[1;33m=\u001b[0m \u001b[1;33m{\u001b[0m\u001b[1;36m1\u001b[0m\u001b[1;33m,\u001b[0m\u001b[1;36m2\u001b[0m\u001b[1;33m,\u001b[0m\u001b[1;36m3.4\u001b[0m\u001b[1;33m,\u001b[0m\u001b[1;34m'empty'\u001b[0m\u001b[1;33m,\u001b[0m \u001b[1;33m[\u001b[0m\u001b[1;36m45.4\u001b[0m\u001b[1;33m,\u001b[0m\u001b[1;36m67\u001b[0m\u001b[1;33m,\u001b[0m\u001b[1;36m3\u001b[0m\u001b[1;33m]\u001b[0m\u001b[1;33m}\u001b[0m\u001b[1;33m\u001b[0m\u001b[1;33m\u001b[0m\u001b[0m\n\u001b[0m",
      "\u001b[1;31mTypeError\u001b[0m: unhashable type: 'list'"
     ]
    }
   ],
   "source": [
    "Set = {1,2,3.4,'empty', [45.4,67,3]}"
   ]
  },
  {
   "cell_type": "code",
   "execution_count": 19,
   "metadata": {},
   "outputs": [
    {
     "name": "stdout",
     "output_type": "stream",
     "text": [
      "{1, 4, 5, 7, 23, 56}\n",
      "<class 'set'>\n",
      "{1, 2, 3, 4, 5}\n",
      "<class 'set'>\n",
      "{'a', 3, 'u', 'b'}\n",
      "<class 'set'>\n"
     ]
    }
   ],
   "source": [
    "# we can convert a list into set using set()\n",
    "Set3 = set([1,23,4,5,56,7])\n",
    "print(Set3)\n",
    "print(type(Set3))\n",
    "\n",
    "# tuple into set\n",
    "Set3 = set((1,2,3,4,5,1,1,1,1,2))\n",
    "print(Set3)\n",
    "print(type(Set3))\n",
    "\n",
    "# dict into set\n",
    "Set4 = set({'a':1, 'b' : 4, 3 : 'as', 'u' :45})\n",
    "print(Set4)\n",
    "print(type(Set4))"
   ]
  },
  {
   "cell_type": "code",
   "execution_count": 21,
   "metadata": {},
   "outputs": [
    {
     "name": "stdout",
     "output_type": "stream",
     "text": [
      "1\n",
      "first\n",
      "2.0\n",
      "three\n"
     ]
    }
   ],
   "source": [
    "# looping through the set\n",
    "\n",
    "Set4 = {'first', 1, 2.0, 'three'}\n",
    "\n",
    "for i in Set4:\n",
    "    print(i)"
   ]
  },
  {
   "cell_type": "markdown",
   "metadata": {},
   "source": [
    "### Adding new items\n",
    "\n",
    "Once set is created, we cannot change its items, but we can **add** new items.\n",
    "\n",
    "We can add a single element using the `add()` method and multiple elements using the `update()` method. \n",
    "* The `update()` method can take `tuples, lists, strings or other sets` as its arguments.\n",
    "\n",
    "In all cases, duplicates are avoided."
   ]
  },
  {
   "cell_type": "code",
   "execution_count": 32,
   "metadata": {},
   "outputs": [
    {
     "name": "stdout",
     "output_type": "stream",
     "text": [
      "{'z', 'y', 'x'}\n",
      "{'z', 'y', 'x', 6}\n",
      "{0, 1, 3, 6, 'z', 'x', 'y'}\n",
      "{0, 1, 3, 'C', 6, 'z', 'x', 'B', 'A', 'y'}\n",
      "{5, 6, 7, 'Key2', 'Key1'}\n",
      "{0, 1, 2, 3, 'a', 'd', 'b', 'c'}\n"
     ]
    }
   ],
   "source": [
    "Set5 = {'x', 'y', 'z'}\n",
    "print(Set5)\n",
    "\n",
    "# adding 6 to Set5 using add()\n",
    "Set5.add(6)\n",
    "print(Set5)\n",
    "\n",
    "# adding a list using update()\n",
    "Set5.update([0,1,3])\n",
    "print(Set5)\n",
    "\n",
    "# adding a string using update()\n",
    "Set5.update('ABC')\n",
    "print(Set5)\n",
    "\n",
    "# adding dict using update()\n",
    "Set8 = {5,6,7}\n",
    "Set8.update({'Key1' : 'Value1', 'Key2' : 'Value2'})  # adds keys\n",
    "print(Set8)\n",
    "\n",
    "# adding a set using update()\n",
    "Set6 = {0,1,2,3}\n",
    "Set6.update({'a', 'b', 'c', 'd'})\n",
    "print(Set6)"
   ]
  },
  {
   "cell_type": "markdown",
   "metadata": {},
   "source": [
    "### Remove Set items\n",
    "\n",
    "To remove a set item, we can use `remove()` or `discard()` method.\n",
    "\n",
    "The only difference b/w two sets is that the `discard()` function leaves a set unchaged if the element is not present in the set.\n",
    "\n",
    "But, `remove()` function raise an error if element is not present in the set."
   ]
  },
  {
   "cell_type": "markdown",
   "metadata": {},
   "source": [
    "#### using add() and update()"
   ]
  },
  {
   "cell_type": "code",
   "execution_count": 33,
   "metadata": {},
   "outputs": [
    {
     "name": "stdout",
     "output_type": "stream",
     "text": [
      "{'blue', 'green', 'black', 'red', 'white'}\n",
      "{'blue', 'green', 'red', 'white'}\n",
      "{'blue', 'green', 'white'}\n",
      "{'blue', 'green', 'white'}\n"
     ]
    },
    {
     "ename": "KeyError",
     "evalue": "'yellow'",
     "output_type": "error",
     "traceback": [
      "\u001b[1;31m---------------------------------------------------------------------------\u001b[0m",
      "\u001b[1;31mKeyError\u001b[0m                                  Traceback (most recent call last)",
      "\u001b[1;32m<ipython-input-33-c6a3f9076d2f>\u001b[0m in \u001b[0;36m<module>\u001b[1;34m\u001b[0m\n\u001b[0;32m     11\u001b[0m \u001b[0mprint\u001b[0m\u001b[1;33m(\u001b[0m\u001b[0mSet9\u001b[0m\u001b[1;33m)\u001b[0m\u001b[1;33m\u001b[0m\u001b[1;33m\u001b[0m\u001b[0m\n\u001b[0;32m     12\u001b[0m \u001b[1;33m\u001b[0m\u001b[0m\n\u001b[1;32m---> 13\u001b[1;33m \u001b[0mSet9\u001b[0m\u001b[1;33m.\u001b[0m\u001b[0mremove\u001b[0m\u001b[1;33m(\u001b[0m\u001b[1;34m'yellow'\u001b[0m\u001b[1;33m)\u001b[0m   \u001b[1;31m# raise an error\u001b[0m\u001b[1;33m\u001b[0m\u001b[1;33m\u001b[0m\u001b[0m\n\u001b[0m\u001b[0;32m     14\u001b[0m \u001b[0mprint\u001b[0m\u001b[1;33m(\u001b[0m\u001b[0mSet9\u001b[0m\u001b[1;33m)\u001b[0m\u001b[1;33m\u001b[0m\u001b[1;33m\u001b[0m\u001b[0m\n",
      "\u001b[1;31mKeyError\u001b[0m: 'yellow'"
     ]
    }
   ],
   "source": [
    "Set9 = {'blue', 'black', 'red', 'green', 'white'}\n",
    "print(Set9)\n",
    "\n",
    "Set9.discard('black')   # removing 'black'\n",
    "print(Set9)\n",
    "\n",
    "Set9.remove('red')   # removing 'red'\n",
    "print(Set9)\n",
    "\n",
    "Set9.discard('yellow') #there is no 'yellow' - leaves the set unchanged\n",
    "print(Set9)\n",
    "\n",
    "Set9.remove('yellow')   # raise an error\n",
    "print(Set9)"
   ]
  },
  {
   "cell_type": "markdown",
   "metadata": {},
   "source": [
    "### Remove an element pop()\n",
    "\n",
    "We can remove an item using `pop()` method. <br>\n",
    "Since, set is an unordered data type, there is no way of determininng which item will be popped. It is completely arbitrary.\n"
   ]
  },
  {
   "cell_type": "code",
   "execution_count": 35,
   "metadata": {},
   "outputs": [
    {
     "name": "stdout",
     "output_type": "stream",
     "text": [
      "SET :  {0, 1, 2, 3, 4, 5}\n",
      "{1, 2, 3, 4, 5}\n",
      "{2, 3, 4, 5}\n",
      "{3, 4, 5}\n"
     ]
    }
   ],
   "source": [
    "Set10 = {0,1,2,3,4,5}\n",
    "print(\"SET : \", Set10)\n",
    "Set10.pop()\n",
    "print(Set10)\n",
    "Set10.pop()\n",
    "print(Set10)\n",
    "Set10.pop()\n",
    "print(Set10)"
   ]
  },
  {
   "cell_type": "markdown",
   "metadata": {},
   "source": [
    "### Clear a set using clear()\n",
    "\n",
    "We can remove all the items from a set using the `clear()` method."
   ]
  },
  {
   "cell_type": "code",
   "execution_count": 36,
   "metadata": {},
   "outputs": [
    {
     "name": "stdout",
     "output_type": "stream",
     "text": [
      "{0, 1, 2, 3, 4, 5}\n",
      "set()\n"
     ]
    }
   ],
   "source": [
    "Set10 = {0,1,2,3,4,5}\n",
    "print(Set10)\n",
    "\n",
    "Set10.clear()\n",
    "print(Set10)"
   ]
  },
  {
   "cell_type": "markdown",
   "metadata": {},
   "source": [
    "### Copy the elements using copy()\n",
    "\n",
    "Returns a copy of the set"
   ]
  },
  {
   "cell_type": "code",
   "execution_count": 58,
   "metadata": {},
   "outputs": [
    {
     "data": {
      "text/plain": [
       "{1, 2, 3, 'a', 'b', 'c', 'd'}"
      ]
     },
     "execution_count": 58,
     "metadata": {},
     "output_type": "execute_result"
    }
   ],
   "source": [
    "SET = {'a', 'b', 'c', 'd', 1, 2, 3}\n",
    "\n",
    "SET.copy()"
   ]
  },
  {
   "cell_type": "markdown",
   "metadata": {},
   "source": [
    "### Deleting a set completely\n",
    "\n",
    "Using `del` keyword"
   ]
  },
  {
   "cell_type": "code",
   "execution_count": 37,
   "metadata": {},
   "outputs": [
    {
     "name": "stdout",
     "output_type": "stream",
     "text": [
      "{0, 1, 2, 3, 4, 5}\n"
     ]
    },
    {
     "ename": "NameError",
     "evalue": "name 'Set10' is not defined",
     "output_type": "error",
     "traceback": [
      "\u001b[1;31m---------------------------------------------------------------------------\u001b[0m",
      "\u001b[1;31mNameError\u001b[0m                                 Traceback (most recent call last)",
      "\u001b[1;32m<ipython-input-37-7723b56ad7f4>\u001b[0m in \u001b[0;36m<module>\u001b[1;34m\u001b[0m\n\u001b[0;32m      4\u001b[0m \u001b[1;32mdel\u001b[0m \u001b[0mSet10\u001b[0m  \u001b[1;31m# deleting Set10\u001b[0m\u001b[1;33m\u001b[0m\u001b[1;33m\u001b[0m\u001b[0m\n\u001b[0;32m      5\u001b[0m \u001b[1;33m\u001b[0m\u001b[0m\n\u001b[1;32m----> 6\u001b[1;33m \u001b[0mprint\u001b[0m\u001b[1;33m(\u001b[0m\u001b[0mSet10\u001b[0m\u001b[1;33m)\u001b[0m  \u001b[1;31m# error\u001b[0m\u001b[1;33m\u001b[0m\u001b[1;33m\u001b[0m\u001b[0m\n\u001b[0m",
      "\u001b[1;31mNameError\u001b[0m: name 'Set10' is not defined"
     ]
    }
   ],
   "source": [
    "Set10 = {0,1,2,3,4,5}\n",
    "print(Set10)\n",
    "\n",
    "del Set10  # deleting Set10\n",
    "\n",
    "print(Set10)  # error"
   ]
  },
  {
   "cell_type": "markdown",
   "metadata": {},
   "source": [
    "### Joining two sets\n",
    "\n",
    "We can join two sets using `union()` method and `update()` method\n",
    "\n",
    "difference b/w these methods is `union()` method returns the new set and `update()` method does not return new set.\n",
    "\n",
    "Both methods will exclude duplicate items."
   ]
  },
  {
   "cell_type": "code",
   "execution_count": 42,
   "metadata": {},
   "outputs": [
    {
     "data": {
      "text/plain": [
       "{'1', '2', '3', 'd', 'i', 'n', 'o', 'w'}"
      ]
     },
     "execution_count": 42,
     "metadata": {},
     "output_type": "execute_result"
    }
   ],
   "source": [
    "Set11 = set('window')\n",
    "Set12 = set('123')\n",
    "\n",
    "Set11.union(Set12)  # returns a new set"
   ]
  },
  {
   "cell_type": "code",
   "execution_count": 44,
   "metadata": {},
   "outputs": [],
   "source": [
    "Set11 = set('window')\n",
    "Set12 = set('123')\n",
    "\n",
    "Set11.update(Set12)  # does not return any new set  -- no output"
   ]
  },
  {
   "cell_type": "markdown",
   "metadata": {},
   "source": [
    "#### Another way to use union() method using `|`"
   ]
  },
  {
   "cell_type": "code",
   "execution_count": 45,
   "metadata": {},
   "outputs": [
    {
     "data": {
      "text/plain": [
       "{'1', '2', '3', 'd', 'i', 'n', 'o', 'w'}"
      ]
     },
     "execution_count": 45,
     "metadata": {},
     "output_type": "execute_result"
    }
   ],
   "source": [
    "Set11 = set('window')\n",
    "Set12 = set('123')\n",
    "\n",
    "Set11|Set12"
   ]
  },
  {
   "cell_type": "markdown",
   "metadata": {},
   "source": [
    "### Set intersection\n",
    "\n",
    "Intersection of two sets is a set of elements that are `common` in both the sets.\n",
    "\n",
    "Intersection is performed using `intersection()` method and also `&` operator."
   ]
  },
  {
   "cell_type": "code",
   "execution_count": 47,
   "metadata": {},
   "outputs": [
    {
     "name": "stdout",
     "output_type": "stream",
     "text": [
      "{3, 4, 5}\n",
      "{3, 4, 5}\n",
      "{3, 4, 5}\n",
      "{3, 4, 5}\n"
     ]
    }
   ],
   "source": [
    "P = {1,2,3,4,5}\n",
    "Q = {3,4,5,6,7}\n",
    "\n",
    "# using intersection() method\n",
    "print(P.intersection(Q))\n",
    "print(Q.intersection(P))\n",
    "\n",
    "# using & operator\n",
    "print(P & Q)\n",
    "print(Q & P)"
   ]
  },
  {
   "cell_type": "markdown",
   "metadata": {},
   "source": [
    "### Set intersection_update\n",
    "\n",
    "The `intersection_update()` Updates the set with the intersection of two sets"
   ]
  },
  {
   "cell_type": "code",
   "execution_count": 56,
   "metadata": {},
   "outputs": [
    {
     "name": "stdout",
     "output_type": "stream",
     "text": [
      "{1, 2, 3, 4, 5}\n",
      "{3, 4, 5}\n"
     ]
    }
   ],
   "source": [
    "P = {1,2,3,4,5}\n",
    "Q = {3,4,5,6,7}\n",
    "print(P)\n",
    "P.intersection_update(Q)  # 3,4,5 are intersecting elements\n",
    "print(P)"
   ]
  },
  {
   "cell_type": "markdown",
   "metadata": {},
   "source": [
    "### Set difference\n",
    "\n",
    "Difference of set B from set A `(A - B)` is a set of elements that are only in `A` but `not` in `B`.\n",
    "\n",
    "Similary, `B - A` is a set of elements in `B` but `not` in `A`\n",
    "\n",
    "Difference is performed using `difference()` method and also `-`operator."
   ]
  },
  {
   "cell_type": "code",
   "execution_count": 52,
   "metadata": {},
   "outputs": [
    {
     "name": "stdout",
     "output_type": "stream",
     "text": [
      "{1, 2, 3, 4}\n",
      "{1, 2, 3, 4, 5, 6, 7}\n",
      "{8, 9, 10}\n",
      "{1, 2, 3, 4}\n",
      "{8, 9, 10}\n"
     ]
    }
   ],
   "source": [
    "P = {1,2,3,4,5,6,7}\n",
    "Q = {5,6,7,8,9,10}\n",
    "\n",
    "# using difference() method\n",
    "print(P.difference(Q))  # 1,2,3,4\n",
    "print(P)  # contains all the elements of P -- does not updates its diff.\n",
    "print(Q.difference(P))  # 8,9,10\n",
    "\n",
    "# using - operator\n",
    "print(P - Q)\n",
    "print(Q - P)"
   ]
  },
  {
   "cell_type": "markdown",
   "metadata": {},
   "source": [
    "### Set difference update\n",
    "\n",
    "The set `difference_update()` removes all the elements of another set from this set.\n",
    "\n",
    "It returns `None`\n"
   ]
  },
  {
   "cell_type": "code",
   "execution_count": 53,
   "metadata": {},
   "outputs": [
    {
     "name": "stdout",
     "output_type": "stream",
     "text": [
      "{1, 2, 3, 4, 5, 6, 7}\n",
      "{1, 2, 3, 4}\n"
     ]
    }
   ],
   "source": [
    "P = {1,2,3,4,5,6,7}\n",
    "Q = {5,6,7,8,9,10}\n",
    "\n",
    "print(P)\n",
    "P.difference_update(Q)  # removes 5,6,7\n",
    "print(P)  # 1,2,3,4"
   ]
  },
  {
   "cell_type": "markdown",
   "metadata": {},
   "source": [
    "### Set symmetric difference\n",
    "\n",
    "Symmetric difference of `A` and `B` is the set of elements in `A` and `B` but `not in both` (excluding the intersection)\n",
    "\n",
    "Symmetrix difference is performed using `symmetric_difference()` method and also `^` operator"
   ]
  },
  {
   "cell_type": "code",
   "execution_count": 51,
   "metadata": {},
   "outputs": [
    {
     "name": "stdout",
     "output_type": "stream",
     "text": [
      "{1, 2, 3, 4, 8, 9, 10}\n",
      "{1, 2, 3, 4, 8, 9, 10}\n",
      "{1, 2, 3, 4, 8, 9, 10}\n",
      "{1, 2, 3, 4, 8, 9, 10}\n"
     ]
    }
   ],
   "source": [
    "P = {1,2,3,4,5,6,7}\n",
    "Q = {5,6,7,8,9,10}\n",
    "\n",
    "# using symmetric_difference() method\n",
    "print(P.symmetric_difference(Q))   # 1,2,3,4,8,9,10\n",
    "print(Q.symmetric_difference(P))\n",
    "\n",
    "# using ^ operator\n",
    "print(P ^ Q)\n",
    "print(Q ^ P)"
   ]
  },
  {
   "cell_type": "code",
   "execution_count": 61,
   "metadata": {},
   "outputs": [
    {
     "name": "stdout",
     "output_type": "stream",
     "text": [
      "{1, 2, 3, 4, 8, 9, 10}\n"
     ]
    }
   ],
   "source": [
    "# symmetric_difference_update()\n",
    "P = {1,2,3,4,5,6,7}\n",
    "Q = {5,6,7,8,9,10}\n",
    "\n",
    "P.symmetric_difference_update(Q)\n",
    "print(P)"
   ]
  },
  {
   "cell_type": "markdown",
   "metadata": {},
   "source": [
    "### isdisjoint()\n",
    "\n",
    "The `isdisjoint()` method returns `True` if two sets are `disjoint`. If not, it returns `False`\n",
    "\n",
    "Two sets are disjoint if they have no common elements."
   ]
  },
  {
   "cell_type": "code",
   "execution_count": 4,
   "metadata": {},
   "outputs": [
    {
     "name": "stdout",
     "output_type": "stream",
     "text": [
      "True\n",
      "False\n"
     ]
    }
   ],
   "source": [
    "A = {1,0,-2,8,6}\n",
    "B = {5,9,4,3}\n",
    "print(A.isdisjoint(B))\n",
    "\n",
    "A = {1,0,-2,8,6}\n",
    "B = {5,9,4,3,6}\n",
    "print(A.isdisjoint(B))  # 6 is in A and B"
   ]
  },
  {
   "cell_type": "markdown",
   "metadata": {},
   "source": [
    "### issubset()\n",
    "\n",
    "The `issubset()` method returns `True` if all elements of a set are present in another set. If not, it returns `False`\n"
   ]
  },
  {
   "cell_type": "code",
   "execution_count": 5,
   "metadata": {},
   "outputs": [
    {
     "name": "stdout",
     "output_type": "stream",
     "text": [
      "True\n",
      "True\n",
      "False\n"
     ]
    }
   ],
   "source": [
    "A = {1,2,3,4,5,6,7}\n",
    "B = {4,5,6}\n",
    "print(B.issubset(A))   # B is subset of A --- B.issubset(A) - True\n",
    "\n",
    "A = {4,5,6}\n",
    "B = {1,2,3,4,5,6,7}\n",
    "print(A.issubset(B))   # A is subset of B - True\n",
    "\n",
    "A = {1,2,3,4,5,6,7}\n",
    "B = {4,5,6}\n",
    "print(A.issubset(B))  # B is subset of A - False"
   ]
  },
  {
   "cell_type": "markdown",
   "metadata": {},
   "source": [
    "### superset()\n",
    "\n",
    "The `superset()` method returns `True` if a set has every elements of another set. If not, returns `False`\n"
   ]
  },
  {
   "cell_type": "code",
   "execution_count": 8,
   "metadata": {},
   "outputs": [
    {
     "name": "stdout",
     "output_type": "stream",
     "text": [
      "True\n",
      "True\n"
     ]
    }
   ],
   "source": [
    "A = {1,2,3,4,5,6,7}\n",
    "B = {4,5,6}\n",
    "print(A.issuperset(B))  # A is superset of B - All elements of B are in A\n",
    "\n",
    "A = {4,5,6}\n",
    "B = {1,2,3,4,5,6,7}\n",
    "print(B.issuperset(A))  # B is superset of A"
   ]
  },
  {
   "cell_type": "markdown",
   "metadata": {},
   "source": [
    "## Frozenset"
   ]
  },
  {
   "cell_type": "markdown",
   "metadata": {},
   "source": [
    "The `frozenset()` function returns an immutable frozenset obbjet initialized with elements from the given iterable.\n",
    "\n",
    "Frozenset is just an `immutable` version on a Python Set object. <br>\n",
    "\n",
    "While elements of a set can be modified at any time, elements of the frozenset remain the same after creation.\n",
    "\n",
    "Due to this, frozen sets can be used as keys in `dictionary` or as elements of another set. But like sets, it is not ordered (the elements can be set at any index).\n",
    "\n",
    "Syntax: `frozenset()`\n",
    "\n",
    "Parameters: \n",
    "* iterable(optional) - the iterable which contains elements to initialize the frozenset with.\n",
    "    * iterable can be set, dict, tuple etc.\n",
    "    \n",
    "Return value: \n",
    "* Returns an immutable `frozenset` initialized with elements from the given iterable.\n",
    "* If no parameters are passed, it returns an empty `frozenset()`"
   ]
  },
  {
   "cell_type": "code",
   "execution_count": 10,
   "metadata": {},
   "outputs": [
    {
     "name": "stdout",
     "output_type": "stream",
     "text": [
      "frozenset({'f', 'z', 'e', 'n', 'o', 'r'})\n",
      "<class 'frozenset'>\n"
     ]
    }
   ],
   "source": [
    "Tuple = tuple('frozen')\n",
    "Frozenset = frozenset(Tuple)\n",
    "print(Frozenset)\n",
    "print(type(Frozenset))"
   ]
  },
  {
   "cell_type": "code",
   "execution_count": 11,
   "metadata": {},
   "outputs": [
    {
     "ename": "AttributeError",
     "evalue": "'frozenset' object has no attribute 'add'",
     "output_type": "error",
     "traceback": [
      "\u001b[1;31m---------------------------------------------------------------------------\u001b[0m",
      "\u001b[1;31mAttributeError\u001b[0m                            Traceback (most recent call last)",
      "\u001b[1;32m<ipython-input-11-72c9375bb35b>\u001b[0m in \u001b[0;36m<module>\u001b[1;34m\u001b[0m\n\u001b[0;32m      2\u001b[0m \u001b[0mTuple\u001b[0m \u001b[1;33m=\u001b[0m \u001b[0mtuple\u001b[0m\u001b[1;33m(\u001b[0m\u001b[1;34m'frozen'\u001b[0m\u001b[1;33m)\u001b[0m\u001b[1;33m\u001b[0m\u001b[1;33m\u001b[0m\u001b[0m\n\u001b[0;32m      3\u001b[0m \u001b[0mFrozenset\u001b[0m \u001b[1;33m=\u001b[0m \u001b[0mfrozenset\u001b[0m\u001b[1;33m(\u001b[0m\u001b[0mTuple\u001b[0m\u001b[1;33m)\u001b[0m\u001b[1;33m\u001b[0m\u001b[1;33m\u001b[0m\u001b[0m\n\u001b[1;32m----> 4\u001b[1;33m \u001b[0mFrozenset\u001b[0m\u001b[1;33m.\u001b[0m\u001b[0madd\u001b[0m\u001b[1;33m(\u001b[0m\u001b[1;34m'k'\u001b[0m\u001b[1;33m)\u001b[0m  \u001b[1;31m# error\u001b[0m\u001b[1;33m\u001b[0m\u001b[1;33m\u001b[0m\u001b[0m\n\u001b[0m\u001b[0;32m      5\u001b[0m \u001b[0mprint\u001b[0m\u001b[1;33m(\u001b[0m\u001b[0mFrozenset\u001b[0m\u001b[1;33m)\u001b[0m\u001b[1;33m\u001b[0m\u001b[1;33m\u001b[0m\u001b[0m\n",
      "\u001b[1;31mAttributeError\u001b[0m: 'frozenset' object has no attribute 'add'"
     ]
    }
   ],
   "source": [
    "# Frozensets are immutable\n",
    "Tuple = tuple('frozen')\n",
    "Frozenset = frozenset(Tuple)\n",
    "Frozenset.add('k')  # error\n",
    "print(Frozenset)"
   ]
  },
  {
   "cell_type": "code",
   "execution_count": 13,
   "metadata": {},
   "outputs": [
    {
     "name": "stdout",
     "output_type": "stream",
     "text": [
      "frozenset({'K', 'N', 'A'})\n",
      "<class 'frozenset'>\n"
     ]
    }
   ],
   "source": [
    "# as a dict\n",
    "Dict = {\"N\": 12, \"A\": 13.56, \"K\": 90}\n",
    "\n",
    "Frozen = frozenset(Dict)\n",
    "print(Frozen)\n",
    "print(type(Frozen))"
   ]
  },
  {
   "cell_type": "markdown",
   "metadata": {},
   "source": [
    "## Operations"
   ]
  },
  {
   "cell_type": "code",
   "execution_count": 16,
   "metadata": {},
   "outputs": [
    {
     "name": "stdout",
     "output_type": "stream",
     "text": [
      "frozenset({1, 2, 3, 4, 5, 6, 7})\n",
      "frozenset({1, 2, 3, 4, 5, 6, 7, 8, 9, 10, 11})\n",
      "frozenset({5, 6, 7})\n",
      "frozenset({1, 2, 3, 4})\n",
      "frozenset({1, 2, 3, 4, 8, 9, 10, 11})\n",
      "False\n",
      "True\n",
      "True\n"
     ]
    }
   ],
   "source": [
    "A = frozenset([1, 2, 3, 4, 5, 6, 7])\n",
    "B = frozenset([5, 6, 7, 8, 9, 10, 11])\n",
    "\n",
    "# Copy\n",
    "C = A.copy()  # C = A - {1,2,3,4,5,6,7}\n",
    "print(C)\n",
    "\n",
    "# Union\n",
    "print(A.union(B))  # {1,2,3,4,5,6,7,8,9,10,11}\n",
    "\n",
    "# Intersection\n",
    "print(A.intersection(B)) # {5,6,7}\n",
    "\n",
    "# Difference\n",
    "print(A.difference(B))   # {1,2,3,4}\n",
    "\n",
    "# Symmetric Difference\n",
    "print(A.symmetric_difference(B))  # {1,2,3,4,8,9,10,11}\n",
    "\n",
    "A = frozenset([1,2,3,4,5])\n",
    "B = frozenset([3,4,5])\n",
    "# isdisjoint()\n",
    "print(A.isdisjoint(B))   # false\n",
    "\n",
    "# issubset()\n",
    "print(B.issubset(A))     # true\n",
    "\n",
    "# issuperset()\n",
    "print(A.issuperset(B))    # true"
   ]
  },
  {
   "cell_type": "markdown",
   "metadata": {},
   "source": [
    "## Built-in Functions with Set\n",
    "\n",
    "* `all()` - Returns True if all the elements of the set are true or if the set is empty\n",
    "\n",
    "* `any()` - Returns True if any element of the set is true. Returns false if set is empty\n",
    "\n",
    "* `enumerate()` - Returns an enumerate object. It contains the index and value for all the items of the set as a pair.\n",
    "\n",
    "* `len()` - Returns the length of the set.\n",
    "\n",
    "* `max()` - Returns the largest item in the set.\n",
    "\n",
    "* `min()` - Returns the smallest item in the set.\n",
    "\n",
    "* `sorted()` - Returns a new sorted list from elements in the set(does not sort the set itself)\n",
    "\n",
    "* `sum()` - Returns the sum of all elements in the set."
   ]
  },
  {
   "cell_type": "markdown",
   "metadata": {},
   "source": [
    "---\n"
   ]
  }
 ],
 "metadata": {
  "kernelspec": {
   "display_name": "Python 3",
   "language": "python",
   "name": "python3"
  },
  "language_info": {
   "codemirror_mode": {
    "name": "ipython",
    "version": 3
   },
   "file_extension": ".py",
   "mimetype": "text/x-python",
   "name": "python",
   "nbconvert_exporter": "python",
   "pygments_lexer": "ipython3",
   "version": "3.7.6"
  }
 },
 "nbformat": 4,
 "nbformat_minor": 4
}

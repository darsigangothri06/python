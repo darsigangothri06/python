{
 "cells": [
  {
   "cell_type": "markdown",
   "id": "533aff63",
   "metadata": {},
   "source": [
    "## Assignment operator\n",
    "\n",
    "In python, we use the equalto operator to create a copy of an object and we may think that, that will create a new object.\n",
    "But it is not so.\n",
    "\n",
    "**It only creates a new variable that shares the reference of the original object**"
   ]
  },
  {
   "cell_type": "code",
   "execution_count": 1,
   "id": "0a8bafbe",
   "metadata": {},
   "outputs": [
    {
     "name": "stdout",
     "output_type": "stream",
     "text": [
      "List1 -> [1, 2, 3, 4, 5]\n",
      "List2 -> [1, 2, 3, 4, 5]\n",
      "id of list1 -> 2939342726912\n",
      "id of list2 -> 2939342726912\n",
      "List1 -> [1, 2, 3, 4, 5, 10]\n",
      "List2 -> [1, 2, 3, 4, 5, 10]\n"
     ]
    }
   ],
   "source": [
    "list1 = [1,2,3,4,5]\n",
    "list2 = list1\n",
    "\n",
    "print(\"List1 ->\", list1)\n",
    "print(\"List2 ->\", list2)\n",
    "\n",
    "print(\"id of list1 ->\", id(list1))\n",
    "print(\"id of list2 ->\", id(list2))\n",
    "\n",
    "# adding an element to list1\n",
    "list1.append(10)\n",
    "print(\"List1 ->\", list1)\n",
    "print(\"List2 ->\", list2)"
   ]
  },
  {
   "cell_type": "code",
   "execution_count": 40,
   "id": "40dc3d07",
   "metadata": {},
   "outputs": [
    {
     "name": "stdout",
     "output_type": "stream",
     "text": [
      "a1 is -> [1, 2, 3, 4]\n",
      "b1 is -> [1, 2, 3, 4]\n",
      "id of a1 is -> 2939342674944\n",
      "id of b1 is -> 2939342674944\n",
      "id of a1[1] is -> 2939261512016\n",
      "id of b1[1] is -> 2939261512016\n",
      "a1 is -> [1, 2, 3, 4, 100]\n",
      "b1 is -> [1, 2, 3, 4, 100]\n"
     ]
    }
   ],
   "source": [
    "a1 = [1,2,3,4]\n",
    "b1 = a1\n",
    "\n",
    "print(\"a1 is ->\", a1)\n",
    "print(\"b1 is ->\", b1)\n",
    "\n",
    "# id's of both a1 and b1 are same\n",
    "print(\"id of a1 is ->\", id(a1))\n",
    "print(\"id of b1 is ->\", id(b1))\n",
    "\n",
    "print(\"id of a1[1] is ->\", id(a1[1]))\n",
    "print(\"id of b1[1] is ->\", id(b1[1]))\n",
    "\n",
    "# Appending element\n",
    "a1.append(100)\n",
    "print(\"a1 is ->\", a1)\n",
    "print(\"b1 is ->\", b1)"
   ]
  },
  {
   "cell_type": "code",
   "execution_count": 41,
   "id": "604a8a1e",
   "metadata": {},
   "outputs": [
    {
     "name": "stdout",
     "output_type": "stream",
     "text": [
      "c1 is -> [[1, 2, 3], [4, 5, 6], [7, 8, 'ABC']]\n",
      "d1 is -> [[1, 2, 3], [4, 5, 6], [7, 8, 'ABC']]\n"
     ]
    }
   ],
   "source": [
    "# Nested objects\n",
    "c1 = [[1,2,3],[4,5,6],[7,8,9]]\n",
    "d1 = c1\n",
    "\n",
    "c1[2][2] = \"ABC\"\n",
    "print(\"c1 is ->\", c1)\n",
    "print(\"d1 is ->\", d1)"
   ]
  },
  {
   "cell_type": "markdown",
   "id": "cac27892",
   "metadata": {},
   "source": [
    "## Shallow Copy\n",
    "\n",
    "To make this copy work, we use the copy module for shallow and deepcopy operations\n",
    "\n",
    "**A shallow copy actually creates a new object which stores the reference of the original ELEMENTS**\n",
    "\n",
    "**A shallow copy does not create a copy of the nested objects, instead it just copies the reference of the original objects**"
   ]
  },
  {
   "cell_type": "code",
   "execution_count": 30,
   "id": "b52e00e6",
   "metadata": {},
   "outputs": [
    {
     "name": "stdout",
     "output_type": "stream",
     "text": [
      "List1 -> [1, 2, 3, 4, 5, 6, 7]\n",
      "List2 -> [1, 2, 3, 4, 5, 6, 7]\n",
      "id of list1 -> 2939342726912\n",
      "id of list2 -> 2939342721088\n",
      "id of list1[2] -> 2939261512048\n",
      "id of list2[2] -> 2939261512048\n"
     ]
    }
   ],
   "source": [
    "import copy\n",
    "\n",
    "list1 = [1,2,3,4,5,6,7]\n",
    "list2 = copy.copy(list1)\n",
    "\n",
    "print(\"List1 ->\", list1)\n",
    "print(\"List2 ->\", list2)\n",
    "\n",
    "# id's of both lists are DIFFERENT\n",
    "print(\"id of list1 ->\", id(list1))\n",
    "print(\"id of list2 ->\", id(list2))\n",
    "\n",
    "# id's of both corresponding elements are same\n",
    "print(\"id of list1[2] ->\", id(list1[2]))\n",
    "print(\"id of list2[2] ->\", id(list2[2]))"
   ]
  },
  {
   "cell_type": "code",
   "execution_count": 18,
   "id": "7c04374d",
   "metadata": {},
   "outputs": [
    {
     "name": "stdout",
     "output_type": "stream",
     "text": [
      "List1 -> [[1, 2, 3], [4, 5, 6], [7, 8, 9]]\n",
      "List2 -> [[1, 2, 3], [4, 5, 6], [7, 8, 9]]\n",
      "id of list1 -> 2939342734784\n",
      "id of list2 -> 2939342718528\n",
      "List1 -> [[1, 2, 3], [4, 'A', 6], [7, 8, 9]]\n",
      "List2 -> [[1, 2, 3], [4, 'A', 6], [7, 8, 9]]\n",
      "id of list1 -> 2939342734784\n",
      "id of list2 -> 2939342718528\n"
     ]
    }
   ],
   "source": [
    "# Shallow copy in nested objects\n",
    "list1 = [[1,2,3],[4,5,6],[7,8,9]]\n",
    "list2 = copy.copy(list1)\n",
    "\n",
    "print(\"List1 ->\", list1)\n",
    "print(\"List2 ->\", list2)\n",
    "\n",
    "# id's of both lists are DIFFERENT\n",
    "print(\"id of list1 ->\", id(list1))\n",
    "print(\"id of list2 ->\", id(list2))\n",
    "\n",
    "# Adding new nested object using shallow copy\n",
    "list1[1][1] = \"A\"\n",
    "\n",
    "print(\"List1 ->\", list1)\n",
    "print(\"List2 ->\", list2)\n",
    "\n",
    "print(\"id of list1 ->\", id(list1))\n",
    "print(\"id of list2 ->\", id(list2))"
   ]
  },
  {
   "cell_type": "code",
   "execution_count": 38,
   "id": "a87141f4",
   "metadata": {},
   "outputs": [
    {
     "name": "stdout",
     "output_type": "stream",
     "text": [
      "new -> [1, 2, 3, 4, 5, 6, 7]\n",
      "old -> [1, 2, 3, 4, 5, 6, 7]\n",
      "id of new -> 2939342717888\n",
      "id of old -> 2939342002176\n",
      "new -> [1, 2, 3, 4, 5, 6, 7, 10]\n",
      "old -> [1, 2, 3, 4, 5, 6, 7]\n"
     ]
    }
   ],
   "source": [
    "# Appending element in shallowcopy\n",
    "new = [1,2,3,4,5,6,7]\n",
    "old = copy.copy(new)\n",
    "\n",
    "print(\"new ->\", new)\n",
    "print(\"old ->\", old)\n",
    "\n",
    "# id's of both lists are DIFFERENT\n",
    "print(\"id of new ->\", id(new))\n",
    "print(\"id of old ->\", id(old))\n",
    "\n",
    "new.append(10)\n",
    "print(\"new ->\", new)\n",
    "print(\"old ->\", old)"
   ]
  },
  {
   "cell_type": "markdown",
   "id": "ab60ca55",
   "metadata": {},
   "source": [
    "## Deepcopy\n",
    "\n",
    "A deepcopy creates a new object and recursively adds the copies of the nested objects present in the original elements"
   ]
  },
  {
   "cell_type": "code",
   "execution_count": 26,
   "id": "286e1f62",
   "metadata": {},
   "outputs": [
    {
     "name": "stdout",
     "output_type": "stream",
     "text": [
      "List1 -> [[1, 2, 3], [4, 5, 6], [7, 8, 9]]\n",
      "List2 -> [[1, 2, 3], [4, 5, 6], [7, 8, 9]]\n",
      "id of list1 -> 2939342740800\n",
      "id of list2 -> 2939342726912\n",
      "id of list1[2] -> 2939342734528\n",
      "id of list2[2] -> 2939342740416\n"
     ]
    }
   ],
   "source": [
    "list1 = [[1,2,3],[4,5,6],[7,8,9]]\n",
    "list2 = copy.deepcopy(list1)\n",
    "\n",
    "print(\"List1 ->\", list1)\n",
    "print(\"List2 ->\", list2)\n",
    "\n",
    "# id's of both lists are DIFFERENT\n",
    "print(\"id of list1 ->\", id(list1))\n",
    "print(\"id of list2 ->\", id(list2))\n",
    "\n",
    "# id's of both corresponding elements are DIFFERENT\n",
    "print(\"id of list1[2] ->\", id(list1[2]))\n",
    "print(\"id of list2[2] ->\", id(list2[2]))"
   ]
  },
  {
   "cell_type": "code",
   "execution_count": 34,
   "id": "a14f1205",
   "metadata": {},
   "outputs": [
    {
     "name": "stdout",
     "output_type": "stream",
     "text": [
      "List1 -> [[1, 2, 3], [4, 5, 6], [7, 8, 9]]\n",
      "List2 -> [[1, 2, 3], [4, 5, 6], [7, 8, 9]]\n",
      "id of list1 -> 2939342744320\n",
      "id of list2 -> 2939342735936\n",
      "List1 -> [[1, 2, 3], [4, 'A', 6], [7, 8, 9]]\n",
      "List2 -> [[1, 2, 3], [4, 5, 6], [7, 8, 9]]\n",
      "id of list1 -> 2939342744320\n",
      "id of list2 -> 2939342735936\n"
     ]
    }
   ],
   "source": [
    "# Deepcopy in nested objects\n",
    "list1 = [[1,2,3],[4,5,6],[7,8,9]]\n",
    "list2 = copy.deepcopy(list1)\n",
    "\n",
    "print(\"List1 ->\", list1)\n",
    "print(\"List2 ->\", list2)\n",
    "\n",
    "# id's of both lists are DIFFERENT\n",
    "print(\"id of list1 ->\", id(list1))\n",
    "print(\"id of list2 ->\", id(list2))\n",
    "\n",
    "# Adding new nested object using deepcopy, changes will NOT be reflected to original object\n",
    "list1[1][1] = \"A\"\n",
    "\n",
    "print(\"List1 ->\", list1)\n",
    "print(\"List2 ->\", list2)\n",
    "\n",
    "print(\"id of list1 ->\", id(list1))\n",
    "print(\"id of list2 ->\", id(list2))"
   ]
  },
  {
   "cell_type": "code",
   "execution_count": 39,
   "id": "9fe39a0e",
   "metadata": {},
   "outputs": [
    {
     "name": "stdout",
     "output_type": "stream",
     "text": [
      "new1 -> [1, 2, 3, 4, 5, 6, 7]\n",
      "old1 -> [1, 2, 3, 4, 5, 6, 7]\n",
      "id of new1 -> 2939342672704\n",
      "id of old1 -> 2939342741248\n",
      "new1 -> [1, 2, 3, 4, 5, 6, 7, 10]\n",
      "old1 -> [1, 2, 3, 4, 5, 6, 7]\n"
     ]
    }
   ],
   "source": [
    "# Appending element in deepcopy\n",
    "new_list = [1,2,3,4,5,6,7]\n",
    "old_list = copy.deepcopy(new_list)\n",
    "\n",
    "print(\"new1 ->\", new_list)\n",
    "print(\"old1 ->\", old_list)\n",
    "\n",
    "# id's of both lists are DIFFERENT\n",
    "print(\"id of new1 ->\", id(new_list))\n",
    "print(\"id of old1 ->\", id(old_list))\n",
    "\n",
    "new_list.append(10)\n",
    "print(\"new1 ->\", new_list)\n",
    "print(\"old1 ->\", old_list)"
   ]
  },
  {
   "cell_type": "code",
   "execution_count": null,
   "id": "f6f1485f",
   "metadata": {},
   "outputs": [],
   "source": []
  }
 ],
 "metadata": {
  "kernelspec": {
   "display_name": "Python 3 (ipykernel)",
   "language": "python",
   "name": "python3"
  },
  "language_info": {
   "codemirror_mode": {
    "name": "ipython",
    "version": 3
   },
   "file_extension": ".py",
   "mimetype": "text/x-python",
   "name": "python",
   "nbconvert_exporter": "python",
   "pygments_lexer": "ipython3",
   "version": "3.9.7"
  }
 },
 "nbformat": 4,
 "nbformat_minor": 5
}

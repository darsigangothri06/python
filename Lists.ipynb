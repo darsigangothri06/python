{
 "cells": [
  {
   "cell_type": "markdown",
   "metadata": {},
   "source": [
    "# Lists"
   ]
  },
  {
   "cell_type": "markdown",
   "metadata": {},
   "source": [
    "Like string, a list is a sequence of values. <br>\n",
    "\n",
    "In a string, the values are characters;  In a list, they can be of any type.\n",
    "\n",
    "Lists are enclosed within `[ ]`"
   ]
  },
  {
   "cell_type": "code",
   "execution_count": 4,
   "metadata": {},
   "outputs": [
    {
     "name": "stdout",
     "output_type": "stream",
     "text": [
      "<class 'list'>\n",
      "<class 'list'>\n"
     ]
    }
   ],
   "source": [
    "l1 = [1, 2, 4, 5, 6]\n",
    "print(type(l1))\n",
    "print(type(['1', 1, 234, \"abcd\", '!']))"
   ]
  },
  {
   "cell_type": "code",
   "execution_count": 3,
   "metadata": {},
   "outputs": [
    {
     "name": "stdout",
     "output_type": "stream",
     "text": [
      "['__add__', '__class__', '__contains__', '__delattr__', '__delitem__', '__dir__', '__doc__', '__eq__', '__format__', '__ge__', '__getattribute__', '__getitem__', '__gt__', '__hash__', '__iadd__', '__imul__', '__init__', '__init_subclass__', '__iter__', '__le__', '__len__', '__lt__', '__mul__', '__ne__', '__new__', '__reduce__', '__reduce_ex__', '__repr__', '__reversed__', '__rmul__', '__setattr__', '__setitem__', '__sizeof__', '__str__', '__subclasshook__', 'append', 'clear', 'copy', 'count', 'extend', 'index', 'insert', 'pop', 'remove', 'reverse', 'sort']\n"
     ]
    }
   ],
   "source": [
    "# list methods\n",
    "print(dir(list))"
   ]
  },
  {
   "cell_type": "code",
   "execution_count": 5,
   "metadata": {},
   "outputs": [
    {
     "name": "stdout",
     "output_type": "stream",
     "text": [
      "<class 'list'>\n",
      "class\n",
      "124\n",
      "23.45\n",
      "object\n"
     ]
    }
   ],
   "source": [
    "# like strings, lists index also starts with 0\n",
    "k = ['class', 'object', 'method', 124, 23.45, True]\n",
    "print(type(k))\n",
    "print(k[0])   # 'class'\n",
    "print(k[3])  # 124\n",
    "print(k[-2]) # 23.45\n",
    "print(k[-5])  # 'object'"
   ]
  },
  {
   "cell_type": "code",
   "execution_count": 6,
   "metadata": {},
   "outputs": [
    {
     "name": "stdout",
     "output_type": "stream",
     "text": [
      "<class 'list'>\n"
     ]
    }
   ],
   "source": [
    "# a list with no elements is called an empty list\n",
    "l = []\n",
    "print(type(l))"
   ]
  },
  {
   "cell_type": "code",
   "execution_count": 11,
   "metadata": {},
   "outputs": [
    {
     "name": "stdout",
     "output_type": "stream",
     "text": [
      "['a', 'b', 67]\n",
      "a\n",
      "b\n",
      "67\n",
      "['b', 67]\n"
     ]
    }
   ],
   "source": [
    "# a list within another list is nested\n",
    "l = [1, 34, 23.456, ['a', 'b', 67], 'xyz']\n",
    "print(l[3])\n",
    "#to access the inner list, we have to mention the index of inner list value\n",
    "a = l[3][0]\n",
    "print(a)\n",
    "a = l[3][1]\n",
    "print(a)\n",
    "a = l[3][2]\n",
    "print(a)\n",
    "a = l[3][1:]   # from 'b' to last\n",
    "print(a)"
   ]
  },
  {
   "cell_type": "markdown",
   "metadata": {},
   "source": [
    "### Deleting elements in list"
   ]
  },
  {
   "cell_type": "code",
   "execution_count": 13,
   "metadata": {},
   "outputs": [
    {
     "name": "stdout",
     "output_type": "stream",
     "text": [
      "['cloud', 'climate', 'temp', 'cool']\n",
      "before deleting, l[1] is:  climate\n",
      "after deleting, l[1] is :  temp\n",
      "New list is  ['cloud', 'temp', 'cool']\n"
     ]
    }
   ],
   "source": [
    "l = ['cloud', 'climate', 'temp', 'cool']\n",
    "print(l)\n",
    "print(\"before deleting, l[1] is: \", l[1])\n",
    "\n",
    "del l[1]\n",
    "print(\"after deleting, l[1] is : \", l[1])\n",
    "print(\"New list is \", l)"
   ]
  },
  {
   "cell_type": "markdown",
   "metadata": {},
   "source": [
    "## Basic list operations\n",
    "\n",
    "* Concatenation `list1 + list2`\n",
    "* finding length using `len()`\n",
    "* list Repetition  `list * 2`\n",
    "* Membership using `in`\n",
    "* Iteration"
   ]
  },
  {
   "cell_type": "code",
   "execution_count": 14,
   "metadata": {},
   "outputs": [
    {
     "name": "stdout",
     "output_type": "stream",
     "text": [
      "[1, 2, 3, 'a', 'b', 'c']\n"
     ]
    }
   ],
   "source": [
    "# Concatinating two lists\n",
    "l1 = [1,2,3]\n",
    "l2 = ['a', 'b', 'c']\n",
    "print(l1 + l2)"
   ]
  },
  {
   "cell_type": "code",
   "execution_count": 61,
   "metadata": {},
   "outputs": [
    {
     "name": "stdout",
     "output_type": "stream",
     "text": [
      "4\n",
      "4\n",
      "5\n"
     ]
    }
   ],
   "source": [
    "# finding length of a string\n",
    "p = [2.3, 0, 'abc', '!@#']\n",
    "print(len(p))\n",
    "\n",
    "count = 0\n",
    "for i in p:\n",
    "    count += 1\n",
    "print(count)\n",
    "\n",
    "# length of nested list\n",
    "l1 = ['a', 'b', 'c', [123,342.3, 89], 3]\n",
    "# inner list is also an element, still length = 5\n",
    "print(len(l1))"
   ]
  },
  {
   "cell_type": "code",
   "execution_count": 17,
   "metadata": {},
   "outputs": [
    {
     "name": "stdout",
     "output_type": "stream",
     "text": [
      "[1, 2, 3, 1, 2, 3, 1, 2, 3, 1, 2, 3]\n"
     ]
    }
   ],
   "source": [
    "# repetition\n",
    "\n",
    "print([1,2,3] * 4)"
   ]
  },
  {
   "cell_type": "code",
   "execution_count": 59,
   "metadata": {},
   "outputs": [
    {
     "name": "stdout",
     "output_type": "stream",
     "text": [
      "False\n",
      "True\n",
      "True\n"
     ]
    }
   ],
   "source": [
    "# Membership\n",
    "a = [89, 12.34, 345, 306]\n",
    "print(3 in a)  # false\n",
    "print(12.34 in a)  # true\n",
    "print(306 in a)  # true"
   ]
  },
  {
   "cell_type": "code",
   "execution_count": 55,
   "metadata": {},
   "outputs": [
    {
     "name": "stdout",
     "output_type": "stream",
     "text": [
      "1 2 3 4 5 "
     ]
    }
   ],
   "source": [
    "# iterating a list\n",
    "m = [1,2,3,4,5]\n",
    "\n",
    "for i in m:\n",
    "    print(i, end = ' ')"
   ]
  },
  {
   "cell_type": "markdown",
   "metadata": {},
   "source": [
    "## Lists are mutable\n",
    "\n",
    "We can change the order of items in a list or reasign an item in a list. <br>"
   ]
  },
  {
   "cell_type": "code",
   "execution_count": 56,
   "metadata": {},
   "outputs": [
    {
     "name": "stdout",
     "output_type": "stream",
     "text": [
      "['hi', 1, 2]\n"
     ]
    }
   ],
   "source": [
    "b = ['hello', 1, 2]\n",
    "b[0] = 'hi'\n",
    "print(b)"
   ]
  },
  {
   "cell_type": "code",
   "execution_count": 57,
   "metadata": {},
   "outputs": [
    {
     "name": "stdout",
     "output_type": "stream",
     "text": [
      "1 4 9 16 25 "
     ]
    }
   ],
   "source": [
    "# finding squares of numbers in a list\n",
    "f = [1,2,3,4,5]\n",
    "for i in f:\n",
    "    sqr = i * i\n",
    "    print(sqr, end = ' ')"
   ]
  },
  {
   "cell_type": "markdown",
   "metadata": {},
   "source": [
    "## List slices\n",
    "\n",
    "Since lists are sequences, indexing and slicing work the same way for lists as they do for strings."
   ]
  },
  {
   "cell_type": "code",
   "execution_count": 39,
   "metadata": {},
   "outputs": [
    {
     "name": "stdout",
     "output_type": "stream",
     "text": [
      "['C', 'HTML', 'Python', 'Java', 'SQL', 'CSS']\n",
      "['HTML', 'Python']\n",
      "['C', 'HTML', 'Python', 'Java']\n",
      "[]\n",
      "['Java', 'SQL']\n",
      "['C', 'Python']\n",
      "['CSS', 'SQL', 'Java', 'Python', 'HTML', 'C']\n",
      "['C', 'HTML', 'Python']\n",
      "['CSS', 'SQL', 'Java']\n"
     ]
    }
   ],
   "source": [
    "l = ['C', 'HTML', 'Python', 'Java', 'SQL', 'CSS']\n",
    "\n",
    "print(l[:])  # copies whole list\n",
    "print(l[1:3]) \n",
    "print(l[:4])\n",
    "print(l[-1:-3])   # empty string since, there are no values after -1\n",
    "print(l[-3:-1])\n",
    "print(l[:4:2])\n",
    "print(l[::-1])  # reverses the list\n",
    "print(l[:3]) \n",
    "# for a negative step, end value = end+1\n",
    "print(l[:2:-1])   # from 3 to last"
   ]
  },
  {
   "cell_type": "markdown",
   "metadata": {},
   "source": [
    "## Built-in List Functions\n",
    "\n",
    "* len(list)\n",
    "* max(list)\n",
    "* min(list)\n",
    "* list(tuple or string)  -- Converts tuple or string into list"
   ]
  },
  {
   "cell_type": "code",
   "execution_count": 44,
   "metadata": {},
   "outputs": [
    {
     "name": "stdout",
     "output_type": "stream",
     "text": [
      "99\n"
     ]
    },
    {
     "ename": "TypeError",
     "evalue": "'>' not supported between instances of 'str' and 'float'",
     "output_type": "error",
     "traceback": [
      "\u001b[1;31m---------------------------------------------------------------------------\u001b[0m",
      "\u001b[1;31mTypeError\u001b[0m                                 Traceback (most recent call last)",
      "\u001b[1;32m<ipython-input-44-b8892e958d79>\u001b[0m in \u001b[0;36m<module>\u001b[1;34m\u001b[0m\n\u001b[0;32m      4\u001b[0m \u001b[1;33m\u001b[0m\u001b[0m\n\u001b[0;32m      5\u001b[0m \u001b[0ml1\u001b[0m \u001b[1;33m=\u001b[0m \u001b[1;33m[\u001b[0m\u001b[1;36m1.3\u001b[0m\u001b[1;33m,\u001b[0m \u001b[1;34m'abcd'\u001b[0m\u001b[1;33m,\u001b[0m \u001b[1;34m'ASD'\u001b[0m\u001b[1;33m,\u001b[0m \u001b[1;34m'xyz'\u001b[0m\u001b[1;33m,\u001b[0m \u001b[1;36m234\u001b[0m\u001b[1;33m]\u001b[0m\u001b[1;33m\u001b[0m\u001b[1;33m\u001b[0m\u001b[0m\n\u001b[1;32m----> 6\u001b[1;33m \u001b[0mprint\u001b[0m\u001b[1;33m(\u001b[0m\u001b[0mmax\u001b[0m\u001b[1;33m(\u001b[0m\u001b[0ml1\u001b[0m\u001b[1;33m)\u001b[0m\u001b[1;33m)\u001b[0m  \u001b[1;31m# error\u001b[0m\u001b[1;33m\u001b[0m\u001b[1;33m\u001b[0m\u001b[0m\n\u001b[0m",
      "\u001b[1;31mTypeError\u001b[0m: '>' not supported between instances of 'str' and 'float'"
     ]
    }
   ],
   "source": [
    "# max(list)\n",
    "l1 = [1,2,78,90,99]\n",
    "print(max(l1))\n",
    "\n",
    "l1 = [1.3, 'abcd', 'ASD', 'xyz', 234]\n",
    "print(max(l1))  # error"
   ]
  },
  {
   "cell_type": "code",
   "execution_count": 51,
   "metadata": {},
   "outputs": [
    {
     "name": "stdout",
     "output_type": "stream",
     "text": [
      "1\n",
      "270\n"
     ]
    }
   ],
   "source": [
    "# min(list)\n",
    "l1 = [1,2,78,90,99]\n",
    "print(min(l1))\n",
    "\n",
    "# sum of values of list\n",
    "print(sum(l1))"
   ]
  },
  {
   "cell_type": "code",
   "execution_count": 65,
   "metadata": {},
   "outputs": [
    {
     "name": "stdout",
     "output_type": "stream",
     "text": [
      "<class 'tuple'>\n",
      "<class 'list'>\n",
      "<class 'str'>\n",
      "<class 'list'>\n"
     ]
    }
   ],
   "source": [
    "# converting a tuple/string into list\n",
    "k = (1,2,3,4)\n",
    "print(type(k))\n",
    "l = [k]    # or list(k)\n",
    "print(type(l))\n",
    "string = 'hello'   # or list(string)\n",
    "print(type(string))\n",
    "l = [string]\n",
    "print(type(l))"
   ]
  },
  {
   "cell_type": "code",
   "execution_count": 62,
   "metadata": {},
   "outputs": [
    {
     "data": {
      "text/plain": [
       "[89, 12.34, 345, 306]"
      ]
     },
     "execution_count": 62,
     "metadata": {},
     "output_type": "execute_result"
    }
   ],
   "source": [
    "list"
   ]
  },
  {
   "cell_type": "code",
   "execution_count": 63,
   "metadata": {},
   "outputs": [],
   "source": [
    "del list"
   ]
  },
  {
   "cell_type": "code",
   "execution_count": 64,
   "metadata": {},
   "outputs": [
    {
     "data": {
      "text/plain": [
       "['h', 'e', 'l', 'l', 'o']"
      ]
     },
     "execution_count": 64,
     "metadata": {},
     "output_type": "execute_result"
    }
   ],
   "source": [
    "list('hello')"
   ]
  },
  {
   "cell_type": "markdown",
   "metadata": {},
   "source": [
    "## Built-in Methods\n",
    "\n",
    "* list.append()\n",
    "* list.count()\n",
    "* list.extend()\n",
    "* list.index()\n",
    "* list.insert()\n",
    "* list.pop()\n",
    "* list.remove()\n",
    "* list.reverse()\n",
    "* list.sort()"
   ]
  },
  {
   "cell_type": "code",
   "execution_count": 75,
   "metadata": {},
   "outputs": [
    {
     "name": "stdout",
     "output_type": "stream",
     "text": [
      "[1, 2, 3, 4]\n",
      "None\n"
     ]
    }
   ],
   "source": [
    "# append() - Appends a passed object into the existing list\n",
    "\n",
    "p = [1,2,3,4]\n",
    "print(p)\n",
    "k = p.append(8)\n",
    "print(k)"
   ]
  },
  {
   "cell_type": "code",
   "execution_count": 76,
   "metadata": {},
   "outputs": [
    {
     "name": "stdout",
     "output_type": "stream",
     "text": [
      "[1, 2, 3, 4]\n",
      "[1, 2, 3, 4, 8]\n"
     ]
    }
   ],
   "source": [
    "p = [1,2,3,4]\n",
    "print(p)\n",
    "p.append(8)\n",
    "print(p)"
   ]
  },
  {
   "cell_type": "code",
   "execution_count": 80,
   "metadata": {},
   "outputs": [
    {
     "name": "stdout",
     "output_type": "stream",
     "text": [
      "4\n",
      "2\n"
     ]
    }
   ],
   "source": [
    "# The count() method returns count of how many times obj occurs in list.\n",
    "p = [2,2,2,3,34,5,2,3]\n",
    "print(p.count(2))\n",
    "print(p.count(3))\n",
    "# This method returns count of how many times obj occurs in list."
   ]
  },
  {
   "cell_type": "code",
   "execution_count": 82,
   "metadata": {},
   "outputs": [
    {
     "name": "stdout",
     "output_type": "stream",
     "text": [
      "[1, 2, 3, 4, 5, 6, 7, 77]\n"
     ]
    }
   ],
   "source": [
    "# The extend() method appends the contents of seq to list.\n",
    "l1 = [1,2,3,4]\n",
    "l2 = [5,6,7,77]\n",
    "l1.extend(l2) \n",
    "# this method does not returns any value\n",
    "print(l1)"
   ]
  },
  {
   "cell_type": "code",
   "execution_count": 89,
   "metadata": {},
   "outputs": [
    {
     "name": "stdout",
     "output_type": "stream",
     "text": [
      "2\n",
      "3\n",
      "7\n"
     ]
    }
   ],
   "source": [
    "# The index() method returns the lowest index in list that obj appears.\n",
    "p = [1,42,2,2,3,34,5,2,3]\n",
    "print(p.index(2))   # 2\n",
    "\n",
    "k = p.index(2,3,5)  # 2 is number, 3 is start index, 5 is stop\n",
    "print(k)\n",
    "\n",
    "k = p.index(2,5,8)\n",
    "print(k)"
   ]
  },
  {
   "cell_type": "code",
   "execution_count": 92,
   "metadata": {},
   "outputs": [
    {
     "name": "stdout",
     "output_type": "stream",
     "text": [
      "[1, 'a', 2, 3, 4]\n",
      "[1, 'a', 2, 3, 'z', 4]\n"
     ]
    }
   ],
   "source": [
    "# The insert() method inserts object obj into list at offset index.\n",
    "l1 = [1,2,3,4]\n",
    "# inser 'a' at index 1\n",
    "l1.insert(1,'a')\n",
    "print(l1)\n",
    "\n",
    "l1.insert(4,'z')\n",
    "print(l1)\n",
    "#This method does not return any value but it inserts \n",
    "#the given element at the given index."
   ]
  },
  {
   "cell_type": "code",
   "execution_count": 97,
   "metadata": {},
   "outputs": [
    {
     "name": "stdout",
     "output_type": "stream",
     "text": [
      "4\n",
      "[1, 2, 3]\n",
      "2\n",
      "[1, 3]\n"
     ]
    }
   ],
   "source": [
    "# The pop() method removes and returns last object or obj from the list.\n",
    "l1 = [1,2,3,4]\n",
    "print(l1.pop())  # by default it pops last element\n",
    "print(l1)\n",
    "print(l1.pop(1))  # pops 2\n",
    "print(l1)"
   ]
  },
  {
   "cell_type": "code",
   "execution_count": 98,
   "metadata": {},
   "outputs": [
    {
     "name": "stdout",
     "output_type": "stream",
     "text": [
      "[1, 3, 4]\n",
      "['science', 'physics']\n",
      "['physics']\n"
     ]
    }
   ],
   "source": [
    "# the remove() removess the object from the list\n",
    "l1 = [1,2,3,4]\n",
    "l1.remove(2)  # removes 2\n",
    "print(l1)\n",
    "l1 = ['science', 'maths', 'physics']\n",
    "l1.remove('maths')\n",
    "print(l1)\n",
    "l1.remove('science')\n",
    "print(l1)\n",
    "# This method does not return any value \n",
    "# but removes the given object from the list."
   ]
  },
  {
   "cell_type": "code",
   "execution_count": 100,
   "metadata": {},
   "outputs": [
    {
     "name": "stdout",
     "output_type": "stream",
     "text": [
      "['physics', 'maths', 'science']\n"
     ]
    }
   ],
   "source": [
    "# The reverse() method reverses objects of list in place.\n",
    "l1 = ['science', 'maths', 'physics']\n",
    "l1.reverse()   # no parameters required\n",
    "print(l1)"
   ]
  },
  {
   "cell_type": "code",
   "execution_count": 103,
   "metadata": {},
   "outputs": [
    {
     "name": "stdout",
     "output_type": "stream",
     "text": [
      "['history', 'maths', 'physics', 'science']\n"
     ]
    },
    {
     "ename": "TypeError",
     "evalue": "'<' not supported between instances of 'str' and 'int'",
     "output_type": "error",
     "traceback": [
      "\u001b[1;31m---------------------------------------------------------------------------\u001b[0m",
      "\u001b[1;31mTypeError\u001b[0m                                 Traceback (most recent call last)",
      "\u001b[1;32m<ipython-input-103-92d18c903797>\u001b[0m in \u001b[0;36m<module>\u001b[1;34m\u001b[0m\n\u001b[0;32m      4\u001b[0m \u001b[0mprint\u001b[0m\u001b[1;33m(\u001b[0m\u001b[0ml1\u001b[0m\u001b[1;33m)\u001b[0m\u001b[1;33m\u001b[0m\u001b[1;33m\u001b[0m\u001b[0m\n\u001b[0;32m      5\u001b[0m \u001b[0ml1\u001b[0m \u001b[1;33m=\u001b[0m \u001b[1;33m[\u001b[0m\u001b[1;36m1\u001b[0m\u001b[1;33m,\u001b[0m \u001b[1;34m'as'\u001b[0m\u001b[1;33m,\u001b[0m \u001b[1;36m123\u001b[0m\u001b[1;33m,\u001b[0m \u001b[1;36m12.34\u001b[0m\u001b[1;33m,\u001b[0m \u001b[1;34m'acbg'\u001b[0m\u001b[1;33m]\u001b[0m   \u001b[1;31m# error\u001b[0m\u001b[1;33m\u001b[0m\u001b[1;33m\u001b[0m\u001b[0m\n\u001b[1;32m----> 6\u001b[1;33m \u001b[0ml1\u001b[0m\u001b[1;33m.\u001b[0m\u001b[0msort\u001b[0m\u001b[1;33m(\u001b[0m\u001b[1;33m)\u001b[0m\u001b[1;33m\u001b[0m\u001b[1;33m\u001b[0m\u001b[0m\n\u001b[0m\u001b[0;32m      7\u001b[0m \u001b[0mprint\u001b[0m\u001b[1;33m(\u001b[0m\u001b[0ml1\u001b[0m\u001b[1;33m)\u001b[0m\u001b[1;33m\u001b[0m\u001b[1;33m\u001b[0m\u001b[0m\n",
      "\u001b[1;31mTypeError\u001b[0m: '<' not supported between instances of 'str' and 'int'"
     ]
    }
   ],
   "source": [
    "# The sort() method sorts objects of list, use compare function if given.\n",
    "l1 = ['science', 'maths', 'physics', 'history']\n",
    "l1.sort()\n",
    "print(l1)\n",
    "l1 = [1, 'as', 123, 12.34, 'acbg']   # error\n",
    "l1.sort()\n",
    "print(l1)"
   ]
  },
  {
   "cell_type": "markdown",
   "metadata": {},
   "source": [
    "<center>\n",
    "    <h1>END OF CHAPTER 6</h1>\n",
    "</center>"
   ]
  }
 ],
 "metadata": {
  "kernelspec": {
   "display_name": "Python 3",
   "language": "python",
   "name": "python3"
  },
  "language_info": {
   "codemirror_mode": {
    "name": "ipython",
    "version": 3
   },
   "file_extension": ".py",
   "mimetype": "text/x-python",
   "name": "python",
   "nbconvert_exporter": "python",
   "pygments_lexer": "ipython3",
   "version": "3.7.6"
  }
 },
 "nbformat": 4,
 "nbformat_minor": 4
}

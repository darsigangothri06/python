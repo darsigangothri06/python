{
 "cells": [
  {
   "cell_type": "markdown",
   "metadata": {},
   "source": [
    "## _Variables and types_\n",
    "\n",
    "<span style = \"color:red\"><u>Values and Types1</u> </span>\n",
    "\n",
    "A _**value**_ is one of the basic things a program works with, like a letter or a number.\n",
    "\n",
    "These values belong to different types: integer, string or floating point number etc. <br>\n",
    "* strings are enlosed in ' ' or \" \"\n",
    "    "
   ]
  },
  {
   "cell_type": "code",
   "execution_count": 7,
   "metadata": {},
   "outputs": [
    {
     "name": "stdout",
     "output_type": "stream",
     "text": [
      "<class 'str'>\n",
      "<class 'str'>\n",
      "<class 'str'>\n",
      "<class 'str'>\n",
      "<class 'int'>\n",
      "<class 'float'>\n",
      "<class 'list'>\n",
      "<class 'tuple'>\n"
     ]
    }
   ],
   "source": [
    "#If you are not sure what type of a value has, the interpreter can tell you.\n",
    "\n",
    "print(type(\"Hello World\"))\n",
    "print(type('Hello world'))\n",
    "print(type('1'))\n",
    "print(type('2'))\n",
    "print(type(1))\n",
    "print(type(1.0))\n",
    "print(type([1,2,3]))\n",
    "print(type((1,2,3)))"
   ]
  },
  {
   "cell_type": "markdown",
   "metadata": {},
   "source": [
    "### _Variables_\n",
    "\n",
    "A <span style = \"color: red\">variable</span> is a name that refers to a value. \n",
    "\n",
    "An assignment statement creates new variables and gives them values\n",
    "\n",
    "* Variable names can be arbitrarily long.\n",
    "* They can contain both letters and numbers\n",
    "    * but they cannot start with a number.\n",
    "* The underscore character ( _ ) can appear in a name."
   ]
  },
  {
   "cell_type": "code",
   "execution_count": 8,
   "metadata": {},
   "outputs": [
    {
     "name": "stdout",
     "output_type": "stream",
     "text": [
      "<class 'str'>\n",
      "<class 'int'>\n",
      "<class 'float'>\n"
     ]
    }
   ],
   "source": [
    "fruit = \"Apple is a fruit\" # = assigns a string to variable\n",
    "num = 12   # = assigns an int to a variable\n",
    "_float = 15.67  # = assigns a floating point number to a variable\n",
    "\n",
    "print(type(fruit))\n",
    "print(type(num))\n",
    "print(type(_float))"
   ]
  },
  {
   "cell_type": "code",
   "execution_count": 10,
   "metadata": {},
   "outputs": [
    {
     "ename": "SyntaxError",
     "evalue": "invalid syntax (<ipython-input-10-349f92139be0>, line 3)",
     "output_type": "error",
     "traceback": [
      "\u001b[1;36m  File \u001b[1;32m\"<ipython-input-10-349f92139be0>\"\u001b[1;36m, line \u001b[1;32m3\u001b[0m\n\u001b[1;33m    12name = \"Hello\" # illegal because it begins with a number\u001b[0m\n\u001b[1;37m         ^\u001b[0m\n\u001b[1;31mSyntaxError\u001b[0m\u001b[1;31m:\u001b[0m invalid syntax\n"
     ]
    }
   ],
   "source": [
    "#If you give a variable an illegal name, you get a syntax error.\n",
    "\n",
    "12name = \"Hello\" # illegal because it begins with a number\n",
    "name@12 = \"Hii\" # illegal because it contains an illegal character, @"
   ]
  },
  {
   "cell_type": "markdown",
   "metadata": {},
   "source": [
    "The interpreter uses keywords to recognize the structure of the program, and they cannot be used as variable names.\n",
    "\n",
    "Python reserves **33 keywords**:"
   ]
  },
  {
   "cell_type": "code",
   "execution_count": 12,
   "metadata": {},
   "outputs": [
    {
     "name": "stdout",
     "output_type": "stream",
     "text": [
      "['False', 'None', 'True', 'and', 'as', 'assert', 'async', 'await', 'break', 'class', 'continue', 'def', 'del', 'elif', 'else', 'except', 'finally', 'for', 'from', 'global', 'if', 'import', 'in', 'is', 'lambda', 'nonlocal', 'not', 'or', 'pass', 'raise', 'return', 'try', 'while', 'with', 'yield']\n"
     ]
    }
   ],
   "source": [
    "import keyword\n",
    "print(keyword.kwlist)"
   ]
  },
  {
   "cell_type": "markdown",
   "metadata": {},
   "source": [
    "### _Statements_\n",
    "\n",
    "A statement is a unit of code that the Python interpreter can execute.\n",
    "\n",
    "If there is more than one statement, the results apper one at a time as the statement execute."
   ]
  },
  {
   "cell_type": "code",
   "execution_count": 14,
   "metadata": {},
   "outputs": [
    {
     "name": "stdout",
     "output_type": "stream",
     "text": [
      "789\n",
      "ABC\n"
     ]
    }
   ],
   "source": [
    "# assignment statement produces no output\n",
    "print(789)\n",
    "a = 'ABC'\n",
    "print(a)"
   ]
  },
  {
   "cell_type": "markdown",
   "metadata": {},
   "source": [
    "## Operators and Operands\n",
    "\n",
    "_Operators_ are special symbols that represent computations like addition and multiplication. The values the operator is applied to are called _operands._\n",
    "\n",
    "The operators +, -, *, /, * *  perform addition, subtraction, multiplication, divisionn and exponentiation. "
   ]
  },
  {
   "cell_type": "code",
   "execution_count": 15,
   "metadata": {},
   "outputs": [
    {
     "name": "stdout",
     "output_type": "stream",
     "text": [
      "5\n",
      "-1\n",
      "6\n",
      "0.6666666666666666\n",
      "8\n"
     ]
    }
   ],
   "source": [
    "print(2+3)\n",
    "print(2-3)\n",
    "print(2*3)\n",
    "print(2/3)\n",
    "print(2**3)"
   ]
  },
  {
   "cell_type": "markdown",
   "metadata": {},
   "source": [
    "The division operator in Python 2.0 would divide two integers and truncate the result to an integer. \n",
    "To obtain the same answer in Python 3.0, we use floored (// integer) division"
   ]
  },
  {
   "cell_type": "code",
   "execution_count": 16,
   "metadata": {},
   "outputs": [
    {
     "name": "stdout",
     "output_type": "stream",
     "text": [
      "0.6666666666666666\n",
      "0\n"
     ]
    }
   ],
   "source": [
    "print(2/3)\n",
    "print(2//3)"
   ]
  },
  {
   "cell_type": "markdown",
   "metadata": {},
   "source": [
    "### Expressions\n",
    "\n",
    "An _expression_ is a combination of values, variables and operators. \n",
    "\n",
    "An expression all by itself doesn't do anything."
   ]
  },
  {
   "cell_type": "code",
   "execution_count": 19,
   "metadata": {},
   "outputs": [],
   "source": [
    "x = 2 + 3 ** 2 - 10//3\n",
    "# does not give any output"
   ]
  },
  {
   "cell_type": "code",
   "execution_count": 21,
   "metadata": {},
   "outputs": [
    {
     "name": "stdout",
     "output_type": "stream",
     "text": [
      "8\n"
     ]
    }
   ],
   "source": [
    "x = 2 + 3 ** 2 - 10//3 # 2 + 9 - 10//3    2 + 9 - 3    2 + 6   8 \n",
    "print(x)"
   ]
  },
  {
   "cell_type": "markdown",
   "metadata": {},
   "source": [
    "## Order of operations\n",
    "\n",
    "When more than one operator appears in an expression, the order of evaluation depends on the rules of _**precedence**_. \n",
    "\n",
    "For mathematical operators, Python follows mathematical convention.\n",
    "The acronym **PEDMAS** is a useful way to remember the rules:\n",
    "\n",
    "* Parentheses have the highest precedence and can be used to force an expression to evaluate in the order you want.\n",
    "    * You can also use parantheses to make an expression easier to read\n",
    "* Exponentiation has the next highest precedence\n",
    "    * 3 ** 2 + 1 = 10 not  27\n",
    "* Multiplication and Division have the same  precedence, which is higher than Addition and Subtraction, which also have the same precedence.\n",
    "    * 2 * 2 - 1 = 3 not 2\n",
    "* Operators with **same precedence** are evaluated from **left to right.**\n",
    "\n",
    "**When in doubt, always put parantheses** in your expressions to make sure the computations are performed in the order you intend."
   ]
  },
  {
   "cell_type": "code",
   "execution_count": 22,
   "metadata": {},
   "outputs": [
    {
     "name": "stdout",
     "output_type": "stream",
     "text": [
      "10\n",
      "3\n"
     ]
    }
   ],
   "source": [
    "print(3**2+1)\n",
    "print(2*2-1)"
   ]
  },
  {
   "cell_type": "markdown",
   "metadata": {},
   "source": [
    "### Modulus operator\n",
    "\n",
    "The _modulus_ operator ( % ) works on integers and yeilds the **remainder** when the first operand is divided by the second.\n",
    "\n",
    "If the x % y results 0, then x is divisible by y. \n",
    "\n",
    "You can also extract the right most digit or digits from a number.\n",
    "\n",
    "a % 10 yeilds the right most digit of a.\n",
    "\n",
    "a % 100 yeilds the last two digits of a."
   ]
  },
  {
   "cell_type": "code",
   "execution_count": 26,
   "metadata": {},
   "outputs": [
    {
     "name": "stdout",
     "output_type": "stream",
     "text": [
      "1\n",
      "2\n",
      "0\n",
      "4\n",
      "34\n"
     ]
    }
   ],
   "source": [
    "print(3%2)\n",
    "print(10%8)\n",
    "print(4%2)\n",
    "\n",
    "print(1234%10)\n",
    "print(1234%100)"
   ]
  },
  {
   "cell_type": "markdown",
   "metadata": {},
   "source": [
    "## String operations\n",
    "\n",
    "The **+** operator works with strings, but it is not addition in the mathematical sense.\n",
    "\n",
    "Instead it performs _concatenation,_ which means joining the strings by linking them end to end."
   ]
  },
  {
   "cell_type": "code",
   "execution_count": 28,
   "metadata": {},
   "outputs": [
    {
     "name": "stdout",
     "output_type": "stream",
     "text": [
      "pencil\n"
     ]
    }
   ],
   "source": [
    "str1 = \"pen\"\n",
    "str2 = \"cil\"\n",
    "print(str1+str2) # pencil"
   ]
  },
  {
   "cell_type": "markdown",
   "metadata": {},
   "source": [
    "## Asking user for input\n",
    "\n",
    "Python provides a built-in function **input()** that gets input from the keyboard.\n",
    "\n",
    "When the user presses Enter or Return, the program resumes and input returns what the user typed as a string.\n",
    "\n",
    "You can pass a string to input to be displayed to the user before pausing for input"
   ]
  },
  {
   "cell_type": "code",
   "execution_count": 29,
   "metadata": {},
   "outputs": [
    {
     "name": "stdout",
     "output_type": "stream",
     "text": [
      "Enter your name: XYZ\n",
      "XYZ\n"
     ]
    }
   ],
   "source": [
    "name = input(\"Enter your name: \")\n",
    "print(name)"
   ]
  },
  {
   "cell_type": "markdown",
   "metadata": {},
   "source": [
    "If you expect the user to type an integer, you can try to convert the return value to integer using int(input()) function."
   ]
  },
  {
   "cell_type": "code",
   "execution_count": 30,
   "metadata": {},
   "outputs": [
    {
     "name": "stdout",
     "output_type": "stream",
     "text": [
      "Enter your age: seven\n"
     ]
    },
    {
     "ename": "ValueError",
     "evalue": "invalid literal for int() with base 10: 'seven'",
     "output_type": "error",
     "traceback": [
      "\u001b[1;31m---------------------------------------------------------------------------\u001b[0m",
      "\u001b[1;31mValueError\u001b[0m                                Traceback (most recent call last)",
      "\u001b[1;32m<ipython-input-30-c8822c180a60>\u001b[0m in \u001b[0;36m<module>\u001b[1;34m\u001b[0m\n\u001b[1;32m----> 1\u001b[1;33m \u001b[0mage\u001b[0m \u001b[1;33m=\u001b[0m \u001b[0mint\u001b[0m\u001b[1;33m(\u001b[0m\u001b[0minput\u001b[0m\u001b[1;33m(\u001b[0m\u001b[1;34m\"Enter your age: \"\u001b[0m\u001b[1;33m)\u001b[0m\u001b[1;33m)\u001b[0m \u001b[1;31m#seven\u001b[0m\u001b[1;33m\u001b[0m\u001b[1;33m\u001b[0m\u001b[0m\n\u001b[0m\u001b[0;32m      2\u001b[0m \u001b[0mprint\u001b[0m\u001b[1;33m(\u001b[0m\u001b[0mage\u001b[0m\u001b[1;33m)\u001b[0m  \u001b[1;31m# error\u001b[0m\u001b[1;33m\u001b[0m\u001b[1;33m\u001b[0m\u001b[0m\n",
      "\u001b[1;31mValueError\u001b[0m: invalid literal for int() with base 10: 'seven'"
     ]
    }
   ],
   "source": [
    "age = int(input(\"Enter your age: \")) #seven\n",
    "print(age)  # error"
   ]
  },
  {
   "cell_type": "code",
   "execution_count": 31,
   "metadata": {},
   "outputs": [
    {
     "name": "stdout",
     "output_type": "stream",
     "text": [
      "Enter your age: 17\n",
      "17\n"
     ]
    }
   ],
   "source": [
    "age = int(input(\"Enter your age: \"))\n",
    "print(age) "
   ]
  },
  {
   "cell_type": "markdown",
   "metadata": {},
   "source": [
    "## Comments\n",
    "\n",
    "Comments are most useful when they document non-obvious features of the code.\n",
    "\n",
    "* Single line comments \n",
    "    * Starts with #\n",
    "* Multi Line comments\n",
    "    * Starts with \"\"\" and ends with \"\"\"\n"
   ]
  },
  {
   "cell_type": "code",
   "execution_count": 36,
   "metadata": {},
   "outputs": [],
   "source": [
    "# This is a comment"
   ]
  },
  {
   "cell_type": "markdown",
   "metadata": {},
   "source": [
    "<hr>\n",
    "Write a program that uses input to prompt a user for their name and then welcomes them.\n",
    "\n",
    "Enter you name: <br>\n",
    "Hello Tom"
   ]
  },
  {
   "cell_type": "code",
   "execution_count": 37,
   "metadata": {},
   "outputs": [
    {
     "name": "stdout",
     "output_type": "stream",
     "text": [
      "Enter you name: Tom\n",
      "Hello Tom\n"
     ]
    }
   ],
   "source": [
    "name = input(\"Enter you name: \")\n",
    "print(\"Hello \" + name)"
   ]
  },
  {
   "cell_type": "markdown",
   "metadata": {},
   "source": [
    "<hr>\n",
    "Write a program to prompt user for hours and rate per hour to compute gross pay. \n",
    "\n",
    "Enter Hours: 35 <br>\n",
    "Enter Rate: 2.75 <br>\n",
    "Pay: 96.25"
   ]
  },
  {
   "cell_type": "code",
   "execution_count": 38,
   "metadata": {},
   "outputs": [
    {
     "name": "stdout",
     "output_type": "stream",
     "text": [
      "Enter Hours: 35\n",
      "Enter Rate: 2.75\n"
     ]
    },
    {
     "ename": "TypeError",
     "evalue": "can only concatenate str (not \"float\") to str",
     "output_type": "error",
     "traceback": [
      "\u001b[1;31m---------------------------------------------------------------------------\u001b[0m",
      "\u001b[1;31mTypeError\u001b[0m                                 Traceback (most recent call last)",
      "\u001b[1;32m<ipython-input-38-eea89306a339>\u001b[0m in \u001b[0;36m<module>\u001b[1;34m\u001b[0m\n\u001b[0;32m      2\u001b[0m \u001b[0mrate\u001b[0m \u001b[1;33m=\u001b[0m \u001b[0mfloat\u001b[0m\u001b[1;33m(\u001b[0m\u001b[0minput\u001b[0m\u001b[1;33m(\u001b[0m\u001b[1;34m\"Enter Rate: \"\u001b[0m\u001b[1;33m)\u001b[0m\u001b[1;33m)\u001b[0m\u001b[1;33m\u001b[0m\u001b[1;33m\u001b[0m\u001b[0m\n\u001b[0;32m      3\u001b[0m \u001b[0mpay\u001b[0m \u001b[1;33m=\u001b[0m \u001b[0mhours\u001b[0m \u001b[1;33m*\u001b[0m \u001b[0mrate\u001b[0m\u001b[1;33m\u001b[0m\u001b[1;33m\u001b[0m\u001b[0m\n\u001b[1;32m----> 4\u001b[1;33m \u001b[0mprint\u001b[0m\u001b[1;33m(\u001b[0m\u001b[1;34m\"Pay: \"\u001b[0m \u001b[1;33m+\u001b[0m \u001b[0mpay\u001b[0m\u001b[1;33m)\u001b[0m\u001b[1;33m\u001b[0m\u001b[1;33m\u001b[0m\u001b[0m\n\u001b[0m",
      "\u001b[1;31mTypeError\u001b[0m: can only concatenate str (not \"float\") to str"
     ]
    }
   ],
   "source": [
    "hours = int(input(\"Enter Hours: \"))\n",
    "rate = float(input(\"Enter Rate: \"))\n",
    "pay = hours * rate\n",
    "print(\"Pay: \" + pay)"
   ]
  },
  {
   "cell_type": "code",
   "execution_count": 40,
   "metadata": {},
   "outputs": [
    {
     "name": "stdout",
     "output_type": "stream",
     "text": [
      "Enter Hours: 35\n",
      "Enter Rate: 2.75\n",
      "Pay: 96.25\n"
     ]
    }
   ],
   "source": [
    "hours = int(input(\"Enter Hours: \"))\n",
    "rate = float(input(\"Enter Rate: \"))\n",
    "pay = hours * rate\n",
    "print(\"Pay: \" + str(pay))"
   ]
  },
  {
   "cell_type": "code",
   "execution_count": 41,
   "metadata": {},
   "outputs": [
    {
     "name": "stdout",
     "output_type": "stream",
     "text": [
      "Enter Hours: 35\n",
      "Enter Rate: 2.75\n",
      "Pay: 96\n"
     ]
    }
   ],
   "source": [
    "#using round function\n",
    "\n",
    "hours = int(input(\"Enter Hours: \"))\n",
    "rate = float(input(\"Enter Rate: \"))\n",
    "pay = round(hours * rate)\n",
    "print(\"Pay: \" + str(pay))"
   ]
  },
  {
   "cell_type": "markdown",
   "metadata": {},
   "source": [
    "<hr>\n",
    "Assume that we execute the following assignment statements:\n",
    "\n",
    "width = 17 <br>\n",
    "height = 12.0\n",
    "\n",
    "For each of the following expressions, write the value of the expression and the type of the expression.\n",
    "<ol>\n",
    "    <li>width // 2</li>\n",
    "    <li>width // 2.0</li>\n",
    "    <li>width / 2.0</li>\n",
    "    <li>height / 3</li>\n",
    "    <li>1 + 2 * 5</li>\n",
    "</ol>"
   ]
  },
  {
   "cell_type": "code",
   "execution_count": 45,
   "metadata": {},
   "outputs": [
    {
     "name": "stdout",
     "output_type": "stream",
     "text": [
      "Enter an integer: 17\n",
      "Enter a fractional value: 12.0\n",
      "8\n",
      "<class 'int'>\n",
      "8.0\n",
      "<class 'float'>\n",
      "8.5\n",
      "<class 'float'>\n",
      "4.0\n",
      "<class 'float'>\n",
      "11\n"
     ]
    }
   ],
   "source": [
    "width = int(input(\"Enter an integer: \"))  # 17\n",
    "height = float(input(\"Enter a fractional value: \")) # 12.0\n",
    "\n",
    "a = width // 2   # int divided by int gives int\n",
    "b = width // 2.0  # int divided by float gives integer value as float\n",
    "c = width / 2.0   # int divided by float gives float\n",
    "d = height / 3  # float divided by int gives float\n",
    "e = 1 + 2 * 5   #   1 + 10    11\n",
    "\n",
    "print(a)   # 8\n",
    "print(type(a))  # int\n",
    "print(b)  # 8.0\n",
    "print(type(b)) #float\n",
    "print(c)  # 8.5\n",
    "print(type(c))  #float\n",
    "print(d)  # 4.0\n",
    "print(type(d)) # float\n",
    "print(e) # 11"
   ]
  },
  {
   "cell_type": "code",
   "execution_count": 46,
   "metadata": {},
   "outputs": [
    {
     "name": "stdout",
     "output_type": "stream",
     "text": [
      "Enter an integer: 17\n",
      "Enter a fractional value: 12.0\n",
      "8\n",
      "<class 'int'>\n",
      "8.0\n",
      "<class 'float'>\n",
      "8.5\n",
      "<class 'float'>\n",
      "4.0\n",
      "<class 'float'>\n",
      "11\n"
     ]
    }
   ],
   "source": [
    "width = int(input(\"Enter an integer: \"))  # 17\n",
    "height = float(input(\"Enter a fractional value: \")) # 12.0\n",
    "\n",
    "print((width // 2))   # 8\n",
    "print(type(width // 2))  # int\n",
    "print(width // 2.0)  # 8.0\n",
    "print(type(width // 2.0)) #float\n",
    "print(width / 2.0)  # 8.5\n",
    "print(type(width / 2.0))  #float\n",
    "print(height / 3)  # 4.0\n",
    "print(type(height / 3)) # float\n",
    "print(1 + 2 * 5) # 11"
   ]
  },
  {
   "cell_type": "markdown",
   "metadata": {},
   "source": [
    "<hr>\n",
    "Write a program which prompts the user for a Celsius temperature, convert the temperature to Fahrenheit, and print out the converted temperature\n",
    "\n",
    "fahrenheit = (celsius * 1.8) + 32"
   ]
  },
  {
   "cell_type": "code",
   "execution_count": 53,
   "metadata": {},
   "outputs": [
    {
     "name": "stdout",
     "output_type": "stream",
     "text": [
      "Enter temperature in Celcius: 37.5\n",
      "37.5 degrees Celcius is 99.5 degrees in Fahrenheit\n"
     ]
    }
   ],
   "source": [
    "celcius = float(input(\"Enter temperature in Celcius: \"))\n",
    "\n",
    "fahrenheit = celcius * 1.8  + 32\n",
    "\n",
    "print(str(celcius) + \" degrees Celcius is \" + str(fahrenheit) + \" degrees in Fahrenheit\")"
   ]
  },
  {
   "cell_type": "markdown",
   "metadata": {},
   "source": [
    "<center>\n",
    "    <h1>END OF CHAPTER 1</h1>\n",
    "</center>"
   ]
  }
 ],
 "metadata": {
  "kernelspec": {
   "display_name": "Python 3",
   "language": "python",
   "name": "python3"
  },
  "language_info": {
   "codemirror_mode": {
    "name": "ipython",
    "version": 3
   },
   "file_extension": ".py",
   "mimetype": "text/x-python",
   "name": "python",
   "nbconvert_exporter": "python",
   "pygments_lexer": "ipython3",
   "version": "3.7.6"
  }
 },
 "nbformat": 4,
 "nbformat_minor": 4
}

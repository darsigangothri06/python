{
 "cells": [
  {
   "cell_type": "markdown",
   "id": "99bd6d70",
   "metadata": {},
   "source": [
    "### Itertools Module"
   ]
  },
  {
   "cell_type": "code",
   "execution_count": 1,
   "id": "44c183b7",
   "metadata": {},
   "outputs": [
    {
     "name": "stdout",
     "output_type": "stream",
     "text": [
      "['__doc__', '__loader__', '__name__', '__package__', '__spec__', '_grouper', '_tee', '_tee_dataobject', 'accumulate', 'chain', 'combinations', 'combinations_with_replacement', 'compress', 'count', 'cycle', 'dropwhile', 'filterfalse', 'groupby', 'islice', 'pairwise', 'permutations', 'product', 'repeat', 'starmap', 'takewhile', 'tee', 'zip_longest']\n"
     ]
    }
   ],
   "source": [
    "import itertools\n",
    "print(dir(itertools))"
   ]
  },
  {
   "cell_type": "markdown",
   "id": "b537b563",
   "metadata": {},
   "source": [
    "### Itertools Methods:\n",
    "* accumulate()\n",
    "* chain()\n",
    "* combinations()\n",
    "* combinations_with_replacement()\n",
    "* compress()\n",
    "* count()\n",
    "* cycle()\n",
    "* dropwhile()\n",
    "* filterfalse()\n",
    "* groupby()\n",
    "* islice()\n",
    "* permutations()\n",
    "* product()\n",
    "* repeat()\n",
    "* starmap()\n",
    "* takewhile()\n",
    "* tee()\n",
    "* zip_longest()"
   ]
  },
  {
   "cell_type": "markdown",
   "id": "009a98ea",
   "metadata": {},
   "source": [
    "### accumulate()\n",
    "\n",
    "#### Accumulate function in itertools module accumulates the iterables based on the function(func) provided to it as an argument.\n",
    "\n",
    "* If func is not provided to it then by default it adds the iterables.\n",
    "* The function(func) provided to this function should accept two variables and return the result. \n",
    "\n",
    "**Syntax:** `itertools.accumulate(iterable[,func])`\n",
    "\n",
    "**Parameters:**\n",
    "* Iterable: Required (List,string,tuple,dict etc)\n",
    "* Function: Optional (By default it takes, addition)"
   ]
  },
  {
   "cell_type": "code",
   "execution_count": 5,
   "id": "aeda5c84",
   "metadata": {},
   "outputs": [
    {
     "name": "stdout",
     "output_type": "stream",
     "text": [
      "[1, 3, 6, 10]\n"
     ]
    }
   ],
   "source": [
    "# by default accumulate method takes function as addition\n",
    "L = [1,2,3,4]\n",
    "k = list(itertools.accumulate(L))  # no function parameter\n",
    "print(k)"
   ]
  },
  {
   "cell_type": "code",
   "execution_count": 8,
   "id": "7376ed72",
   "metadata": {},
   "outputs": [
    {
     "name": "stdout",
     "output_type": "stream",
     "text": [
      "[1, 2, 6, 24]\n"
     ]
    }
   ],
   "source": [
    "def mul(a,b): #multiplication of two numbers - it must have exactly 2 args\n",
    "    return a*b\n",
    "L = [1,2,3,4]\n",
    "k = list(itertools.accumulate(L,mul))\n",
    "print(k)"
   ]
  },
  {
   "cell_type": "code",
   "execution_count": 10,
   "id": "8589f4c8",
   "metadata": {},
   "outputs": [
    {
     "ename": "TypeError",
     "evalue": "mul() missing 1 required positional argument: 'c'",
     "output_type": "error",
     "traceback": [
      "\u001b[1;31m---------------------------------------------------------------------------\u001b[0m",
      "\u001b[1;31mTypeError\u001b[0m                                 Traceback (most recent call last)",
      "\u001b[1;32m~\\AppData\\Local\\Temp/ipykernel_5892/3073107174.py\u001b[0m in \u001b[0;36m<module>\u001b[1;34m\u001b[0m\n\u001b[0;32m      2\u001b[0m     \u001b[1;32mreturn\u001b[0m \u001b[0ma\u001b[0m\u001b[1;33m*\u001b[0m\u001b[0mb\u001b[0m\u001b[1;33m*\u001b[0m\u001b[0mc\u001b[0m\u001b[1;33m\u001b[0m\u001b[1;33m\u001b[0m\u001b[0m\n\u001b[0;32m      3\u001b[0m \u001b[0mL\u001b[0m \u001b[1;33m=\u001b[0m \u001b[1;33m[\u001b[0m\u001b[1;36m1\u001b[0m\u001b[1;33m,\u001b[0m\u001b[1;36m2\u001b[0m\u001b[1;33m,\u001b[0m\u001b[1;36m3\u001b[0m\u001b[1;33m,\u001b[0m\u001b[1;36m4\u001b[0m\u001b[1;33m]\u001b[0m\u001b[1;33m\u001b[0m\u001b[1;33m\u001b[0m\u001b[0m\n\u001b[1;32m----> 4\u001b[1;33m \u001b[0mk\u001b[0m \u001b[1;33m=\u001b[0m \u001b[0mlist\u001b[0m\u001b[1;33m(\u001b[0m\u001b[0mitertools\u001b[0m\u001b[1;33m.\u001b[0m\u001b[0maccumulate\u001b[0m\u001b[1;33m(\u001b[0m\u001b[0mL\u001b[0m\u001b[1;33m,\u001b[0m\u001b[0mmul\u001b[0m\u001b[1;33m)\u001b[0m\u001b[1;33m)\u001b[0m \u001b[1;31m# accumulate passes only 2 args -- missing one positinal arg\u001b[0m\u001b[1;33m\u001b[0m\u001b[1;33m\u001b[0m\u001b[0m\n\u001b[0m\u001b[0;32m      5\u001b[0m \u001b[0mprint\u001b[0m\u001b[1;33m(\u001b[0m\u001b[0mk\u001b[0m\u001b[1;33m)\u001b[0m\u001b[1;33m\u001b[0m\u001b[1;33m\u001b[0m\u001b[0m\n",
      "\u001b[1;31mTypeError\u001b[0m: mul() missing 1 required positional argument: 'c'"
     ]
    }
   ],
   "source": [
    "def mul(a,b,c): #Error\n",
    "    return a*b*c\n",
    "L = [1,2,3,4]\n",
    "k = list(itertools.accumulate(L,mul)) # accumulate passes only 2 args -- missing one positinal arg\n",
    "print(k)"
   ]
  },
  {
   "cell_type": "code",
   "execution_count": 11,
   "id": "66062d07",
   "metadata": {},
   "outputs": [
    {
     "name": "stdout",
     "output_type": "stream",
     "text": [
      "['__abs__', '__add__', '__all__', '__and__', '__builtins__', '__cached__', '__concat__', '__contains__', '__delitem__', '__doc__', '__eq__', '__file__', '__floordiv__', '__ge__', '__getitem__', '__gt__', '__iadd__', '__iand__', '__iconcat__', '__ifloordiv__', '__ilshift__', '__imatmul__', '__imod__', '__imul__', '__index__', '__inv__', '__invert__', '__ior__', '__ipow__', '__irshift__', '__isub__', '__itruediv__', '__ixor__', '__le__', '__loader__', '__lshift__', '__lt__', '__matmul__', '__mod__', '__mul__', '__name__', '__ne__', '__neg__', '__not__', '__or__', '__package__', '__pos__', '__pow__', '__rshift__', '__setitem__', '__spec__', '__sub__', '__truediv__', '__xor__', '_abs', 'abs', 'add', 'and_', 'attrgetter', 'concat', 'contains', 'countOf', 'delitem', 'eq', 'floordiv', 'ge', 'getitem', 'gt', 'iadd', 'iand', 'iconcat', 'ifloordiv', 'ilshift', 'imatmul', 'imod', 'imul', 'index', 'indexOf', 'inv', 'invert', 'ior', 'ipow', 'irshift', 'is_', 'is_not', 'isub', 'itemgetter', 'itruediv', 'ixor', 'le', 'length_hint', 'lshift', 'lt', 'matmul', 'methodcaller', 'mod', 'mul', 'ne', 'neg', 'not_', 'or_', 'pos', 'pow', 'rshift', 'setitem', 'sub', 'truediv', 'truth', 'xor']\n"
     ]
    }
   ],
   "source": [
    "import operator\n",
    "print(dir(operator))"
   ]
  },
  {
   "cell_type": "code",
   "execution_count": 12,
   "id": "1649601d",
   "metadata": {},
   "outputs": [
    {
     "name": "stdout",
     "output_type": "stream",
     "text": [
      "[1, 2, 6, 24, 120, 720]\n"
     ]
    }
   ],
   "source": [
    "L = [1,2,3,4,5,6]\n",
    "k = list(itertools.accumulate(L,operator.mul))\n",
    "print(k)"
   ]
  },
  {
   "cell_type": "code",
   "execution_count": 13,
   "id": "26582028",
   "metadata": {},
   "outputs": [
    {
     "name": "stdout",
     "output_type": "stream",
     "text": [
      "[100, 100, 45, 45, 45, 34]\n"
     ]
    }
   ],
   "source": [
    "L = [100,230,45,899,90,34]\n",
    "# to find running minimum \n",
    "k = list(itertools.accumulate(L,min))\n",
    "print(k)"
   ]
  },
  {
   "cell_type": "code",
   "execution_count": 14,
   "id": "333143b5",
   "metadata": {},
   "outputs": [
    {
     "name": "stdout",
     "output_type": "stream",
     "text": [
      "[100, 230, 230, 899, 899, 899]\n"
     ]
    }
   ],
   "source": [
    "# Finding running maximum\n",
    "L = [100,230,45,899,90,34]\n",
    "k = list(itertools.accumulate(L,max))\n",
    "print(k)"
   ]
  },
  {
   "cell_type": "markdown",
   "id": "ac78baf0",
   "metadata": {},
   "source": [
    "## chain()\n",
    "\n",
    "* It is a function that takes a series of iterables and returns one iterable. \n",
    "* It groups all the iterables together and produces a single iterable as output.\n",
    "\n",
    "**Syntax :**\n",
    "`chain(*iterables)`"
   ]
  },
  {
   "cell_type": "code",
   "execution_count": 18,
   "id": "3932a102",
   "metadata": {},
   "outputs": [
    {
     "name": "stdout",
     "output_type": "stream",
     "text": [
      "['__class__', '__class_getitem__', '__delattr__', '__dir__', '__doc__', '__eq__', '__format__', '__ge__', '__getattribute__', '__gt__', '__hash__', '__init__', '__init_subclass__', '__iter__', '__le__', '__lt__', '__ne__', '__new__', '__next__', '__reduce__', '__reduce_ex__', '__repr__', '__setattr__', '__setstate__', '__sizeof__', '__str__', '__subclasshook__', 'from_iterable']\n"
     ]
    }
   ],
   "source": [
    "print(dir(itertools.chain))"
   ]
  },
  {
   "cell_type": "code",
   "execution_count": 20,
   "id": "f806b813",
   "metadata": {},
   "outputs": [
    {
     "name": "stdout",
     "output_type": "stream",
     "text": [
      "['a', 'b', 'c', 'd', 1, 2, 3, 4]\n"
     ]
    }
   ],
   "source": [
    "L1 = ['a','b','c','d']\n",
    "L2 = [1,2,3,4]\n",
    "K = list(itertools.chain(L1,L2)) # ['a','b','c','d',1,2,3,4]\n",
    "print(K)"
   ]
  },
  {
   "cell_type": "code",
   "execution_count": 21,
   "id": "a6cae6e1",
   "metadata": {},
   "outputs": [
    {
     "name": "stdout",
     "output_type": "stream",
     "text": [
      "['g', 'q', 'h', 'o', 13, 12, 36, 34]\n"
     ]
    }
   ],
   "source": [
    "L1 = ['g','q','h','o']\n",
    "L2 = [13,12,36,34]\n",
    "K = list(itertools.chain(L1,L2)) # ['a','b','c','d',1,2,3,4]\n",
    "print(K)"
   ]
  },
  {
   "cell_type": "markdown",
   "id": "cca7015d",
   "metadata": {},
   "source": [
    "#### Each String is considered to be an iterable and each character in it is considered to be an element in the iterator. Thus every character is yielded"
   ]
  },
  {
   "cell_type": "code",
   "execution_count": 22,
   "id": "faf54352",
   "metadata": {},
   "outputs": [
    {
     "name": "stdout",
     "output_type": "stream",
     "text": [
      "['a', 'b', 'c', 'd', 'e', 'f', 'g', 'h', 'i']\n"
     ]
    }
   ],
   "source": [
    "K = list(itertools.chain('abc','def','ghi'))\n",
    "print(K)"
   ]
  },
  {
   "cell_type": "code",
   "execution_count": 43,
   "id": "3d344f51",
   "metadata": {},
   "outputs": [
    {
     "name": "stdout",
     "output_type": "stream",
     "text": [
      "[1, 2]\n"
     ]
    }
   ],
   "source": [
    "K = list(itertools.chain({1:'a',2:'b'})) # it gives us list of keys\n",
    "# by default dictionary keys are taken\n",
    "print(K)"
   ]
  },
  {
   "cell_type": "code",
   "execution_count": 29,
   "id": "56635719",
   "metadata": {},
   "outputs": [
    {
     "name": "stdout",
     "output_type": "stream",
     "text": [
      "['a', 'b']\n"
     ]
    }
   ],
   "source": [
    "K = list(itertools.chain({1:'a',2:'b'}.values())) # it gives us list of values\n",
    "print(K)"
   ]
  },
  {
   "cell_type": "code",
   "execution_count": 33,
   "id": "1d82c5cf",
   "metadata": {},
   "outputs": [
    {
     "name": "stdout",
     "output_type": "stream",
     "text": [
      "[(1, 'a'), (2, 'b')]\n",
      "<class 'tuple'>\n"
     ]
    }
   ],
   "source": [
    "K = list(itertools.chain({1:'a',2:'b'}.items())) # it gives us list of items(tuple)\n",
    "print(K)\n",
    "print(type(K[0]))"
   ]
  },
  {
   "cell_type": "code",
   "execution_count": 37,
   "id": "375cfc8d",
   "metadata": {},
   "outputs": [
    {
     "name": "stdout",
     "output_type": "stream",
     "text": [
      "[1, 2, 3, 4, 89, 90, 123]\n"
     ]
    }
   ],
   "source": [
    "K = list(itertools.chain({1,2,3,4},{89,123,90})) # it gives us list of items(tuple)\n",
    "print(K)"
   ]
  },
  {
   "cell_type": "markdown",
   "id": "7029f459",
   "metadata": {},
   "source": [
    "### chain.from_iterable()\n",
    "This function takes a single iterable as an argument and all the elements of the input iterable should also be iterable and it returns a flattened iterable containing all the elements of the input iterable."
   ]
  },
  {
   "cell_type": "code",
   "execution_count": 42,
   "id": "6dde47ad",
   "metadata": {},
   "outputs": [
    {
     "name": "stdout",
     "output_type": "stream",
     "text": [
      "['h', 'e', 'l', 'l', 'o', 'h', 'i', 'A', 'B', 'C', 1, 2, 3, 4, 40, 10, 20, 30, 100, 200]\n"
     ]
    }
   ],
   "source": [
    "P = list(itertools.chain.from_iterable(('hello','hi','ABC',[1,2,3,4],{10,20,30,40},{100:'a',200:'b'})))\n",
    "print(P)"
   ]
  },
  {
   "cell_type": "code",
   "execution_count": 45,
   "id": "ed2fa1d9",
   "metadata": {},
   "outputs": [
    {
     "ename": "TypeError",
     "evalue": "'int' object is not iterable",
     "output_type": "error",
     "traceback": [
      "\u001b[1;31m---------------------------------------------------------------------------\u001b[0m",
      "\u001b[1;31mTypeError\u001b[0m                                 Traceback (most recent call last)",
      "\u001b[1;32m~\\AppData\\Local\\Temp/ipykernel_5892/1534141509.py\u001b[0m in \u001b[0;36m<module>\u001b[1;34m\u001b[0m\n\u001b[1;32m----> 1\u001b[1;33m \u001b[0mP\u001b[0m \u001b[1;33m=\u001b[0m \u001b[0mlist\u001b[0m\u001b[1;33m(\u001b[0m\u001b[0mitertools\u001b[0m\u001b[1;33m.\u001b[0m\u001b[0mchain\u001b[0m\u001b[1;33m.\u001b[0m\u001b[0mfrom_iterable\u001b[0m\u001b[1;33m(\u001b[0m\u001b[1;36m123\u001b[0m\u001b[1;33m)\u001b[0m\u001b[1;33m)\u001b[0m \u001b[1;31m# error\u001b[0m\u001b[1;33m\u001b[0m\u001b[1;33m\u001b[0m\u001b[0m\n\u001b[0m\u001b[0;32m      2\u001b[0m \u001b[0mprint\u001b[0m\u001b[1;33m(\u001b[0m\u001b[0mP\u001b[0m\u001b[1;33m)\u001b[0m\u001b[1;33m\u001b[0m\u001b[1;33m\u001b[0m\u001b[0m\n",
      "\u001b[1;31mTypeError\u001b[0m: 'int' object is not iterable"
     ]
    }
   ],
   "source": [
    "P = list(itertools.chain.from_iterable(123)) # error\n",
    "print(P)"
   ]
  },
  {
   "cell_type": "markdown",
   "id": "1b54f674",
   "metadata": {},
   "source": [
    "### combinations()\n",
    "`itertools.combinations()` provides us with all the `possible tuples` a sequence or set of numbers or letters used in the iterator and the elements are assumed to be unique on the basis of there positions which are distinct for all elements. \n",
    "<br>\n",
    "All these combinations are emitted in lexicographical order.\n",
    "\n",
    "**Syntax:** `combinations(iterable,r)`\n",
    "* r is the size of the combination that are possible - Required argument"
   ]
  },
  {
   "cell_type": "code",
   "execution_count": 47,
   "id": "5e1d4def",
   "metadata": {},
   "outputs": [
    {
     "name": "stdout",
     "output_type": "stream",
     "text": [
      "[('a', 'p', 'p', 'l'), ('a', 'p', 'p', 'e'), ('a', 'p', 'l', 'e'), ('a', 'p', 'l', 'e'), ('p', 'p', 'l', 'e')]\n"
     ]
    }
   ],
   "source": [
    "name = 'apple'\n",
    "List = list(itertools.combinations(name,4)) # 4 letter combination of string name\n",
    "print(List)"
   ]
  },
  {
   "cell_type": "code",
   "execution_count": 48,
   "id": "1de8b02e",
   "metadata": {},
   "outputs": [
    {
     "name": "stdout",
     "output_type": "stream",
     "text": [
      "['appl', 'appe', 'aple', 'aple', 'pple']\n"
     ]
    }
   ],
   "source": [
    "# converting as list of strings\n",
    "name = 'apple'\n",
    "List = list(''.join(i) for i in itertools.combinations(name,4)) # 4 letter combination of string name\n",
    "print(List)"
   ]
  },
  {
   "cell_type": "code",
   "execution_count": 50,
   "id": "df14bce4",
   "metadata": {},
   "outputs": [
    {
     "name": "stdout",
     "output_type": "stream",
     "text": [
      "['ab', 'ac', 'ad', 'bc', 'bd', 'cd']\n"
     ]
    }
   ],
   "source": [
    "name = 'abcd'\n",
    "List = list(''.join(i) for i in itertools.combinations(name,2))\n",
    "print(List)"
   ]
  },
  {
   "cell_type": "code",
   "execution_count": 51,
   "id": "99572723",
   "metadata": {},
   "outputs": [
    {
     "name": "stdout",
     "output_type": "stream",
     "text": [
      "['abc', 'abd', 'acd', 'bcd']\n"
     ]
    }
   ],
   "source": [
    "name = 'abcd'\n",
    "List = list(''.join(i) for i in itertools.combinations(name,3))\n",
    "print(List)"
   ]
  },
  {
   "cell_type": "code",
   "execution_count": 52,
   "id": "6e46bf1f",
   "metadata": {},
   "outputs": [
    {
     "name": "stdout",
     "output_type": "stream",
     "text": [
      "['a', 'b', 'c', 'd']\n"
     ]
    }
   ],
   "source": [
    "name = 'abcd'\n",
    "List = list(''.join(i) for i in itertools.combinations(name,1))\n",
    "print(List)"
   ]
  },
  {
   "cell_type": "code",
   "execution_count": 53,
   "id": "ebecdc6d",
   "metadata": {},
   "outputs": [
    {
     "name": "stdout",
     "output_type": "stream",
     "text": [
      "['abcd']\n"
     ]
    }
   ],
   "source": [
    "name = 'abcd'\n",
    "List = list(''.join(i) for i in itertools.combinations(name,4))\n",
    "print(List)"
   ]
  },
  {
   "cell_type": "code",
   "execution_count": 55,
   "id": "2037dc20",
   "metadata": {},
   "outputs": [
    {
     "ename": "TypeError",
     "evalue": "combinations() missing required argument 'r' (pos 2)",
     "output_type": "error",
     "traceback": [
      "\u001b[1;31m---------------------------------------------------------------------------\u001b[0m",
      "\u001b[1;31mTypeError\u001b[0m                                 Traceback (most recent call last)",
      "\u001b[1;32m~\\AppData\\Local\\Temp/ipykernel_5892/2112420335.py\u001b[0m in \u001b[0;36m<module>\u001b[1;34m\u001b[0m\n\u001b[0;32m      1\u001b[0m \u001b[0mname\u001b[0m \u001b[1;33m=\u001b[0m \u001b[1;34m'abcd'\u001b[0m\u001b[1;33m\u001b[0m\u001b[1;33m\u001b[0m\u001b[0m\n\u001b[1;32m----> 2\u001b[1;33m \u001b[0mList\u001b[0m \u001b[1;33m=\u001b[0m \u001b[0mlist\u001b[0m\u001b[1;33m(\u001b[0m\u001b[1;34m''\u001b[0m\u001b[1;33m.\u001b[0m\u001b[0mjoin\u001b[0m\u001b[1;33m(\u001b[0m\u001b[0mi\u001b[0m\u001b[1;33m)\u001b[0m \u001b[1;32mfor\u001b[0m \u001b[0mi\u001b[0m \u001b[1;32min\u001b[0m \u001b[0mitertools\u001b[0m\u001b[1;33m.\u001b[0m\u001b[0mcombinations\u001b[0m\u001b[1;33m(\u001b[0m\u001b[0mname\u001b[0m\u001b[1;33m)\u001b[0m\u001b[1;33m)\u001b[0m \u001b[1;31m# missing argument r\u001b[0m\u001b[1;33m\u001b[0m\u001b[1;33m\u001b[0m\u001b[0m\n\u001b[0m\u001b[0;32m      3\u001b[0m \u001b[0mprint\u001b[0m\u001b[1;33m(\u001b[0m\u001b[0mList\u001b[0m\u001b[1;33m)\u001b[0m\u001b[1;33m\u001b[0m\u001b[1;33m\u001b[0m\u001b[0m\n",
      "\u001b[1;31mTypeError\u001b[0m: combinations() missing required argument 'r' (pos 2)"
     ]
    }
   ],
   "source": [
    "name = 'abcd'\n",
    "List = list(''.join(i) for i in itertools.combinations(name)) # missing argument r\n",
    "print(List)"
   ]
  },
  {
   "cell_type": "code",
   "execution_count": 60,
   "id": "9e434289",
   "metadata": {},
   "outputs": [
    {
     "name": "stdout",
     "output_type": "stream",
     "text": [
      "[(0,), (1,), (2,)]\n"
     ]
    }
   ],
   "source": [
    "List = list(itertools.combinations(range(3),1))\n",
    "print(List)"
   ]
  },
  {
   "cell_type": "markdown",
   "id": "eda7ee1f",
   "metadata": {},
   "source": [
    "### combinations_with_replacement()\n",
    "\n",
    "* It returns r - length tuples in sorted order with repeated elements "
   ]
  },
  {
   "cell_type": "code",
   "execution_count": 63,
   "id": "b9cfbebd",
   "metadata": {},
   "outputs": [
    {
     "name": "stdout",
     "output_type": "stream",
     "text": [
      "['aa', 'ab', 'ac', 'ad', 'bb', 'bc', 'bd', 'cc', 'cd', 'dd']\n"
     ]
    }
   ],
   "source": [
    "name = 'abcd'\n",
    "List = list(''.join(i) for i in itertools.combinations_with_replacement((name),2))\n",
    "print(List)"
   ]
  },
  {
   "cell_type": "code",
   "execution_count": 64,
   "id": "e2da83d2",
   "metadata": {},
   "outputs": [
    {
     "name": "stdout",
     "output_type": "stream",
     "text": [
      "['a', 'b']\n"
     ]
    }
   ],
   "source": [
    "name = 'ab'\n",
    "List = list(''.join(i) for i in itertools.combinations_with_replacement((name),1))\n",
    "print(List)"
   ]
  },
  {
   "cell_type": "code",
   "execution_count": 65,
   "id": "093c8c0a",
   "metadata": {},
   "outputs": [
    {
     "name": "stdout",
     "output_type": "stream",
     "text": [
      "['aa', 'ab', 'ac', 'bb', 'bc', 'cc']\n"
     ]
    }
   ],
   "source": [
    "name = 'abc'\n",
    "List = list(''.join(i) for i in itertools.combinations_with_replacement((name),2))\n",
    "print(List)"
   ]
  },
  {
   "cell_type": "code",
   "execution_count": 66,
   "id": "58343d79",
   "metadata": {},
   "outputs": [
    {
     "name": "stdout",
     "output_type": "stream",
     "text": [
      "['aaa', 'aab', 'aac', 'aad', 'abb', 'abc', 'abd', 'acc', 'acd', 'add', 'bbb', 'bbc', 'bbd', 'bcc', 'bcd', 'bdd', 'ccc', 'ccd', 'cdd', 'ddd']\n"
     ]
    }
   ],
   "source": [
    "name = 'abcd'\n",
    "List = list(''.join(i) for i in itertools.combinations_with_replacement((name),3))\n",
    "print(List)"
   ]
  },
  {
   "cell_type": "code",
   "execution_count": 68,
   "id": "ea0a3be4",
   "metadata": {},
   "outputs": [
    {
     "name": "stdout",
     "output_type": "stream",
     "text": [
      "[(1, 1), (1, 2), (2, 2)]\n"
     ]
    }
   ],
   "source": [
    "Dict = {1:'a',2:'b'}\n",
    "List = list(itertools.combinations_with_replacement((Dict),2))\n",
    "print(List)"
   ]
  },
  {
   "cell_type": "markdown",
   "id": "78f099ee",
   "metadata": {},
   "source": [
    "### compress()\n",
    "\n",
    "This iterator selectively picks the values to print from the passed container according to the boolean list value passed as other arguments. <br>\n",
    "The arguments corresponding to boolean true are printed else all are skipped.\n",
    "\n",
    "In this, we give two parameters to the function. \n",
    "* The first parameter will the iterator and the second parameter will be a selector either True/1 or False/0. \n",
    "**Syntax:**\n",
    "`compress(iter, selector)`"
   ]
  },
  {
   "cell_type": "code",
   "execution_count": 74,
   "id": "dfce089d",
   "metadata": {},
   "outputs": [
    {
     "name": "stdout",
     "output_type": "stream",
     "text": [
      "['C', 'Python', 'JAVA']\n"
     ]
    }
   ],
   "source": [
    "L1 = ['C','C++','Python','JAVA']\n",
    "L2 = [1,0,1,1]\n",
    "List = list(itertools.compress(L1,L2))\n",
    "print(List)"
   ]
  },
  {
   "cell_type": "code",
   "execution_count": 75,
   "id": "dff6e0bd",
   "metadata": {},
   "outputs": [
    {
     "name": "stdout",
     "output_type": "stream",
     "text": [
      "['C', 'Python', 'JAVA']\n"
     ]
    }
   ],
   "source": [
    "L1 = ['C','C++','Python','JAVA']\n",
    "L2 = [True,False,True,True]\n",
    "List = list(itertools.compress(L1,L2))\n",
    "print(List)"
   ]
  },
  {
   "cell_type": "code",
   "execution_count": 76,
   "id": "22880548",
   "metadata": {},
   "outputs": [
    {
     "name": "stdout",
     "output_type": "stream",
     "text": [
      "['C', 'Python']\n"
     ]
    }
   ],
   "source": [
    "L1 = ['C','C++','Python','JAVA']\n",
    "L2 = [True,False,True]\n",
    "List = list(itertools.compress(L1,L2))\n",
    "print(List)"
   ]
  },
  {
   "cell_type": "code",
   "execution_count": 77,
   "id": "0ffdde46",
   "metadata": {},
   "outputs": [
    {
     "name": "stdout",
     "output_type": "stream",
     "text": [
      "['C', 'Python', 'JAVA']\n"
     ]
    }
   ],
   "source": [
    "L1 = ['C','C++','Python','JAVA']\n",
    "L2 = [True,False,True,True,True]\n",
    "List = list(itertools.compress(L1,L2))\n",
    "print(List)"
   ]
  },
  {
   "cell_type": "code",
   "execution_count": 78,
   "id": "263c8eb5",
   "metadata": {},
   "outputs": [
    {
     "name": "stdout",
     "output_type": "stream",
     "text": [
      "['C', 'Python']\n"
     ]
    }
   ],
   "source": [
    "L1 = ['C','C++','Python']\n",
    "L2 = [True,False,True,True]\n",
    "List = list(itertools.compress(L1,L2))\n",
    "print(List)"
   ]
  },
  {
   "cell_type": "markdown",
   "id": "c52b3ed6",
   "metadata": {},
   "source": [
    "### count()\n",
    "The `count(start, step)` is used to generate evenly-spaced values, where the space between them is defined by the step argument. \n",
    "* The start argument defines the starting value of the iterator - and these are set to start = 0 and step = 1 by default.\n",
    "\n",
    "Without a breaking condition, `the count() function will continue counting indefinitely` (on a system with indefinite memory)\n",
    "\n",
    "**Syntax:** `count(start, step)`"
   ]
  },
  {
   "cell_type": "code",
   "execution_count": 80,
   "id": "6e0abc10",
   "metadata": {},
   "outputs": [
    {
     "name": "stdout",
     "output_type": "stream",
     "text": [
      "8\n",
      "18\n",
      "28\n"
     ]
    }
   ],
   "source": [
    "for i in itertools.count(start = 8, step = 10):\n",
    "    if i == 38:\n",
    "        break\n",
    "    print(i)"
   ]
  },
  {
   "cell_type": "code",
   "execution_count": 81,
   "id": "7f40114e",
   "metadata": {},
   "outputs": [
    {
     "name": "stdout",
     "output_type": "stream",
     "text": [
      "(0, 'a')\n",
      "(1, 'b')\n",
      "(2, 'c')\n",
      "(3, 'd')\n"
     ]
    }
   ],
   "source": [
    "L = ['a','b','c','d']\n",
    "for i in zip(itertools.count(),L):\n",
    "    print(i)"
   ]
  },
  {
   "cell_type": "markdown",
   "id": "c83a5c8c",
   "metadata": {},
   "source": [
    "### cycle()\n",
    "The cycle() function accepts an iterable and generates an iterator, which contains all of the iterable's elements. In addition to these elements, it contains a copy of each element.\n",
    "\n",
    "Once we iterate through to the end of the elemenst, we start iterating through the copies. While iterating through the copies, new copies are made. Once the first set of copies runs out - we iterate through the new set.\n",
    "\n",
    "This process is repeated indefinitely."
   ]
  },
  {
   "cell_type": "code",
   "execution_count": 1,
   "id": "1b5060f7",
   "metadata": {},
   "outputs": [],
   "source": [
    "# print(list(itertools.cycle('this')))"
   ]
  },
  {
   "cell_type": "markdown",
   "id": "c25ecb8f",
   "metadata": {},
   "source": [
    "### dropwhile()\n",
    "\n",
    "The `dropwhile()` function `returns an iterator` only after the function in argument `returns false` for the first time.\n",
    "\n",
    "**Syntax:** `dropwhile(func, seq)`"
   ]
  },
  {
   "cell_type": "code",
   "execution_count": 13,
   "id": "051203b0",
   "metadata": {},
   "outputs": [
    {
     "name": "stdout",
     "output_type": "stream",
     "text": [
      "['abc', '345']\n"
     ]
    }
   ],
   "source": [
    "import itertools\n",
    "L = ['123','abc','345'] # starts giving output from 'abc' since it returns False\n",
    "def grt(s):\n",
    "    return s.isdigit()\n",
    "List = list(itertools.dropwhile(grt,L)) # 'abc'\n",
    "print(List)"
   ]
  },
  {
   "cell_type": "code",
   "execution_count": 14,
   "id": "f62dc69f",
   "metadata": {},
   "outputs": [
    {
     "name": "stdout",
     "output_type": "stream",
     "text": [
      "[]\n"
     ]
    }
   ],
   "source": [
    "import itertools\n",
    "L = ['123','12345','345'] # gives empty list since any element do not returns False\n",
    "def grt(s):\n",
    "    return s.isdigit()\n",
    "List = list(itertools.dropwhile(grt,L)) # 'abc'\n",
    "print(List)"
   ]
  },
  {
   "cell_type": "code",
   "execution_count": 18,
   "id": "f3876a7d",
   "metadata": {},
   "outputs": [
    {
     "name": "stdout",
     "output_type": "stream",
     "text": [
      "['abc', '345', 'abcdg']\n"
     ]
    }
   ],
   "source": [
    "import itertools\n",
    "L = ['123','abc','345','abcdg'] # gives empty list since any element do not returns False\n",
    "def grt(s):\n",
    "    return s.isdigit()\n",
    "List = list(itertools.dropwhile(grt,L)) # 'abc'\n",
    "print(List)\n",
    "# after an element returns false, it returns all the elements after this without checking the condition"
   ]
  },
  {
   "cell_type": "code",
   "execution_count": 21,
   "id": "7997e84c",
   "metadata": {},
   "outputs": [
    {
     "name": "stdout",
     "output_type": "stream",
     "text": [
      "[0, -2, -3, -1, 2, 67]\n"
     ]
    }
   ],
   "source": [
    "L = [1,2,3,0,-2,-3,-1,2,67] # at 0, our condition returns False and gives all the elements after 0\n",
    "def grt(s):\n",
    "    return s > 0\n",
    "List = list(itertools.dropwhile(grt,L))\n",
    "print(List)"
   ]
  },
  {
   "cell_type": "markdown",
   "id": "7ed793f7",
   "metadata": {},
   "source": [
    "### filterfalse()\n",
    "This iterator `prints only values that return false` for the passed function.\n",
    "\n",
    "**Syntax:** `filterfalse(function or None, sequence)`\n",
    "\n",
    "Parameters: This method contains two arguments\n",
    "* The first argument is function or None and the second argument is a sequence. <br>\n",
    "\n",
    "Return Value: This method returns the only values that return false for the passed function."
   ]
  },
  {
   "cell_type": "code",
   "execution_count": 23,
   "id": "ef2af02a",
   "metadata": {},
   "outputs": [
    {
     "name": "stdout",
     "output_type": "stream",
     "text": [
      "[-2, -6, 0, -3]\n"
     ]
    }
   ],
   "source": [
    "L = [-2,-6,0,78,9,10,-3]\n",
    "K = list(itertools.filterfalse(lambda x: x > 0,L))\n",
    "print(K)"
   ]
  },
  {
   "cell_type": "code",
   "execution_count": 28,
   "id": "91af66a1",
   "metadata": {},
   "outputs": [
    {
     "name": "stdout",
     "output_type": "stream",
     "text": [
      "['abc', 'abcdg']\n"
     ]
    }
   ],
   "source": [
    "L = ['123','abc','345','abcdg'] \n",
    "def grt(s):\n",
    "    return s.isdigit()\n",
    "List = list(itertools.filterfalse(grt,L)) \n",
    "print(List)"
   ]
  },
  {
   "cell_type": "code",
   "execution_count": 30,
   "id": "bce77497",
   "metadata": {},
   "outputs": [
    {
     "name": "stdout",
     "output_type": "stream",
     "text": [
      "[1, 2, 3, 4]\n"
     ]
    }
   ],
   "source": [
    "L = {1:'a',2:'b',3:'c',4:'d'}\n",
    "def grt(s):\n",
    "    return s < 0\n",
    "List = list(itertools.filterfalse(grt,L)) \n",
    "print(List)"
   ]
  },
  {
   "cell_type": "code",
   "execution_count": 33,
   "id": "7f24bec6",
   "metadata": {},
   "outputs": [
    {
     "name": "stdout",
     "output_type": "stream",
     "text": [
      "['a', 'b', 'c', 'd']\n"
     ]
    }
   ],
   "source": [
    "L = {1:'a',2:'b',3:'c',4:'d'}\n",
    "def grt(s):\n",
    "    return s.isdigit()\n",
    "List = list(itertools.filterfalse(grt,L.values())) \n",
    "print(List)"
   ]
  },
  {
   "cell_type": "markdown",
   "id": "7063b93e",
   "metadata": {},
   "source": [
    "### groupby()\n",
    "This method calculates the keys for each element present in iterable. It returns key and iterable of grouped items.\n",
    "\n",
    "**Syntax: `itertools.groupby(iterable, key_func)`**\n",
    "\n",
    "**Parameters:**\n",
    "* `iterable`:  Iterable can be of any kind (list, tuple, dictionary).\n",
    "* `key`: A function that calculates keys for each element present in iterable.\n",
    "\n",
    "**Return type:**\n",
    "It returns consecutive keys and groups from the iterable. If the key function is not specified or is None, key defaults to an identity function and returns the element unchanged.\n"
   ]
  },
  {
   "cell_type": "code",
   "execution_count": 20,
   "id": "3700eadc",
   "metadata": {},
   "outputs": [
    {
     "name": "stdout",
     "output_type": "stream",
     "text": [
      "a [('a', 2)]\n",
      "b [('b', 2)]\n",
      "a [('a', 34)]\n",
      "b [('b', 45), ('b', 345)]\n"
     ]
    }
   ],
   "source": [
    "import itertools\n",
    "\n",
    "L = [('a',2),('b',2),('a',34),('b',45),('b',345)]\n",
    "k = lambda x: x[0]\n",
    "for p,q in itertools.groupby(L,k):\n",
    "    print(p,list(q))"
   ]
  },
  {
   "cell_type": "code",
   "execution_count": 7,
   "id": "a02d7137",
   "metadata": {},
   "outputs": [
    {
     "name": "stdout",
     "output_type": "stream",
     "text": [
      "2 [[2, 34], [2, 45]]\n",
      "6 [[6, 989], [6, 193], [6, 8991]]\n",
      "1 [[1, 23]]\n"
     ]
    }
   ],
   "source": [
    "P = [[2,34],[2,45],[6,989],[6,193],[6,8991],[1,23]]\n",
    "k = lambda x: x[0]\n",
    "for p,q in itertools.groupby(P,k):\n",
    "    print(p,list(q))"
   ]
  },
  {
   "cell_type": "code",
   "execution_count": 8,
   "id": "e083cf60",
   "metadata": {},
   "outputs": [
    {
     "name": "stdout",
     "output_type": "stream",
     "text": [
      "34 [[2, 34]]\n",
      "45 [[2, 45]]\n",
      "989 [[6, 989]]\n",
      "193 [[6, 193]]\n",
      "8991 [[6, 8991]]\n",
      "23 [[1, 23]]\n"
     ]
    }
   ],
   "source": [
    "P = [[2,34],[2,45],[6,989],[6,193],[6,8991],[1,23]]\n",
    "k = lambda x: x[1]\n",
    "for p,q in itertools.groupby(P,k):\n",
    "    print(p,list(q))"
   ]
  },
  {
   "cell_type": "code",
   "execution_count": 19,
   "id": "3587e8e8",
   "metadata": {},
   "outputs": [
    {
     "name": "stdout",
     "output_type": "stream",
     "text": [
      "1 [1]\n",
      "0 [2, 2, 2]\n",
      "1 [3]\n",
      "0 [4, 2, 4]\n",
      "1 [7]\n",
      "0 [8]\n",
      "1 [9, 1, 1, 1]\n"
     ]
    }
   ],
   "source": [
    "P = [1,2,2,2,3,4,2,4,7,8,9,1,1,1] \n",
    "k = lambda x:x%2\n",
    "for p,q in itertools.groupby(P,k):\n",
    "    print(p,list(q))"
   ]
  },
  {
   "cell_type": "code",
   "execution_count": 22,
   "id": "6e7c89b2",
   "metadata": {},
   "outputs": [
    {
     "name": "stdout",
     "output_type": "stream",
     "text": [
      "1 [1]\n",
      "2 [2, 2, 2]\n",
      "3 [3]\n",
      "4 [4, 4, 4]\n",
      "2 [2]\n",
      "4 [4]\n",
      "7 [7]\n",
      "8 [8]\n",
      "9 [9]\n",
      "1 [1, 1, 1]\n"
     ]
    }
   ],
   "source": [
    "P = [1,2,2,2,3,4,4,4,2,4,7,8,9,1,1,1] \n",
    "for p,q in itertools.groupby(P):\n",
    "    print(p,list(q))"
   ]
  },
  {
   "cell_type": "markdown",
   "id": "75e0848c",
   "metadata": {},
   "source": [
    "### islice()\n",
    "\n",
    "This iterator selectively prints the values mentioned in its iterable container passed as an argument.\n",
    "\n",
    "**Syntax: `islice(iterable, start, stop, step)`**\n",
    "\n",
    "* `islice(iterable, stop)` \n",
    "* `islice(iterable, start, stop[, step])` <br>\n",
    "\n",
    "**Return Type** : <br>\n",
    " `Returns an iterator` whose next() method returns selected values from an iterable.\n",
    "* If start is specified, will skip all preceding elements otherwise, <br>\n",
    "`start defaults to zero` <br>\n",
    "`Step defaults to one` <br>\n",
    "If specified as another value, step determines how many values are skipped between successive calls.  \n",
    "Works like a slice() on a list but returns an iterator."
   ]
  },
  {
   "cell_type": "code",
   "execution_count": 23,
   "id": "68713457",
   "metadata": {},
   "outputs": [
    {
     "name": "stdout",
     "output_type": "stream",
     "text": [
      "0\n",
      "1\n",
      "2\n",
      "3\n",
      "4\n"
     ]
    }
   ],
   "source": [
    "for i in itertools.islice(range(10),5):   # here 5 is the stop value\n",
    "    print(i)"
   ]
  },
  {
   "cell_type": "code",
   "execution_count": 24,
   "id": "c6429835",
   "metadata": {},
   "outputs": [
    {
     "name": "stdout",
     "output_type": "stream",
     "text": [
      "23\n",
      "56\n",
      "89\n",
      "12\n",
      "90\n"
     ]
    }
   ],
   "source": [
    "L = [23,56,89,12,90,234,890]\n",
    "for i in itertools.islice(L,5): # 5 is the stop value\n",
    "    print(i)"
   ]
  },
  {
   "cell_type": "code",
   "execution_count": 26,
   "id": "d2d32861",
   "metadata": {},
   "outputs": [
    {
     "name": "stdout",
     "output_type": "stream",
     "text": [
      "23\n",
      "56\n",
      "89\n",
      "12\n"
     ]
    }
   ],
   "source": [
    "# slicing the list\n",
    "L = [23,56,89,12,90,234,890]\n",
    "for i in itertools.islice(L,0,4): # 0 is start and 4 is stop\n",
    "    print(i)"
   ]
  },
  {
   "cell_type": "code",
   "execution_count": 29,
   "id": "9533a492",
   "metadata": {},
   "outputs": [
    {
     "name": "stdout",
     "output_type": "stream",
     "text": [
      "23\n",
      "56\n",
      "89\n",
      "12\n",
      "90\n",
      "234\n",
      "890\n",
      "1\n"
     ]
    }
   ],
   "source": [
    "# slicing the list\n",
    "L = [23,56,89,12,90,234,890,1,12]\n",
    "for i in itertools.islice(L,0,8): # 0 is start, 8 is stop and 2 is step\n",
    "    print(i)"
   ]
  },
  {
   "cell_type": "markdown",
   "id": "d1fda78c",
   "metadata": {},
   "source": [
    "### permutations()\n",
    "\n",
    "`This method returns successive length permutations of elements in an iterable.`\n",
    "\n",
    "If is not specified or is None, `then defaults to the length of the iterable`, and all possible full length permutations are generated.\n",
    "\n",
    "Permutations are printed in a lexicographic sorted order.\n",
    "\n",
    "So, if the input iterable is sorted, the permutation tuples will be produced in a sorted order.\n",
    "\n",
    "**Syntax**: `permutations(iterable, r=None)`\n",
    "* r - length of the permutation needed"
   ]
  },
  {
   "cell_type": "code",
   "execution_count": 31,
   "id": "22b9f17d",
   "metadata": {},
   "outputs": [
    {
     "name": "stdout",
     "output_type": "stream",
     "text": [
      "(0, 1)\n",
      "(0, 2)\n",
      "(1, 0)\n",
      "(1, 2)\n",
      "(2, 0)\n",
      "(2, 1)\n"
     ]
    }
   ],
   "source": [
    "L = [0,1,2]\n",
    "for i in itertools.permutations(L,2):  # length is 2\n",
    "    print(i)"
   ]
  },
  {
   "cell_type": "code",
   "execution_count": 32,
   "id": "ac069c53",
   "metadata": {},
   "outputs": [
    {
     "name": "stdout",
     "output_type": "stream",
     "text": [
      "(0, 1, 2)\n",
      "(0, 2, 1)\n",
      "(1, 0, 2)\n",
      "(1, 2, 0)\n",
      "(2, 0, 1)\n",
      "(2, 1, 0)\n"
     ]
    }
   ],
   "source": [
    "L = [0,1,2]\n",
    "for i in itertools.permutations(L):  # by default r is len(L) = 3\n",
    "    print(i)"
   ]
  },
  {
   "cell_type": "code",
   "execution_count": 33,
   "id": "6fa614d9",
   "metadata": {},
   "outputs": [
    {
     "name": "stdout",
     "output_type": "stream",
     "text": [
      "(0, 1)\n",
      "(0, 2)\n",
      "(1, 2)\n"
     ]
    }
   ],
   "source": [
    "# combinations does not print both (0,1) and (1,0)\n",
    "L = [0,1,2]\n",
    "for i in itertools.combinations(L,2):  # length is 2\n",
    "    print(i)"
   ]
  },
  {
   "cell_type": "code",
   "execution_count": 39,
   "id": "e8393425",
   "metadata": {},
   "outputs": [
    {
     "name": "stdout",
     "output_type": "stream",
     "text": [
      "('a', 'b', 'c')\n",
      "('a', 'c', 'b')\n",
      "('b', 'a', 'c')\n",
      "('b', 'c', 'a')\n",
      "('c', 'a', 'b')\n",
      "('c', 'b', 'a')\n"
     ]
    }
   ],
   "source": [
    "L = list('abc')\n",
    "for i in itertools.permutations(L,3):  # length is 3 -- they are printed in lexicographical order (alphabetical order)\n",
    "    print(i)"
   ]
  },
  {
   "cell_type": "markdown",
   "id": "dc931b1a",
   "metadata": {},
   "source": [
    "### product()\n",
    "\n",
    "**Syntax:**  **`product(*iterables, repeat=1)`**\n",
    "\n",
    "* Cartesian product of input iterables.  Equivalent to nested for-loops. <br>\n",
    "\n",
    "For example, product(A, B) returns the same as:   <br>\n",
    " `((x,y) for x in A for y in B)` <br>\n",
    "The leftmost iterators are in the outermost for-loop, so the output tuples cycle in a manner similar to an odometer (with the rightmost element changing on every iteration).\n",
    "\n",
    "To compute the `product of an iterable with itself`, specify the number of repetitions with the optional `**repeat**` keyword argument. \n",
    "\n",
    "For example, `product(A, repeat=4)` means the same as product(A, A, A, A).\n",
    "\n",
    "```\n",
    "product('ab', range(3)) --> ('a',0) ('a',1) ('a',2) ('b',0) ('b',1) ('b',2)\n",
    "product((0,1), (0,1), (0,1)) --> (0,0,0) (0,0,1) (0,1,0) (0,1,1) (1,0,0) ...\n",
    "```"
   ]
  },
  {
   "cell_type": "code",
   "execution_count": 47,
   "id": "f4d9bb76",
   "metadata": {},
   "outputs": [
    {
     "name": "stdout",
     "output_type": "stream",
     "text": [
      "a 1 , a 2 , a 3 , b 1 , b 2 , b 3 , c 1 , c 2 , c 3 , "
     ]
    }
   ],
   "source": [
    "import itertools\n",
    "\n",
    "for i in itertools.product('abc',[1,2,3]):\n",
    "    print(*i, end = ' , ')"
   ]
  },
  {
   "cell_type": "code",
   "execution_count": 48,
   "id": "53c1fb7d",
   "metadata": {},
   "outputs": [
    {
     "name": "stdout",
     "output_type": "stream",
     "text": [
      "a 0 , b 0 , c 0 , "
     ]
    }
   ],
   "source": [
    "for i in itertools.product('abc',range(1)):\n",
    "    print(*i,end = ' , ')"
   ]
  },
  {
   "cell_type": "code",
   "execution_count": 51,
   "id": "bf2fc84f",
   "metadata": {},
   "outputs": [
    {
     "name": "stdout",
     "output_type": "stream",
     "text": [
      "('0', '0');('0', '1');('0', '2');('0', '3');('0', '4');('0', '5');('0', '6');('0', '7');('0', '8');('0', '9');('1', '0');('1', '1');('1', '2');('1', '3');('1', '4');('1', '5');('1', '6');('1', '7');('1', '8');('1', '9');('2', '0');('2', '1');('2', '2');('2', '3');('2', '4');('2', '5');('2', '6');('2', '7');('2', '8');('2', '9');('3', '0');('3', '1');('3', '2');('3', '3');('3', '4');('3', '5');('3', '6');('3', '7');('3', '8');('3', '9');('4', '0');('4', '1');('4', '2');('4', '3');('4', '4');('4', '5');('4', '6');('4', '7');('4', '8');('4', '9');('5', '0');('5', '1');('5', '2');('5', '3');('5', '4');('5', '5');('5', '6');('5', '7');('5', '8');('5', '9');('6', '0');('6', '1');('6', '2');('6', '3');('6', '4');('6', '5');('6', '6');('6', '7');('6', '8');('6', '9');('7', '0');('7', '1');('7', '2');('7', '3');('7', '4');('7', '5');('7', '6');('7', '7');('7', '8');('7', '9');('8', '0');('8', '1');('8', '2');('8', '3');('8', '4');('8', '5');('8', '6');('8', '7');('8', '8');('8', '9');('9', '0');('9', '1');('9', '2');('9', '3');('9', '4');('9', '5');('9', '6');('9', '7');('9', '8');('9', '9');"
     ]
    }
   ],
   "source": [
    "import string\n",
    "# we are importing string module to get digits 0123456789 by digit method\n",
    "for i in itertools.product(string.digits,repeat = 2):  # repeating each char 2 times\n",
    "    print(i, end = ';')  # 0,0 to 9,9 total 10*10 = 100 combinations"
   ]
  },
  {
   "cell_type": "code",
   "execution_count": 59,
   "id": "0ccfc533",
   "metadata": {},
   "outputs": [
    {
     "name": "stdout",
     "output_type": "stream",
     "text": [
      "USING PRODUCT\n",
      "(1, 9) (1, 10) (1, 11) (2, 9) (2, 10) (2, 11) (3, 9) (3, 10) (3, 11) \n",
      "USING GROUPBY\n",
      "1 [(1, 9), (1, 10), (1, 11)]\n",
      "2 [(2, 9), (2, 10), (2, 11)]\n",
      "3 [(3, 9), (3, 10), (3, 11)]\n"
     ]
    }
   ],
   "source": [
    "arr1 = [1,2,3]\n",
    "arr2 = [9,10,11]\n",
    "L = []\n",
    "print(\"USING PRODUCT\")\n",
    "for i in itertools.product(arr1,arr2):\n",
    "    print(i,end = ' ')\n",
    "    L.append(i)\n",
    "print()\n",
    "print(\"USING GROUPBY\")\n",
    "for k,l in itertools.groupby(L,lambda x: x[0]):\n",
    "    print(k,list(l))\n"
   ]
  },
  {
   "cell_type": "markdown",
   "id": "bcc9d252",
   "metadata": {},
   "source": [
    "### repeat()\n",
    "\n",
    "**Syntax:** **`repeat(object [,times])`**\n",
    "-> create an iterator which returns the object for the specified number of times.   <br>\n",
    "* If not specified, returns the object endlessly.\n",
    "\n",
    "**Parameters:**\n",
    "* val: The value to be printed.\n",
    "* num: If the optional keyword num is mentioned, then it repeatedly prints the passed value num number of times, otherwise prints the passed value infinite number of times."
   ]
  },
  {
   "cell_type": "code",
   "execution_count": 60,
   "id": "e71338d7",
   "metadata": {},
   "outputs": [
    {
     "name": "stdout",
     "output_type": "stream",
     "text": [
      "a\n",
      "a\n",
      "a\n"
     ]
    }
   ],
   "source": [
    "for i in itertools.repeat('a',3):\n",
    "    print(i)"
   ]
  },
  {
   "cell_type": "code",
   "execution_count": 61,
   "id": "09aaa174",
   "metadata": {},
   "outputs": [
    {
     "name": "stdout",
     "output_type": "stream",
     "text": [
      "[25, 25, 25]\n"
     ]
    }
   ],
   "source": [
    "print(list(itertools.repeat(25,3)))"
   ]
  },
  {
   "cell_type": "markdown",
   "id": "db10e4bc",
   "metadata": {},
   "source": [
    "### starmap()\n",
    " \n",
    "**Syntax:** **`starmap(function, iterable, /)`** <br>\n",
    "\n",
    "Returns an `iterator whose values are returned from the function evaluated with an argument` tuple taken from the given sequence."
   ]
  },
  {
   "cell_type": "code",
   "execution_count": 64,
   "id": "d6d5f7d1",
   "metadata": {},
   "outputs": [
    {
     "name": "stdout",
     "output_type": "stream",
     "text": [
      "8\n",
      "16\n",
      "25\n"
     ]
    }
   ],
   "source": [
    "L = [(2,3),(4,2),(5,2)]\n",
    "# finding powers\n",
    "\n",
    "for i in itertools.starmap(pow,L):  # pow() takes 2 parameters and gives us power\n",
    "    print(i)"
   ]
  },
  {
   "cell_type": "code",
   "execution_count": 65,
   "id": "806949a7",
   "metadata": {},
   "outputs": [
    {
     "name": "stdout",
     "output_type": "stream",
     "text": [
      "3\n",
      "4\n",
      "9\n"
     ]
    }
   ],
   "source": [
    "from operator import add\n",
    "L = [(1,2),(1,3),(1,8)]\n",
    "for i in itertools.starmap(add,L):\n",
    "    print(i)"
   ]
  },
  {
   "cell_type": "code",
   "execution_count": 69,
   "id": "b7b3d5ca",
   "metadata": {},
   "outputs": [
    {
     "name": "stdout",
     "output_type": "stream",
     "text": [
      "1\n",
      "2\n",
      "6\n"
     ]
    }
   ],
   "source": [
    "L = [[19,2],[11,3],[14,8]]\n",
    "def eve(n,a):\n",
    "    return n%a\n",
    "for i in itertools.starmap(eve,L):\n",
    "    print(i)"
   ]
  },
  {
   "cell_type": "markdown",
   "id": "f450d6e2",
   "metadata": {},
   "source": [
    "### takewhile()\n",
    "\n",
    "**Syntax:** **`takewhile(predicate, iterable, /)`**\n",
    "\n",
    "`Returns successive entries from an iterable as long as the predicate evaluates to true for each entry.`"
   ]
  },
  {
   "cell_type": "code",
   "execution_count": 71,
   "id": "4b414838",
   "metadata": {},
   "outputs": [
    {
     "name": "stdout",
     "output_type": "stream",
     "text": [
      "2\n",
      "4\n",
      "6\n",
      "8\n",
      "10\n"
     ]
    }
   ],
   "source": [
    "L = [2,4,6,8,10,9,12,13,14] # stops at 9 -- since 9%2 == 0 is False\n",
    "for i in itertools.takewhile(lambda x:x%2==0, L):\n",
    "    print(i)"
   ]
  },
  {
   "cell_type": "code",
   "execution_count": null,
   "id": "43aff36d",
   "metadata": {},
   "outputs": [],
   "source": []
  }
 ],
 "metadata": {
  "kernelspec": {
   "display_name": "Python 3 (ipykernel)",
   "language": "python",
   "name": "python3"
  },
  "language_info": {
   "codemirror_mode": {
    "name": "ipython",
    "version": 3
   },
   "file_extension": ".py",
   "mimetype": "text/x-python",
   "name": "python",
   "nbconvert_exporter": "python",
   "pygments_lexer": "ipython3",
   "version": "3.10.0"
  }
 },
 "nbformat": 4,
 "nbformat_minor": 5
}

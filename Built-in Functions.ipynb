{
 "cells": [
  {
   "cell_type": "markdown",
   "metadata": {},
   "source": [
    "# Built-in functions\n"
   ]
  },
  {
   "cell_type": "markdown",
   "metadata": {},
   "source": [
    "## abs() \n",
    "\n",
    "`abs()` method takes a single argument\n",
    "\n",
    "`number` - a number whose absolute value is to be returned.\n",
    "\n",
    "* integer  - integer absolute value is returned\n",
    "    \n",
    "* floating number - floating absolute value is returned\n",
    "    \n",
    "* complex number - magnitude of the number is returned\n",
    "    "
   ]
  },
  {
   "cell_type": "code",
   "execution_count": 3,
   "metadata": {},
   "outputs": [
    {
     "name": "stdout",
     "output_type": "stream",
     "text": [
      "98\n",
      "45\n",
      "23.56\n",
      "34.78\n",
      "5.0\n",
      "3.605551275463989\n"
     ]
    }
   ],
   "source": [
    "print(abs(98))      # 98\n",
    "print(abs(-45))     # -45\n",
    "\n",
    "print(abs(23.56))   # 23.56\n",
    "print(abs(-34.78))  # -34.78\n",
    "\n",
    "print(abs(3 - 4j))  # root(9+16) = 5\n",
    "print(abs(2+3j))    # root(13)"
   ]
  },
  {
   "cell_type": "markdown",
   "metadata": {},
   "source": [
    "## any()\n",
    "\n",
    "`any()` function returns `True` if any element of an iterable is True.\n",
    "\n",
    "If not, `any()` returns `False`\n",
    "\n",
    "`any()` function takes an iterable (list, string, dictionary etc.)\n",
    "\n",
    "* **True** if at least one element of an iterable is true\n",
    "* **False** if all elements are false or if an iterable is empty\n"
   ]
  },
  {
   "cell_type": "code",
   "execution_count": 7,
   "metadata": {},
   "outputs": [
    {
     "name": "stdout",
     "output_type": "stream",
     "text": [
      "True\n",
      "False\n",
      "True\n",
      "True\n",
      "False\n"
     ]
    }
   ],
   "source": [
    "l = [0,1,2,3,4]\n",
    "print(any(l))\n",
    "k = ''    # empty string\n",
    "print(any(k))\n",
    "p = '_'\n",
    "print(any(p))\n",
    "q = '0' \n",
    "print(any(q))   # true since '0' is a character\n",
    "m = (0,0,False)  # all are false\n",
    "print(any(m))"
   ]
  },
  {
   "cell_type": "markdown",
   "metadata": {},
   "source": [
    "## all()\n",
    "\n",
    "`all()` function returns `True` if all elements in the given iterable are true. `If not`, it returns `False`.\n",
    "\n",
    "The all() function _takes a single parameter:_\n",
    "\n",
    "iterable - any iterable (list, tuple, dictionary, etc.) which contains the elements\n",
    "\n",
    "Returns:\n",
    "* True - If all elements in an iterable are true\n",
    "* False - If any element in an iterable is false\n",
    "\n"
   ]
  },
  {
   "cell_type": "code",
   "execution_count": 10,
   "metadata": {},
   "outputs": [
    {
     "name": "stdout",
     "output_type": "stream",
     "text": [
      "True\n",
      "True\n",
      "True\n",
      "True\n",
      "False\n"
     ]
    }
   ],
   "source": [
    "l = [1,1,2,3,4]\n",
    "print(all(l))\n",
    "k = ''    # empty string returns true\n",
    "print(all(k))\n",
    "p = '_!@'\n",
    "print(all(p))\n",
    "q = '0' \n",
    "print(all(q))   # true since '0' is a character\n",
    "m = (True,0,False)  # false\n",
    "print(all(m))"
   ]
  },
  {
   "cell_type": "markdown",
   "metadata": {},
   "source": [
    "## ascii()\n",
    "\n",
    "`ascii()` method returns a string containing a printable representation of an object.\n",
    "\n",
    "ascii() method takes an object (like: `strings, list etc`).\n",
    "\n",
    "It returns a string containing a printable representation of an object.\n",
    "\n",
    "Ex: `ö is changed to \\xf6n`, `√ is changed to \\u221a`\n",
    "\n",
    "The `non-ASCII characters` in the string are escaped using `\\x, \\u or \\U`.\n",
    "\n"
   ]
  },
  {
   "cell_type": "code",
   "execution_count": 13,
   "metadata": {},
   "outputs": [
    {
     "name": "stdout",
     "output_type": "stream",
     "text": [
      "'Python is interesting'\n",
      "'Pyth\\xf6n is interesting'\n",
      "Pythön is interesting\n",
      "['Pyth\\xf6n ', 'is ', 'interesting']\n"
     ]
    }
   ],
   "source": [
    "Text = 'Python is interesting'\n",
    "print(ascii(Text))\n",
    "\n",
    "oText = 'Pythön is interesting'\n",
    "print(ascii(oText))\n",
    "\n",
    "print('Pyth\\xf6n is interesting')\n",
    "\n",
    "LIST = ['Pythön ', 'is ', 'interesting']\n",
    "print(ascii(LIST))"
   ]
  },
  {
   "cell_type": "markdown",
   "metadata": {},
   "source": [
    "## bin()\n",
    "\n",
    "The bin() method converts and returns the binary equivalent string of a given integer.\n",
    "\n",
    "bin() method takes a single parameter:\n",
    "\n",
    "* num - an integer number whose binary equivalent is to be calculated."
   ]
  },
  {
   "cell_type": "code",
   "execution_count": 15,
   "metadata": {},
   "outputs": [
    {
     "name": "stdout",
     "output_type": "stream",
     "text": [
      "0b110\n",
      "0b101\n",
      "0b1010\n"
     ]
    }
   ],
   "source": [
    "print(bin(6)) # 0b110  - 0b is representation of a binary number\n",
    "print(bin(5))  # 0b101\n",
    "print(bin(10)) # 0b1010"
   ]
  },
  {
   "cell_type": "markdown",
   "metadata": {},
   "source": [
    "## bool()\n",
    "\n",
    "The `bool()` function converts a value to `Boolean` (True or False) using the standard truth testing procedure.\n",
    "\n",
    "bool() returns:\n",
    "* False if the value is omitted or false\n",
    "* True if the value is true\n",
    "\n",
    "The following values are considered false in Python:\n",
    "* `None`\n",
    "\n",
    "* `False`\n",
    "\n",
    "* `Zero` of any numeric type. For example, `0, 0.0, 0j`\n",
    "\n",
    "* Empty sequence. For example, `(), [], ''.`\n",
    "\n",
    "* Empty mapping. For example, `{}`\n",
    "\n",
    "* Objects of Classes which has __bool__() or __len()__ method which returns 0 or False\n",
    "\n",
    "**All other values except these values are considered true.**"
   ]
  },
  {
   "cell_type": "code",
   "execution_count": 17,
   "metadata": {},
   "outputs": [
    {
     "name": "stdout",
     "output_type": "stream",
     "text": [
      "False\n",
      "False\n",
      "False\n",
      "True\n",
      "True\n",
      "False\n",
      "True\n"
     ]
    }
   ],
   "source": [
    "print(bool([]))  # false\n",
    "print(bool({}))  # false\n",
    "print(bool(''))  # false\n",
    "print(bool([0]))  # true \n",
    "print(bool('abc'))  # true\n",
    "print(bool(None))  # false\n",
    "print(bool((0,)))  # true"
   ]
  },
  {
   "cell_type": "markdown",
   "metadata": {},
   "source": [
    "## chr()\n",
    "\n",
    "`chr()` method returns a character from an integer\n",
    "\n",
    "chr() method takes a single parameter, an integer i.\n",
    "\n",
    "`The valid range of the integer is from 0 through 1,114,111.`\n",
    "\n",
    "`chr()` returns a character (a string) whose Unicode code point is the integer i"
   ]
  },
  {
   "cell_type": "code",
   "execution_count": 22,
   "metadata": {},
   "outputs": [
    {
     "name": "stdout",
     "output_type": "stream",
     "text": [
      "a\n",
      "A\n",
      "z\n",
      "0\n"
     ]
    }
   ],
   "source": [
    "print(chr(97))    # 'a' - ascii value is 97\n",
    "print(chr(65))    # 'A' - ascii value is 65 \n",
    "print(chr(122))   # 'z' - ascii value is 122\n",
    "print(chr(48))    # 0 - ascii value is 48"
   ]
  },
  {
   "cell_type": "markdown",
   "metadata": {},
   "source": [
    "## complex()\n",
    "\n",
    "`complex()` method returns a complex number when real and imaginary parts are provided, or it converts a string to a complex number.\n",
    "\n",
    "`complex()` method takes two parameters:\n",
    "\n",
    "* real - real part. If real is omitted, it defaults to 0.\n",
    "* imag - imaginary part. If imag is omitted, it defaults to 0.\n"
   ]
  },
  {
   "cell_type": "code",
   "execution_count": 26,
   "metadata": {},
   "outputs": [
    {
     "name": "stdout",
     "output_type": "stream",
     "text": [
      "0j\n",
      "0j\n",
      "(1+0j)\n",
      "(6-3j)\n",
      "(3-9j)\n"
     ]
    }
   ],
   "source": [
    "print(complex(0)) # 0 + 0j\n",
    "print(complex())  # 0j\n",
    "print(complex(1))  # 1 + 0j\n",
    "print(complex('6-3j'))  # 6 - 3j\n",
    "print(complex(3, -9))  # 3 - 9j"
   ]
  },
  {
   "cell_type": "markdown",
   "metadata": {},
   "source": [
    "## divmod()\n",
    "\n",
    "`divmod()` method takes two numbers and returns a pair of numbers (a tuple) consisting of their quotient and remainder.\n",
    "\n",
    "divmod() takes two parameters:\n",
    "* x - a non-complex number (numerator)\n",
    "* y - a non-complex number (denominator)\n",
    "\n",
    "divmod() returns:\n",
    "\n",
    "* (q, r) - a pair of numbers (a tuple) consisting of quotient q and remainder r\n",
    "\n",
    "* If x and y are integers, the return value from divmod() is same as `(a // b, x % y).`\n"
   ]
  },
  {
   "cell_type": "code",
   "execution_count": 27,
   "metadata": {},
   "outputs": [
    {
     "name": "stdout",
     "output_type": "stream",
     "text": [
      "(2, 1)\n",
      "(1, 1)\n",
      "(0, 5)\n",
      "(1.0, 1.2999999999999998)\n"
     ]
    }
   ],
   "source": [
    "print(divmod(9,4))\n",
    "print(divmod(3,2))\n",
    "print(divmod(5,7))\n",
    "print(divmod(5.3, 4)) "
   ]
  },
  {
   "cell_type": "markdown",
   "metadata": {},
   "source": [
    "## filter()\n",
    "\n",
    "`filter()` method filters the given iterable with the help of a function that tests each element in the iterable to be true or not.\n",
    "\n",
    "Syntax:  `filter(function, iterable)`"
   ]
  },
  {
   "cell_type": "code",
   "execution_count": 49,
   "metadata": {},
   "outputs": [
    {
     "name": "stdout",
     "output_type": "stream",
     "text": [
      "<filter object at 0x00000246C67EA248>\n",
      "[2, 4, 6, 8]\n"
     ]
    }
   ],
   "source": [
    "List = [1,2,3,4,5, 6, 7, 8, 9]\n",
    "def even(num):\n",
    "    if num % 2 == 0:\n",
    "        return True\n",
    "Even = filter(even, List)\n",
    "print(Even)\n",
    "print(list(Even))"
   ]
  },
  {
   "cell_type": "code",
   "execution_count": 47,
   "metadata": {},
   "outputs": [
    {
     "name": "stdout",
     "output_type": "stream",
     "text": [
      "<filter object at 0x00000246C67E5C08>\n",
      "['e', 'e', 'a']\n"
     ]
    }
   ],
   "source": [
    "List = list('teddybear')\n",
    "def vowel(c):\n",
    "    V = list('aeiou')\n",
    "    if c in V:\n",
    "        return True\n",
    "Vowels = filter(vowel, List)\n",
    "print(Vowels)\n",
    "print(list(Vowels))"
   ]
  },
  {
   "cell_type": "markdown",
   "metadata": {},
   "source": [
    "## hex()\n",
    "\n",
    "`hex()` function converts an integer number to the corresponding hexadecimal string.\n"
   ]
  },
  {
   "cell_type": "code",
   "execution_count": 34,
   "metadata": {},
   "outputs": [
    {
     "name": "stdout",
     "output_type": "stream",
     "text": [
      "0x10\n",
      "0x20\n",
      "0xa\n",
      "0xcb\n",
      "0x1\n",
      "0x1.3ae147ae147aep+0\n",
      "0x1.87ae147ae147bp+1\n"
     ]
    }
   ],
   "source": [
    "print(hex(16))\n",
    "print(hex(32))\n",
    "print(hex(10))\n",
    "print(hex(203))\n",
    "print(hex(1))\n",
    "# hexadecimal representation of a float\n",
    "print(float.hex(1.23))\n",
    "print(float.hex(3.06))"
   ]
  },
  {
   "cell_type": "markdown",
   "metadata": {},
   "source": [
    "## id()\n",
    "\n",
    "The id() function returns identity (unique integer) of an object."
   ]
  },
  {
   "cell_type": "code",
   "execution_count": 37,
   "metadata": {},
   "outputs": [
    {
     "name": "stdout",
     "output_type": "stream",
     "text": [
      "2502990362992\n",
      "2502990363760\n",
      "140729050309136\n",
      "140729050309136\n",
      "140729050311856\n",
      "140729050311856\n"
     ]
    }
   ],
   "source": [
    "a = 3.456\n",
    "print(id(a))\n",
    "b = 345\n",
    "print(id(b))\n",
    "k = l = 5   # k and l have same id\n",
    "print(id(k))\n",
    "print(id(l))\n",
    "m = 90\n",
    "p = 90\n",
    "print(id(m))   # m and p have same id\n",
    "print(id(p))"
   ]
  },
  {
   "cell_type": "markdown",
   "metadata": {},
   "source": [
    "## lambda funtion\n",
    "\n",
    "An `anonymous function` is a function that is defined `without a name`.\n",
    "\n",
    "While normal functions are defined using the `def` keyword in Python, anonymous functions are defined using the `lambda` keyword.\n",
    "\n",
    "Hence, anonymous functions are also called lambda functions.\n",
    "\n",
    "Syntax: \n",
    "`lambda arguments: expression`"
   ]
  },
  {
   "cell_type": "code",
   "execution_count": 40,
   "metadata": {},
   "outputs": [
    {
     "name": "stdout",
     "output_type": "stream",
     "text": [
      "8\n",
      "25\n"
     ]
    }
   ],
   "source": [
    "func = lambda i : i+3\n",
    "\n",
    "print(func(5))  # 8\n",
    "\n",
    "func = lambda i : i*5\n",
    "\n",
    "print(func(5))  # 25\n"
   ]
  },
  {
   "cell_type": "markdown",
   "metadata": {},
   "source": [
    "## map()\n",
    "\n",
    "`map()` function applies a given function to each item of an iterable (list, tuple etc.) and returns a list of the results.\n",
    "\n",
    "Parameters:\n",
    "\n",
    "* function - map() passes each item of the iterable to this function.\n",
    "* iterable - iterable which is to be mapped\n",
    "\n",
    "You can pass more than one iterable to the map() function."
   ]
  },
  {
   "cell_type": "code",
   "execution_count": 54,
   "metadata": {},
   "outputs": [
    {
     "name": "stdout",
     "output_type": "stream",
     "text": [
      "[1, 4, 9, 16, 25, 36]\n",
      "[3, 7, 11, 15, 19]\n"
     ]
    }
   ],
   "source": [
    "def sqr(num):\n",
    "    return num*num\n",
    "\n",
    "List1 = [1,2,3,4,5,6]\n",
    "New = list(map(sqr, List1))\n",
    "print(New)\n",
    "\n",
    "def sum(a,b):\n",
    "    return a + b\n",
    "first = [1,3,5,7,9,11]\n",
    "second = [2,4,6,8,10]\n",
    "new = list(map(sum, first, second))\n",
    "print(new)"
   ]
  },
  {
   "cell_type": "code",
   "execution_count": 55,
   "metadata": {},
   "outputs": [
    {
     "name": "stdout",
     "output_type": "stream",
     "text": [
      "[1, 4, 9, 16, 25, 36]\n",
      "[3, 7, 11, 15, 19]\n"
     ]
    }
   ],
   "source": [
    "# using lambda function\n",
    "\n",
    "List1 = [1,2,3,4,5,6]\n",
    "New = list(map(lambda x : x*x, List1))\n",
    "print(New)\n",
    "\n",
    "first = [1,3,5,7,9,11]\n",
    "second = [2,4,6,8,10]\n",
    "new = list(map(lambda a,b: a + b, first, second))\n",
    "print(new)"
   ]
  },
  {
   "cell_type": "markdown",
   "metadata": {},
   "source": [
    "## ord()\n",
    "\n",
    "The ord() function returns an integer representing the Unicode character.\n",
    "\n",
    "Single parameter: `character`\n",
    "\n",
    "Returns an integer representing the Unicode character.\n"
   ]
  },
  {
   "cell_type": "code",
   "execution_count": 56,
   "metadata": {},
   "outputs": [
    {
     "name": "stdout",
     "output_type": "stream",
     "text": [
      "65\n",
      "97\n",
      "122\n",
      "48\n"
     ]
    }
   ],
   "source": [
    "print(ord('A'))\n",
    "print(ord('a'))\n",
    "print(ord('z'))\n",
    "print(ord('0'))"
   ]
  },
  {
   "cell_type": "code",
   "execution_count": 59,
   "metadata": {},
   "outputs": [
    {
     "name": "stdout",
     "output_type": "stream",
     "text": [
      "The ascii value of 'A' is  65\n",
      "The ascii character of 65 is  A\n"
     ]
    }
   ],
   "source": [
    "print(\"The ascii value of 'A' is \", ord('A'))\n",
    "\n",
    "print(\"The ascii character of 65 is \", chr(65))"
   ]
  },
  {
   "cell_type": "markdown",
   "metadata": {},
   "source": [
    "## round()\n",
    "\n",
    "The `round()` function returns a floating-point number rounded to the specified number of decimals.\n",
    "\n",
    "Takes two parameters:\n",
    "\n",
    "* number - the number to be rounded\n",
    "* ndigits (optional) - number up to which the given number is rounded; defaults to 0\n",
    "\n"
   ]
  },
  {
   "cell_type": "code",
   "execution_count": 68,
   "metadata": {
    "scrolled": true
   },
   "outputs": [
    {
     "name": "stdout",
     "output_type": "stream",
     "text": [
      "17\n",
      "18\n",
      "17.55\n",
      "5.1\n",
      "5.64\n",
      "2.67\n"
     ]
    }
   ],
   "source": [
    "print(round(17))\n",
    "print(round(17.55))\n",
    "\n",
    "print(round(17.555, 2))\n",
    "print(round(5.096, 2))\n",
    "print(round(5.645, 2))\n",
    "print(round(2.675, 2))    "
   ]
  },
  {
   "cell_type": "code",
   "execution_count": 69,
   "metadata": {},
   "outputs": [
    {
     "name": "stdout",
     "output_type": "stream",
     "text": [
      "2.67\n",
      "2.68\n"
     ]
    }
   ],
   "source": [
    "from decimal import Decimal\n",
    "\n",
    "# normal float\n",
    "num = 2.675\n",
    "print(round(num, 2))\n",
    "\n",
    "# using decimal. Decimal (passed float as string for precision)\n",
    "num = Decimal('2.675')\n",
    "print(round(num, 2))"
   ]
  },
  {
   "cell_type": "markdown",
   "metadata": {},
   "source": [
    "## sorted()\n",
    "\n",
    "`sorted()` function returns a sorted list from the items in an iterable.\n",
    "\n",
    "Syntax : `sorted(iterable, key=None, reverse=False)`\n",
    "\n",
    "Paramaters: \n",
    "* iterable - A sequence (string, tuple, list) or collection (set, dictionary, frozen set) or any other iterator.\n",
    "* reverse (Optional) - If True, the sorted list is reversed (or sorted in descending order). Defaults to False if not provided.\n",
    "* key (Optional) - A function that serves as a key for the sort comparison. Defaults to None.\n"
   ]
  },
  {
   "cell_type": "code",
   "execution_count": 74,
   "metadata": {},
   "outputs": [
    {
     "name": "stdout",
     "output_type": "stream",
     "text": [
      "['n', 'e', 'w', 's', 't', 'r', 'i', 'n', 'g']\n",
      "['e', 'g', 'i', 'n', 'n', 'r', 's', 't', 'w']\n",
      "['w', 't', 's', 'r', 'n', 'n', 'i', 'g', 'e']\n"
     ]
    }
   ],
   "source": [
    "py = list(\"newstring\")\n",
    "print(py)\n",
    "print(sorted(py))\n",
    "print(sorted(py, reverse = True))  # descending order"
   ]
  },
  {
   "cell_type": "markdown",
   "metadata": {},
   "source": [
    "---"
   ]
  }
 ],
 "metadata": {
  "kernelspec": {
   "display_name": "Python 3",
   "language": "python",
   "name": "python3"
  },
  "language_info": {
   "codemirror_mode": {
    "name": "ipython",
    "version": 3
   },
   "file_extension": ".py",
   "mimetype": "text/x-python",
   "name": "python",
   "nbconvert_exporter": "python",
   "pygments_lexer": "ipython3",
   "version": "3.7.6"
  }
 },
 "nbformat": 4,
 "nbformat_minor": 4
}

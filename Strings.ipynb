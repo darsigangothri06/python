{
 "cells": [
  {
   "cell_type": "markdown",
   "metadata": {},
   "source": [
    "# Strings"
   ]
  },
  {
   "cell_type": "markdown",
   "metadata": {},
   "source": [
    "A string is a sequence of characters <br>\n",
    "\n",
    "You can access the characters one at a time with the bracket operator"
   ]
  },
  {
   "cell_type": "code",
   "execution_count": 14,
   "metadata": {},
   "outputs": [
    {
     "name": "stdout",
     "output_type": "stream",
     "text": [
      "asdf\n",
      "dfgh\n",
      "cvbnn\n"
     ]
    }
   ],
   "source": [
    "# multi line strings using three single quotes\n",
    "string = '''asdf\n",
    "dfgh\n",
    "cvbnn'''\n",
    "print(string)"
   ]
  },
  {
   "cell_type": "code",
   "execution_count": 2,
   "metadata": {},
   "outputs": [
    {
     "name": "stdout",
     "output_type": "stream",
     "text": [
      "j\n",
      "e\n"
     ]
    }
   ],
   "source": [
    "#       0123456\n",
    "str1 = 'jupyter'\n",
    "print(str1[0])  # j\n",
    "print(str1[5])  # e"
   ]
  },
  {
   "cell_type": "markdown",
   "metadata": {},
   "source": [
    "The expression in brackets [ ] is called `index`. <br>\n",
    "\n",
    "The index indicates which character in the sequence you want\n",
    "\n",
    "**index starts from 0** <br>\n",
    "\n",
    "**string indices must be integers**"
   ]
  },
  {
   "cell_type": "code",
   "execution_count": 3,
   "metadata": {},
   "outputs": [
    {
     "ename": "TypeError",
     "evalue": "string indices must be integers",
     "output_type": "error",
     "traceback": [
      "\u001b[1;31m---------------------------------------------------------------------------\u001b[0m",
      "\u001b[1;31mTypeError\u001b[0m                                 Traceback (most recent call last)",
      "\u001b[1;32m<ipython-input-3-a87f83cb6928>\u001b[0m in \u001b[0;36m<module>\u001b[1;34m\u001b[0m\n\u001b[0;32m      1\u001b[0m \u001b[0mstr1\u001b[0m \u001b[1;33m=\u001b[0m \u001b[1;34m'jupyter'\u001b[0m\u001b[1;33m\u001b[0m\u001b[1;33m\u001b[0m\u001b[0m\n\u001b[1;32m----> 2\u001b[1;33m \u001b[0mprint\u001b[0m\u001b[1;33m(\u001b[0m\u001b[0mstr1\u001b[0m\u001b[1;33m[\u001b[0m\u001b[1;36m2.5\u001b[0m\u001b[1;33m]\u001b[0m\u001b[1;33m)\u001b[0m\u001b[1;33m\u001b[0m\u001b[1;33m\u001b[0m\u001b[0m\n\u001b[0m",
      "\u001b[1;31mTypeError\u001b[0m: string indices must be integers"
     ]
    }
   ],
   "source": [
    "str1 = 'jupyter'\n",
    "print(str1[2.5])"
   ]
  },
  {
   "cell_type": "markdown",
   "metadata": {},
   "source": [
    "## positive indices and negative indices\n",
    "\n",
    "\n",
    "|0|1|2|3|4|5|6|7|8|9|10|11|12|13|14|\n",
    "|---|---|---|---|---|---|---|---|---|---|---|---|---|---|---|\n",
    "|j|u|p|y|t|e|r|n|o|t|e|b|o|o|k|\n",
    "|-15|-14|-13|-12|-11|-10|-9|-8|-7|-6|-5|-4|-3|-2|-1|\n",
    "\n"
   ]
  },
  {
   "cell_type": "code",
   "execution_count": 4,
   "metadata": {},
   "outputs": [
    {
     "name": "stdout",
     "output_type": "stream",
     "text": [
      "u\n",
      "o\n",
      "k\n",
      "e\n"
     ]
    }
   ],
   "source": [
    "string = 'jupyternotebook'\n",
    "print(string[1])  # u\n",
    "print(string[12])  # o\n",
    "print(string[-1])  #  k\n",
    "print(string[-10])  # e"
   ]
  },
  {
   "cell_type": "markdown",
   "metadata": {},
   "source": [
    "Finding the length of the string using `len()` function \n",
    "\n",
    "It's return type is an integer"
   ]
  },
  {
   "cell_type": "code",
   "execution_count": 6,
   "metadata": {},
   "outputs": [
    {
     "name": "stdout",
     "output_type": "stream",
     "text": [
      "15\n",
      "k\n"
     ]
    }
   ],
   "source": [
    "string = 'jupyternotebook'\n",
    "print(len(string))\n",
    "lastletter = string[len(string) - 1]  # string[15-1]  string[14]  k\n",
    "print(lastletter)"
   ]
  },
  {
   "cell_type": "code",
   "execution_count": 12,
   "metadata": {},
   "outputs": [
    {
     "name": "stdout",
     "output_type": "stream",
     "text": [
      "j u p y t e r n o t e b o o k "
     ]
    }
   ],
   "source": [
    "# printing letters of a string using loop\n",
    "string = 'jupyternotebook'\n",
    "index = 0\n",
    "while (index <= len(string) - 1):   # index > len(string)--index > 15-- upto 14\n",
    "    ltr = string[index]\n",
    "    print(ltr, end=' ')\n",
    "    index += 1"
   ]
  },
  {
   "cell_type": "markdown",
   "metadata": {},
   "source": [
    "## The in operator\n",
    "\n",
    "The word in is a boolean operator that takes two strings and returns True if the first appears as a substring in the second"
   ]
  },
  {
   "cell_type": "code",
   "execution_count": 79,
   "metadata": {},
   "outputs": [
    {
     "name": "stdout",
     "output_type": "stream",
     "text": [
      "True\n",
      "False\n"
     ]
    }
   ],
   "source": [
    "var = 'r' in 'river'\n",
    "print(var)\n",
    "\n",
    "var = 'k' in 'river'\n",
    "print(var)"
   ]
  },
  {
   "cell_type": "markdown",
   "metadata": {},
   "source": [
    "### Check String\n",
    "To check if a certain phrase or character is present in a string, we can use the keyword `in`.\n",
    "\n",
    "### Check if NOT\n",
    "To check if a certain phrase or character is NOT present in a string, we can use the keyword `not in`."
   ]
  },
  {
   "cell_type": "code",
   "execution_count": 24,
   "metadata": {},
   "outputs": [
    {
     "name": "stdout",
     "output_type": "stream",
     "text": [
      "'Py' is a substring to given string\n"
     ]
    }
   ],
   "source": [
    "# check string\n",
    "string = 'Python programming is very easy to learn'\n",
    "if 'Py' in string:\n",
    "    print(\"'Py' is a substring to given string\")\n",
    "if 'py' in string:\n",
    "    print(\"'py' is a substring to given string\")   # no output"
   ]
  },
  {
   "cell_type": "code",
   "execution_count": 23,
   "metadata": {},
   "outputs": [
    {
     "name": "stdout",
     "output_type": "stream",
     "text": [
      "'py' is not a substring to given string\n"
     ]
    }
   ],
   "source": [
    "# check if not\n",
    "string = 'Python programming is very easy to learn'\n",
    "if 'Py' not in string:\n",
    "    print('Yes, given string is a substring')  # no output\n",
    "if 'py' not in string:\n",
    "    print(\"'py' is not a substring to given string\")   "
   ]
  },
  {
   "cell_type": "markdown",
   "metadata": {},
   "source": [
    "## String Slicing\n",
    "\n",
    "A segment of a string is called a **slice**. <br>\n",
    "Selecting a slice is similar to selecting a character. <br>\n",
    "\n",
    "Syntax: <br> <pre>\n",
    "    string[ start : end : step ]   </pre>\n",
    "\n",
    "Parameters: <br>\n",
    "\n",
    "start: Starting index where the slicing of object starts. <br>\n",
    "stop: Ending index where the slicing of object stops. <br>\n",
    "step: It is an optional argument that determines the increment between each index for slicing. <br>\n",
    "\n",
    "Return Type: Returns a sliced object containing elements in the given range only."
   ]
  },
  {
   "cell_type": "markdown",
   "metadata": {},
   "source": [
    "\n",
    "|0|1|2|3|4|5|6|7|8|9|10|11|12|13|14|\n",
    "|---|---|---|---|---|---|---|---|---|---|---|---|---|---|---|\n",
    "|j|u|p|y|t|e|r|n|o|t|e|b|o|o|k|\n",
    "|-15|-14|-13|-12|-11|-10|-9|-8|-7|-6|-5|-4|-3|-2|-1|\n"
   ]
  },
  {
   "cell_type": "code",
   "execution_count": 33,
   "metadata": {},
   "outputs": [
    {
     "name": "stdout",
     "output_type": "stream",
     "text": [
      "jupyter\n",
      "notebook\n",
      "pyternote\n",
      "\n",
      "jupyter\n",
      "jupyter\n",
      "\n",
      "jptr\n",
      "jyrto\n"
     ]
    }
   ],
   "source": [
    "string = 'jupyternotebook'\n",
    "\n",
    "# default start value is index 0 --- starting letter\n",
    "print(string[:7])   #  prints upto 7-1 = 6th index\n",
    "\n",
    "# default end value is end index --- last letter\n",
    "print(string[7:])\n",
    "\n",
    "# with start value and end value\n",
    "print(string[2:11])   # pyternote---index 2 to 11-1\n",
    "print()\n",
    "#default step value is 1\n",
    "print(string[0:7:])\n",
    "print(string[0:7:1])\n",
    "\n",
    "print()\n",
    "# with forward step value\n",
    "print(string[0:7:2])     # skips every 2nd index ---prints indices - 0,2,4,6 \n",
    "print(string[0:14:3])    # skips every 3rd index ---prints indices - 0, 0+3, 3+3, 6+3, 9+3"
   ]
  },
  {
   "cell_type": "markdown",
   "metadata": {},
   "source": [
    "\n",
    "|0|1|2|3|4|5|6|7|8|9|10|11|12|13|14|\n",
    "|---|---|---|---|---|---|---|---|---|---|---|---|---|---|---|\n",
    "|j|u|p|y|t|e|r|n|o|t|e|b|o|o|k|\n",
    "|-15|-14|-13|-12|-11|-10|-9|-8|-7|-6|-5|-4|-3|-2|-1|\n"
   ]
  },
  {
   "cell_type": "code",
   "execution_count": 60,
   "metadata": {},
   "outputs": [
    {
     "name": "stdout",
     "output_type": "stream",
     "text": [
      "jupyternotebook\n",
      "jupyternoteboo\n",
      "_  _\n",
      "_  _\n",
      "upyte\n",
      "\n",
      "koobetonretypuj\n",
      "etypuj\n",
      "_  _\n",
      "koobeton\n",
      "koeo\n"
     ]
    }
   ],
   "source": [
    "# with negative indices\n",
    "string = 'jupyternotebook'\n",
    "print(string[-15:])    # from starting to ending ( there is no end index- default is last letter)\n",
    "print(string[:-1])    # upto index -1-1 = -2\n",
    "print(\"_\", string[:0], \"_\")    # prints nothing - starting index is same as end index  -- we get empty string\n",
    "print(\"_\", string[-10:-14], \"_\")     # there are no letters from -10 to -14 in forward direction--- we get empty string\n",
    "print(string[-14:-9])   #  upyte  upto -9-1 = -10\n",
    "print()  # to get a new line\n",
    "print(string[::-1])  # reverse the string since step is negative\n",
    "print(string[5::-1])   # with a negative step, default end index is starting letter\n",
    "print(\"_\", string[0:6:-1], \"_\") # an empty string because there are no indices backward from 0\n",
    "print(string[:6:-1])  # with a negative step, default start value is ---last letter--- k o o b e t o n\n",
    "print(string[:6:-2])   # skips 2nd index -- skips o b t n --- prints k o e o"
   ]
  },
  {
   "cell_type": "markdown",
   "metadata": {},
   "source": [
    "## Strings are immutable\n",
    "\n",
    "**We can't change an existing string**"
   ]
  },
  {
   "cell_type": "code",
   "execution_count": 61,
   "metadata": {},
   "outputs": [
    {
     "ename": "TypeError",
     "evalue": "'str' object does not support item assignment",
     "output_type": "error",
     "traceback": [
      "\u001b[1;31m---------------------------------------------------------------------------\u001b[0m",
      "\u001b[1;31mTypeError\u001b[0m                                 Traceback (most recent call last)",
      "\u001b[1;32m<ipython-input-61-c403a498dc8c>\u001b[0m in \u001b[0;36m<module>\u001b[1;34m\u001b[0m\n\u001b[0;32m      1\u001b[0m \u001b[0mvar\u001b[0m \u001b[1;33m=\u001b[0m \u001b[1;34m\"LOOPS\"\u001b[0m\u001b[1;33m\u001b[0m\u001b[1;33m\u001b[0m\u001b[0m\n\u001b[1;32m----> 2\u001b[1;33m \u001b[0mvar\u001b[0m\u001b[1;33m[\u001b[0m\u001b[1;36m0\u001b[0m\u001b[1;33m]\u001b[0m \u001b[1;33m=\u001b[0m \u001b[1;34m'I'\u001b[0m\u001b[1;33m\u001b[0m\u001b[1;33m\u001b[0m\u001b[0m\n\u001b[0m",
      "\u001b[1;31mTypeError\u001b[0m: 'str' object does not support item assignment"
     ]
    }
   ],
   "source": [
    "var = \"LOOPS\"\n",
    "var[0] = 'I'"
   ]
  },
  {
   "cell_type": "code",
   "execution_count": 64,
   "metadata": {},
   "outputs": [
    {
     "name": "stdout",
     "output_type": "stream",
     "text": [
      "!OOPS\n"
     ]
    }
   ],
   "source": [
    "var = \"LOOPS\"\n",
    "new = '!' + var[1:]  # joins '!' with OOPS\n",
    "print( new)"
   ]
  },
  {
   "cell_type": "code",
   "execution_count": 66,
   "metadata": {},
   "outputs": [
    {
     "name": "stdout",
     "output_type": "stream",
     "text": [
      "'s' occured 4 number of times\n"
     ]
    }
   ],
   "source": [
    "# counting how many times a letter appears in a string\n",
    "\n",
    "a = 'mississippi'\n",
    "count = 0  # to store count of 's'\n",
    "for i in a:\n",
    "    if i == 's':\n",
    "        count += 1\n",
    "print(\"'s' occured\", count, \"number of times\")"
   ]
  },
  {
   "cell_type": "markdown",
   "metadata": {},
   "source": [
    "Encapsulate this code in a function named count, and generalize it so that it\n",
    "accepts the string and the letter as arguments"
   ]
  },
  {
   "cell_type": "code",
   "execution_count": 71,
   "metadata": {},
   "outputs": [
    {
     "name": "stdout",
     "output_type": "stream",
     "text": [
      "0\n"
     ]
    }
   ],
   "source": [
    "def count(string, letter):\n",
    "    cnt = 0\n",
    "  #  print(string)\n",
    " #   print(letter)\n",
    "    for i in string:\n",
    "        if i == 'letter':\n",
    "            cnt += 1\n",
    "    print(cnt)\n",
    "count('mississipi', 's')"
   ]
  },
  {
   "cell_type": "code",
   "execution_count": 75,
   "metadata": {},
   "outputs": [
    {
     "name": "stdout",
     "output_type": "stream",
     "text": [
      "'s' occured 4 number of times\n"
     ]
    }
   ],
   "source": [
    "def count(string, letter):\n",
    "    cnt = 0\n",
    "    for i in string:\n",
    "        if i == letter:\n",
    "            cnt += 1\n",
    "    print(\"'s' occured\", cnt, \"number of times\")\n",
    "count('mississipi', 's')"
   ]
  },
  {
   "cell_type": "markdown",
   "metadata": {},
   "source": [
    "## String comparision\n",
    "\n",
    "The comparision operator work on strings. \n"
   ]
  },
  {
   "cell_type": "code",
   "execution_count": 81,
   "metadata": {},
   "outputs": [
    {
     "name": "stdout",
     "output_type": "stream",
     "text": [
      "2Both strings are equal\n"
     ]
    }
   ],
   "source": [
    "# To see if two strings are equal\n",
    "if 'FRUIT' == 'fruit':    # not equal\n",
    "    print(\"1Both strings are equal\")  # no output\n",
    "if 'fruit' == 'fruit':    # equal\n",
    "    print(\"2Both strings are equal\") "
   ]
  },
  {
   "cell_type": "code",
   "execution_count": 82,
   "metadata": {},
   "outputs": [
    {
     "name": "stdout",
     "output_type": "stream",
     "text": [
      "str1 is less than str2\n"
     ]
    }
   ],
   "source": [
    "# comparing 2 strings\n",
    "# based on their ASCII value\n",
    "if 'ABC' > 'abc':\n",
    "    print(\"str1 is greater than str2\")\n",
    "elif 'ABC' < 'abc':\n",
    "    print(\"str1 is less than str2\")\n",
    "else:\n",
    "    print(\"Both strings are equal\")"
   ]
  },
  {
   "cell_type": "markdown",
   "metadata": {},
   "source": [
    "## string methods\n",
    "\n",
    "Strings are an example of Python _objects._ <br>\n",
    "\n",
    "An object contains both data(the actual string itself) and methods(functions)"
   ]
  },
  {
   "cell_type": "code",
   "execution_count": 84,
   "metadata": {},
   "outputs": [
    {
     "name": "stdout",
     "output_type": "stream",
     "text": [
      "['__add__', '__class__', '__contains__', '__delattr__', '__dir__', '__doc__', '__eq__', '__format__', '__ge__', '__getattribute__', '__getitem__', '__getnewargs__', '__gt__', '__hash__', '__init__', '__init_subclass__', '__iter__', '__le__', '__len__', '__lt__', '__mod__', '__mul__', '__ne__', '__new__', '__reduce__', '__reduce_ex__', '__repr__', '__rmod__', '__rmul__', '__setattr__', '__sizeof__', '__str__', '__subclasshook__', 'capitalize', 'casefold', 'center', 'count', 'encode', 'endswith', 'expandtabs', 'find', 'format', 'format_map', 'index', 'isalnum', 'isalpha', 'isascii', 'isdecimal', 'isdigit', 'isidentifier', 'islower', 'isnumeric', 'isprintable', 'isspace', 'istitle', 'isupper', 'join', 'ljust', 'lower', 'lstrip', 'maketrans', 'partition', 'replace', 'rfind', 'rindex', 'rjust', 'rpartition', 'rsplit', 'rstrip', 'split', 'splitlines', 'startswith', 'strip', 'swapcase', 'title', 'translate', 'upper', 'zfill']\n"
     ]
    }
   ],
   "source": [
    "print(dir(str))"
   ]
  },
  {
   "cell_type": "code",
   "execution_count": 85,
   "metadata": {},
   "outputs": [
    {
     "name": "stdout",
     "output_type": "stream",
     "text": [
      "Help on method_descriptor:\n",
      "\n",
      "lower(self, /)\n",
      "    Return a copy of the string converted to lowercase.\n",
      "\n"
     ]
    }
   ],
   "source": [
    "help(str.lower)"
   ]
  },
  {
   "cell_type": "markdown",
   "metadata": {},
   "source": [
    "Calling a method is similar to calling a function (it takes arguments and returns\n",
    "a value) but the syntax is different. We call a method by appending the method\n",
    "name to the variable name using the period as a delimiter."
   ]
  },
  {
   "cell_type": "code",
   "execution_count": 92,
   "metadata": {},
   "outputs": [
    {
     "name": "stdout",
     "output_type": "stream",
     "text": [
      "hello\n"
     ]
    }
   ],
   "source": [
    "# lower\n",
    "string = 'HELLO'\n",
    "new = string.lower()\n",
    "print(new)  # converts into lower case"
   ]
  },
  {
   "cell_type": "code",
   "execution_count": 90,
   "metadata": {},
   "outputs": [
    {
     "name": "stdout",
     "output_type": "stream",
     "text": [
      "HELLO\n"
     ]
    }
   ],
   "source": [
    "# upper\n",
    "string = 'hello'\n",
    "new = string.upper()\n",
    "print(new)  # converts into upper case"
   ]
  },
  {
   "cell_type": "code",
   "execution_count": 94,
   "metadata": {},
   "outputs": [
    {
     "name": "stdout",
     "output_type": "stream",
     "text": [
      "HELLO123@\n"
     ]
    }
   ],
   "source": [
    "# upper\n",
    "string = 'hello123@'\n",
    "new = string.upper()\n",
    "print(new)  # converts into upper case"
   ]
  },
  {
   "cell_type": "code",
   "execution_count": 109,
   "metadata": {},
   "outputs": [
    {
     "name": "stdout",
     "output_type": "stream",
     "text": [
      "1\n",
      "3\n",
      "11\n"
     ]
    }
   ],
   "source": [
    "# find method finds the index of first occurence of given letter\n",
    "string = \"banana and apple\"  # find('a') gives 1 --- index 1\n",
    "ind = string.find('a')\n",
    "print(ind)\n",
    "\n",
    "# it takes 2nd argument the index where it should start\n",
    "ind = string.find('a', 2)  # starts checking from index 2 -- we get 3\n",
    "print(ind)\n",
    "\n",
    "# it takes 3rd argument also where it should end\n",
    "ind = string.find('a', 10, 15)\n",
    "print(ind)   # 11"
   ]
  },
  {
   "cell_type": "code",
   "execution_count": 115,
   "metadata": {},
   "outputs": [
    {
     "name": "stdout",
     "output_type": "stream",
     "text": [
      "here\n",
      "-     here -\n",
      "- here      -\n"
     ]
    }
   ],
   "source": [
    "# strip function is used to remove the spaces from the beginning and end of a string\n",
    "get = \"    here     \"\n",
    "print(get.strip()) # removes beginning and end spaces\n",
    "print('-', get.rstrip(), '-') # removes end spaces\n",
    "print('-', get.lstrip(), '-') # removes beginning spaces"
   ]
  },
  {
   "cell_type": "code",
   "execution_count": 139,
   "metadata": {},
   "outputs": [
    {
     "data": {
      "text/plain": [
       "'Format'"
      ]
     },
     "execution_count": 139,
     "metadata": {},
     "output_type": "execute_result"
    }
   ],
   "source": [
    "# capitalize() - Capitalizes first letter of string\n",
    "name = 'format'\n",
    "name.capitalize()"
   ]
  },
  {
   "cell_type": "code",
   "execution_count": 140,
   "metadata": {},
   "outputs": [
    {
     "data": {
      "text/plain": [
       "'aBcDe'"
      ]
     },
     "execution_count": 140,
     "metadata": {},
     "output_type": "execute_result"
    }
   ],
   "source": [
    "# swapcase() - Its swaps the case of character\n",
    "name = 'AbCdE'\n",
    "name.swapcase()"
   ]
  },
  {
   "cell_type": "code",
   "execution_count": 141,
   "metadata": {},
   "outputs": [
    {
     "data": {
      "text/plain": [
       "'This Is A Title'"
      ]
     },
     "execution_count": 141,
     "metadata": {},
     "output_type": "execute_result"
    }
   ],
   "source": [
    "# title() - Prints the string in title format (Cap starting letter of each word)\n",
    "name = 'this is a title'\n",
    "name.title()"
   ]
  },
  {
   "cell_type": "code",
   "execution_count": 144,
   "metadata": {},
   "outputs": [
    {
     "name": "stdout",
     "output_type": "stream",
     "text": [
      "True\n",
      "False\n",
      "True\n",
      "True\n"
     ]
    }
   ],
   "source": [
    "# isalnum() - It checks whether the string consists of alphanumeric characters\n",
    "name = 'hello123'\n",
    "print(name.isalnum())\n",
    "name = 'hello@#!@123'\n",
    "print(name.isalnum())\n",
    "name = 'hello'\n",
    "print(name.isalnum())\n",
    "name = '123'\n",
    "print(name.isalnum())"
   ]
  },
  {
   "cell_type": "code",
   "execution_count": 145,
   "metadata": {},
   "outputs": [
    {
     "name": "stdout",
     "output_type": "stream",
     "text": [
      "True\n",
      "False\n",
      "False\n",
      "False\n"
     ]
    }
   ],
   "source": [
    "# isdigit() - Checks whether the string consist of digits only\n",
    "name = '1234'\n",
    "print(name.isdigit())\n",
    "name = '1234hii'\n",
    "print(name.isdigit())\n",
    "name = '123!@#'\n",
    "print(name.isdigit())\n",
    "name = 'hello'\n",
    "print(name.isdigit())"
   ]
  },
  {
   "cell_type": "code",
   "execution_count": 149,
   "metadata": {},
   "outputs": [
    {
     "name": "stdout",
     "output_type": "stream",
     "text": [
      "True\n",
      "False\n",
      "False\n"
     ]
    }
   ],
   "source": [
    "# isspace() - Returns true if all the characters are white spaces\n",
    "name = \"     \"\n",
    "print(name.isspace())\n",
    "name = 'pa paper'\n",
    "print(name.isspace())\n",
    "name = 'pa 1@per'\n",
    "print(name.isspace())"
   ]
  },
  {
   "cell_type": "code",
   "execution_count": 153,
   "metadata": {},
   "outputs": [
    {
     "name": "stdout",
     "output_type": "stream",
     "text": [
      "c\n"
     ]
    }
   ],
   "source": [
    "# max() - Returns the max character from string \n",
    "name = \" abcXYZ\"   # c\n",
    "print(max(name))"
   ]
  },
  {
   "cell_type": "code",
   "execution_count": 156,
   "metadata": {},
   "outputs": [
    {
     "name": "stdout",
     "output_type": "stream",
     "text": [
      "A\n"
     ]
    }
   ],
   "source": [
    "# min() - Returns the min character from string\n",
    "name = 'Ans_ans'  # A\n",
    "print(min(name))"
   ]
  },
  {
   "cell_type": "code",
   "execution_count": 158,
   "metadata": {},
   "outputs": [
    {
     "name": "stdout",
     "output_type": "stream",
     "text": [
      "Python is difficult\n",
      "Python is easy\n"
     ]
    }
   ],
   "source": [
    "# replace() Returns a copy of the string in which the occurences of \n",
    "# old have been replaced with new string\n",
    "str1 = 'Python is difficult'\n",
    "print(str1)\n",
    "str2 = str1.replace(\"difficult\", \"easy\")\n",
    "print(str2)"
   ]
  },
  {
   "cell_type": "code",
   "execution_count": 162,
   "metadata": {},
   "outputs": [
    {
     "name": "stdout",
     "output_type": "stream",
     "text": [
      "['What', 'is', 'your', 'name?']\n",
      "<class 'list'>\n",
      "['06', '10', '2003']\n",
      "<class 'list'>\n"
     ]
    }
   ],
   "source": [
    "# split() - Returns a list of all the words in the string, using a string\n",
    "# as a separator\n",
    "# splits on all whitespaes\n",
    "str1 = 'What is your name?'\n",
    "str2 = str1.split(' ')  # returns list\n",
    "print(str2)\n",
    "print(type(str2))\n",
    "str1 = '06-10-2003'\n",
    "str2 = str1.split('-')  # returns list\n",
    "print(str2)\n",
    "print(type(str2))"
   ]
  },
  {
   "cell_type": "code",
   "execution_count": 163,
   "metadata": {},
   "outputs": [
    {
     "name": "stdout",
     "output_type": "stream",
     "text": [
      "['06', '10', '2003']\n",
      "<class 'list'>\n",
      "06 10 2003\n",
      "<class 'str'>\n"
     ]
    }
   ],
   "source": [
    "# join() joins the list\n",
    "str1 = '06-10-2003'\n",
    "str2 = str1.split('-')  # returns list\n",
    "print(str2)\n",
    "print(type(str2))\n",
    "str3 = ' '.join(str2)\n",
    "print(str3)\n",
    "print(type(str3))"
   ]
  },
  {
   "cell_type": "markdown",
   "metadata": {},
   "source": [
    "## String formatting\n",
    "\n",
    "There are three different ways to perform string formatting:-\n",
    "\n",
    "* Formatting with placeholders.\n",
    "* Formatting with.format() string method.\n",
    "* Formatting with string literals, called f-strings."
   ]
  },
  {
   "cell_type": "markdown",
   "metadata": {},
   "source": [
    "### Formatting with placeholders\n",
    "\n",
    "Here we use the modulo `%` operator. The modulo % is also known as **“string-formatting operator”.** <br>\n",
    "\n",
    "`%s` is used to inject strings similarly `%d` for integers, `%f` for floating-point values, `%b` for binary format. "
   ]
  },
  {
   "cell_type": "code",
   "execution_count": 127,
   "metadata": {},
   "outputs": [
    {
     "name": "stdout",
     "output_type": "stream",
     "text": [
      "There are 4 apples, 6 bananas and 5 mangoes\n",
      "There are 4 apples, 6 bananas and 5 mangoes\n",
      "There are 4 apples, 6 bananas and 5 mangoes\n"
     ]
    }
   ],
   "source": [
    "print(\"There are %d apples, %d bananas and 5 %s\" %(4,6,'mangoes'))\n",
    "\n",
    "print(\"There are %d apples, \" %(4) + \"%d bananas and 5 %s\" %(6,'mangoes'))\n",
    "\n",
    "s = 'mangoes'\n",
    "print(\"There are %d apples, \" %(4) + \"%d bananas and 5 %s\" %(6,s))"
   ]
  },
  {
   "cell_type": "markdown",
   "metadata": {},
   "source": [
    "### Float precision with the placeholder method:\n",
    "\n",
    "Floating-point numbers use the format `%a.bf`. Here, `a` would be the **minimum number of digits to be present in the string**; these might be padded with white space if the whole number doesn’t have this many digits. Close to this,`.bf` **represents how many digits are to be displayed after the decimal point.**"
   ]
  },
  {
   "cell_type": "code",
   "execution_count": 137,
   "metadata": {},
   "outputs": [
    {
     "name": "stdout",
     "output_type": "stream",
     "text": [
      "The value of pi is:- 3.142\n",
      "The value of pi is:-  3.140\n",
      "The value of pi is:-3.000\n"
     ]
    }
   ],
   "source": [
    "print('The value of pi is:-%6.3f' %(3.141592))  #  we get a space here before 3.142  \n",
    "#total 5 digits, 3 after decimalpoint and 2 before decimal point --- we get a space before 3\n",
    "print('The value of pi is:-%7.3f' %(3.14))  # two spaces before 3\n",
    "print('The value of pi is:-%5.3f' %(3))    # no space"
   ]
  },
  {
   "cell_type": "markdown",
   "metadata": {},
   "source": [
    "## Formatting with the .format() string method\n",
    "`.format()` method takes any number of parameters. But, is divided into two types of parameters:\n",
    "\n",
    "Positional parameters - list of parameters that can be accessed with index of parameter inside curly braces `{index}` <br>\n",
    "\n",
    "\n",
    "Keyword parameters - list of parameters of type key=value, that can be accessed with key of parameter inside curly braces `{key}`"
   ]
  },
  {
   "cell_type": "code",
   "execution_count": 194,
   "metadata": {},
   "outputs": [
    {
     "name": "stdout",
     "output_type": "stream",
     "text": [
      "Sum of 3 and 4 is 7\n",
      "Sum of 4 and 3 is 7\n",
      "Sum of 4 and 7 is 3\n",
      "Sum of 4 and 3 is 3\n",
      "Sum of 3 and 4 is 7\n",
      "Sum of 3 and 4 is 7\n",
      "Sum of 3 and 3 is 3\n",
      "\n",
      "The valueof pi is: 3.14159 and 3.142\n",
      "The valueof pi is: 3.14150 and 3.1\n"
     ]
    }
   ],
   "source": [
    "a = 3\n",
    "b = 4\n",
    "c = a+b\n",
    "print(\"Sum of {0} and {1} is {2}\".format(a,b,c))\n",
    "print(\"Sum of {1} and {0} is {2}\".format(a,b,c))\n",
    "print(\"Sum of {1} and {2} is {0}\".format(a,b,c))\n",
    "print(\"Sum of {1} and {0} is {0}\".format(a,b,c))\n",
    "print(\"Sum of {} and {} is {}\".format(a,b,c))\n",
    "# keyword parameters\n",
    "print(\"Sum of {k} and {l} is {m}\".format(k=a, l=b, m=c))\n",
    "print(\"Sum of {k} and {k} is {k}\".format(k=a))\n",
    "# print(\"Sum of {} and {} is {}\".format(k=a, l=b, m=c))  # error\n",
    "# print(\"Sum of {1} and {4} is {0}\".format(a,b,c))  # error index out of range\n",
    "print()\n",
    "# precision method\n",
    "#                          0            1                0          1\n",
    "print('The valueof pi is: {0:1.5f} and {1:5.4}'.format(3.141592, 3.1415))\n",
    "print('The valueof pi is: {1:1.5f} and {0:2.4}'.format(3.1, 3.1415))\n",
    "# print('The valueof pi is: {1:1.5f} and {0:2.4}'.format(3, 3.1415))  # error  Precision not allowed in integer format specifier"
   ]
  },
  {
   "cell_type": "markdown",
   "metadata": {},
   "source": [
    "## Formatted String Literals (f-strings)\n",
    "\n",
    "Here we can use outside variables directly into the string instead of passing them as arguments. "
   ]
  },
  {
   "cell_type": "code",
   "execution_count": 199,
   "metadata": {},
   "outputs": [
    {
     "name": "stdout",
     "output_type": "stream",
     "text": [
      "product of 5  and 4 is  20\n",
      "product of 20  and 4 is  5\n"
     ]
    }
   ],
   "source": [
    "a = 5\n",
    "b = 4\n",
    "print(f\"product of {a}\", f\" and {b} is \", f\"{a*b}\")\n",
    "print(f\"product of {a*b}\", f\" and {b} is \", f\"{a}\")\n",
    "# print(f\"product of {}\", f\" and {} is \", f\"{}\") # error f-string: empty expression not allowed"
   ]
  },
  {
   "cell_type": "markdown",
   "metadata": {},
   "source": [
    "<center>\n",
    "    <h1>END OF CHAPTER 5</h1>\n",
    "    </center>\n",
    "    "
   ]
  }
 ],
 "metadata": {
  "kernelspec": {
   "display_name": "Python 3",
   "language": "python",
   "name": "python3"
  },
  "language_info": {
   "codemirror_mode": {
    "name": "ipython",
    "version": 3
   },
   "file_extension": ".py",
   "mimetype": "text/x-python",
   "name": "python",
   "nbconvert_exporter": "python",
   "pygments_lexer": "ipython3",
   "version": "3.7.6"
  }
 },
 "nbformat": 4,
 "nbformat_minor": 4
}

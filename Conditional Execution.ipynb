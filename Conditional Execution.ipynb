{
 "cells": [
  {
   "cell_type": "markdown",
   "metadata": {},
   "source": [
    "## Boolean expressions\n",
    "\n",
    "A _boolean expression_ is an expression that is either **true** or **false.** \n",
    "\n",
    "All the following operators results either True or False\n",
    "* a > b\n",
    "* a < b\n",
    "* a == b  ( == is comparision b/w two operands)\n",
    "* a != b\n",
    "* a >= b\n",
    "* a <= b\n",
    "* a is b  ( a is same as b )\n",
    "* a is not b  ( a is not same as b)\n",
    "\n",
    "**True** and **False** are special values that belongs to class _bool_ ;\n",
    "They are not strings"
   ]
  },
  {
   "cell_type": "code",
   "execution_count": 20,
   "metadata": {},
   "outputs": [
    {
     "name": "stdout",
     "output_type": "stream",
     "text": [
      "Enter a number: 3\n",
      "Enter another number: 2\n",
      "<class 'bool'>\n",
      "<class 'bool'>\n",
      "True\n",
      "False\n",
      "False\n",
      "True\n"
     ]
    }
   ],
   "source": [
    "a = int(input(\"Enter a number: \"))  # 3\n",
    "b = int(input(\"Enter another number: \")) # 2\n",
    "\n",
    "print(type(True))\n",
    "print(type(False))\n",
    "\n",
    "print(a != b) #true\n",
    "print(a == b) #false\n",
    "print(a is b) #false\n",
    "print(a is not b) #true"
   ]
  },
  {
   "cell_type": "markdown",
   "metadata": {},
   "source": [
    "## Logical Operators\n",
    "\n",
    "There are three logical operators: **and**, **or**, **not**. The meaning of these operators is similar to their meaning in English.\n",
    "\n",
    "<u>AND Operator: </u>\n",
    "\n",
    "|A|B|Result|\n",
    "|---|---|---|\n",
    "|False|True|False\n",
    "|False|False|False\n",
    "|True|False|False\n",
    "|True|True|True\n"
   ]
  },
  {
   "cell_type": "code",
   "execution_count": 21,
   "metadata": {},
   "outputs": [
    {
     "name": "stdout",
     "output_type": "stream",
     "text": [
      "False\n",
      "False\n",
      "False\n",
      "True\n",
      "3\n",
      "0\n"
     ]
    }
   ],
   "source": [
    "print(3 < 0 and 3 < 10)\n",
    "print(3 < 0 and 3 > 10)\n",
    "print(3 > 0 and 3 > 10)\n",
    "print(3 > 0 and 3 < 10)\n",
    "\n",
    "print(5 and 3)  # if 5 is true and 3 is true, then result is second value\n",
    "print(0 and 3)  # is false, result is 0"
   ]
  },
  {
   "cell_type": "markdown",
   "metadata": {},
   "source": [
    "\n",
    "<u>OR Operator: </u>\n",
    "\n",
    "|A|B|Result|\n",
    "|---|---|---|\n",
    "|False|True|True\n",
    "|False|False|False\n",
    "|True|False|True \n",
    "|True|True|True\n",
    "\n"
   ]
  },
  {
   "cell_type": "code",
   "execution_count": 27,
   "metadata": {},
   "outputs": [
    {
     "name": "stdout",
     "output_type": "stream",
     "text": [
      "True\n",
      "False\n",
      "True\n",
      "True\n",
      "5\n",
      "8\n"
     ]
    }
   ],
   "source": [
    "print(3 > 4 or 3 < 4)\n",
    "print(3 > 4 or 3 > 4)\n",
    "print(3 < 4 or 3 > 4)\n",
    "print(3 < 4 or 3 < 4)\n",
    "\n",
    "print(5 or 3)  # if 5 is true, so 3 is not evaluated -- result is 5\n",
    "k = 7\n",
    "print(0 or (k+1)) # 0 is false, so k+1 is evaluated --- result is 7"
   ]
  },
  {
   "cell_type": "markdown",
   "metadata": {},
   "source": [
    "<u>NOT Operator: </u>\n",
    "\n",
    "|A|Result|\n",
    "|---|---|\n",
    "|False|True\n",
    "|True|False \n",
    "\n"
   ]
  },
  {
   "cell_type": "code",
   "execution_count": 15,
   "metadata": {},
   "outputs": [
    {
     "name": "stdout",
     "output_type": "stream",
     "text": [
      "True\n",
      "False\n"
     ]
    }
   ],
   "source": [
    "print( not(3 > 4))  # not(False)   True  \n",
    "print( not(3 < 4))  # not(True)   False"
   ]
  },
  {
   "cell_type": "markdown",
   "metadata": {},
   "source": [
    "### Conditional execution\n",
    "\n",
    "The **if** statement:\n",
    "<pre>\n",
    "if a > 1:\n",
    "    print(\"True\")\n",
    "    </pre>\n",
    "The boolean expression after the if statement is called **condition**.\n",
    "We end the if statement with a colon character ( : ) and the lines after the if statement are **indented.**"
   ]
  },
  {
   "cell_type": "code",
   "execution_count": 29,
   "metadata": {},
   "outputs": [
    {
     "name": "stdout",
     "output_type": "stream",
     "text": [
      "true\n"
     ]
    }
   ],
   "source": [
    "if 3 > 4:\n",
    "    print('true')  # no output because 3 > 4 is false\n",
    "\n",
    "if 3 < 4:\n",
    "    print('true')  # prints true"
   ]
  },
  {
   "cell_type": "markdown",
   "metadata": {},
   "source": [
    "### Alternative execution\n",
    "\n",
    "A second form of the if statement is **alternative execution**, in which there are two posibilities and the condition deterines which one gets executed. <br>\n",
    "The syntax is\n",
    "\n",
    "<pre>\n",
    "if condition:\n",
    "    #statements\n",
    "else\n",
    "    #statements\n",
    "</pre>\n",
    "\n",
    "If if condition is **true** then else block is **not** executed <br>\n",
    "If if condition is **false** then else block is executed"
   ]
  },
  {
   "cell_type": "code",
   "execution_count": 33,
   "metadata": {},
   "outputs": [
    {
     "name": "stdout",
     "output_type": "stream",
     "text": [
      "True\n",
      "False\n"
     ]
    }
   ],
   "source": [
    "if 2 % 2 == 0:    # condition is true\n",
    "    print(\"True\")  \n",
    "else:\n",
    "    print(\"False\")\n",
    "    \n",
    "if 2 % 2 != 0:   # condition is false\n",
    "    print(\"True\")\n",
    "else:\n",
    "    print(\"False\") "
   ]
  },
  {
   "cell_type": "markdown",
   "metadata": {},
   "source": [
    "### Chain execution\n",
    "\n",
    "Using **elif** \n",
    "\n",
    "elif is an abbreviation of \"else if\". Exactly one branch will be executed.\n",
    "\n",
    "Syntax :\n",
    "<pre>\n",
    "if condition:\n",
    "    #statements\n",
    "elif condition:\n",
    "    #statements\n",
    "else:\n",
    "    #statements\n",
    "</pre>"
   ]
  },
  {
   "cell_type": "code",
   "execution_count": 34,
   "metadata": {},
   "outputs": [
    {
     "name": "stdout",
     "output_type": "stream",
     "text": [
      "Enter a number: 6\n",
      "Enter another number: 6\n",
      "x equals y\n"
     ]
    }
   ],
   "source": [
    "x = int(input(\"Enter a number: \"))\n",
    "y = int(input(\"Enter another number: \"))\n",
    "if x > y:\n",
    "    print(\"x is greater than y\")\n",
    "elif x < y:\n",
    "    print(\"x is less than y\")\n",
    "else:\n",
    "    print(\"x equals y\")"
   ]
  },
  {
   "cell_type": "markdown",
   "metadata": {},
   "source": [
    "## Nested Conditions\n",
    "\n",
    "One condition can also be nested within another. <br>\n",
    "example:\n",
    "<pre>\n",
    "if condition:\n",
    "    #statements\n",
    "else:\n",
    "    if condition:\n",
    "        #statements\n",
    "    else:\n",
    "        #statements\n",
    "</pre>"
   ]
  },
  {
   "cell_type": "code",
   "execution_count": 35,
   "metadata": {},
   "outputs": [
    {
     "name": "stdout",
     "output_type": "stream",
     "text": [
      "Enter a number: 3\n",
      "Enter another number: 3\n",
      "x equals y\n"
     ]
    }
   ],
   "source": [
    "x = int(input(\"Enter a number: \"))\n",
    "y = int(input(\"Enter another number: \"))\n",
    "if x > y:\n",
    "    print(\"x is greater than y\")\n",
    "else:\n",
    "    if x < y:\n",
    "        print(\"x is less than y\")\n",
    "    else:\n",
    "        print(\"x equals y\")"
   ]
  },
  {
   "cell_type": "code",
   "execution_count": 37,
   "metadata": {},
   "outputs": [
    {
     "name": "stdout",
     "output_type": "stream",
     "text": [
      "x is a positive single-digit number.\n",
      "x is a positive single-digit number.\n"
     ]
    }
   ],
   "source": [
    "if 0 < x:\n",
    "    if x < 10:\n",
    "        print('x is a positive single-digit number.')\n",
    "\n",
    "if 0 < x and x < 10:\n",
    "    print('x is a positive single-digit number.')"
   ]
  },
  {
   "cell_type": "markdown",
   "metadata": {},
   "source": [
    "## Catching exceptions using try and except\n"
   ]
  },
  {
   "cell_type": "code",
   "execution_count": 38,
   "metadata": {},
   "outputs": [
    {
     "name": "stdout",
     "output_type": "stream",
     "text": [
      "Enter a number: hello\n"
     ]
    },
    {
     "ename": "ValueError",
     "evalue": "invalid literal for int() with base 10: 'hello'",
     "output_type": "error",
     "traceback": [
      "\u001b[1;31m---------------------------------------------------------------------------\u001b[0m",
      "\u001b[1;31mValueError\u001b[0m                                Traceback (most recent call last)",
      "\u001b[1;32m<ipython-input-38-714ac031a43d>\u001b[0m in \u001b[0;36m<module>\u001b[1;34m\u001b[0m\n\u001b[1;32m----> 1\u001b[1;33m \u001b[0mnumber\u001b[0m \u001b[1;33m=\u001b[0m \u001b[0mint\u001b[0m\u001b[1;33m(\u001b[0m\u001b[0minput\u001b[0m\u001b[1;33m(\u001b[0m\u001b[1;34m\"Enter a number: \"\u001b[0m\u001b[1;33m)\u001b[0m\u001b[1;33m)\u001b[0m\u001b[1;33m\u001b[0m\u001b[1;33m\u001b[0m\u001b[0m\n\u001b[0m\u001b[0;32m      2\u001b[0m \u001b[0mprint\u001b[0m\u001b[1;33m(\u001b[0m\u001b[0mnumber\u001b[0m\u001b[1;33m)\u001b[0m\u001b[1;33m\u001b[0m\u001b[1;33m\u001b[0m\u001b[0m\n",
      "\u001b[1;31mValueError\u001b[0m: invalid literal for int() with base 10: 'hello'"
     ]
    }
   ],
   "source": [
    "number = int(input(\"Enter a number: \"))\n",
    "print(number)"
   ]
  },
  {
   "cell_type": "markdown",
   "metadata": {},
   "source": [
    "There is a conditional execution structure built into Python to handle these types of expected and unexpected errors called **try / except**. \n",
    "<br>\n",
    "\n",
    "The idea of try andexcept is that you know that some sequence of instruction(s) may have a problem and you want to add some statements to be executed if an error occurs.  <br>\n",
    "\n",
    "These extra statements (the except block) are ignored if there is no error."
   ]
  },
  {
   "cell_type": "code",
   "execution_count": 3,
   "metadata": {},
   "outputs": [
    {
     "name": "stdout",
     "output_type": "stream",
     "text": [
      "Enter a number: hello\n",
      "Please enter an integer\n"
     ]
    }
   ],
   "source": [
    "number = input(\"Enter a number: \")\n",
    "try:   # if no error while taking input\n",
    "    int(number)\n",
    "    print(number) \n",
    "except:\n",
    "    print(\"Please enter an integer\")"
   ]
  },
  {
   "cell_type": "code",
   "execution_count": 4,
   "metadata": {},
   "outputs": [
    {
     "name": "stdout",
     "output_type": "stream",
     "text": [
      "Enter a number: 34\n",
      "34\n"
     ]
    }
   ],
   "source": [
    "number = input(\"Enter a number: \")\n",
    "try:   # if no error while taking input\n",
    "    int(number)\n",
    "    print(number) \n",
    "except:\n",
    "    print(\"Please enter an integer\")"
   ]
  },
  {
   "cell_type": "code",
   "execution_count": 5,
   "metadata": {},
   "outputs": [
    {
     "name": "stdout",
     "output_type": "stream",
     "text": [
      "Enter a number: 0\n",
      "0\n"
     ]
    }
   ],
   "source": [
    "number = input(\"Enter a number: \")\n",
    "try:   # if no error while taking input\n",
    "    int(number)\n",
    "    print(number) \n",
    "except:\n",
    "    print(\"Please enter an integer\")"
   ]
  },
  {
   "cell_type": "markdown",
   "metadata": {},
   "source": [
    "## Short-circuit evaluation of logical expressions\n",
    "\n",
    "\n",
    "When Python is processing a logical expression such as \n",
    "**expression1 and expression2** , <br>\n",
    "it evaluates the expression from left to right.  <br>\n",
    "\n",
    "Because of the _definition of and,_ \n",
    "if expression1 is False, the whole expression is False\n",
    "**regardless of whether expression2 evaluates to True or False.**\n",
    "\n",
    "When Python detects that there is nothing to be gained by evaluating the rest of a logical expression,<br>\n",
    "it stops its evaluation and does not do the computations in the rest of the logical expression.\n",
    "\n",
    "When the evaluation of a logical expression stops because the overall value is **already known,** it is called short-circuiting the\n",
    "evaluation."
   ]
  },
  {
   "cell_type": "code",
   "execution_count": 45,
   "metadata": {},
   "outputs": [
    {
     "name": "stdout",
     "output_type": "stream",
     "text": [
      "False\n"
     ]
    }
   ],
   "source": [
    "a = 5\n",
    "b = 0\n",
    "\n",
    "print(a > 5 and (b/a) > 2) \n",
    "# prints false because a > 5 is false and the rest of statements will not execute\n",
    "# first exp is false and no need to evaluate 2nd exp"
   ]
  },
  {
   "cell_type": "code",
   "execution_count": 49,
   "metadata": {},
   "outputs": [
    {
     "ename": "ZeroDivisionError",
     "evalue": "division by zero",
     "output_type": "error",
     "traceback": [
      "\u001b[1;31m---------------------------------------------------------------------------\u001b[0m",
      "\u001b[1;31mZeroDivisionError\u001b[0m                         Traceback (most recent call last)",
      "\u001b[1;32m<ipython-input-49-f71e8ca5f42b>\u001b[0m in \u001b[0;36m<module>\u001b[1;34m\u001b[0m\n\u001b[0;32m      2\u001b[0m \u001b[0mb\u001b[0m \u001b[1;33m=\u001b[0m \u001b[1;36m0\u001b[0m\u001b[1;33m\u001b[0m\u001b[1;33m\u001b[0m\u001b[0m\n\u001b[0;32m      3\u001b[0m \u001b[1;33m\u001b[0m\u001b[0m\n\u001b[1;32m----> 4\u001b[1;33m \u001b[0mprint\u001b[0m\u001b[1;33m(\u001b[0m\u001b[0ma\u001b[0m \u001b[1;33m>=\u001b[0m \u001b[1;36m5\u001b[0m \u001b[1;32mand\u001b[0m \u001b[1;33m(\u001b[0m\u001b[0ma\u001b[0m\u001b[1;33m/\u001b[0m\u001b[0mb\u001b[0m\u001b[1;33m)\u001b[0m \u001b[1;33m>\u001b[0m \u001b[1;36m2\u001b[0m\u001b[1;33m)\u001b[0m\u001b[1;33m\u001b[0m\u001b[1;33m\u001b[0m\u001b[0m\n\u001b[0m\u001b[0;32m      5\u001b[0m \u001b[1;31m# produces error, we are dividing a number with 0\u001b[0m\u001b[1;33m\u001b[0m\u001b[1;33m\u001b[0m\u001b[1;33m\u001b[0m\u001b[0m\n\u001b[0;32m      6\u001b[0m \u001b[1;31m# first exp is true and second exp should evaluated\u001b[0m\u001b[1;33m\u001b[0m\u001b[1;33m\u001b[0m\u001b[1;33m\u001b[0m\u001b[0m\n",
      "\u001b[1;31mZeroDivisionError\u001b[0m: division by zero"
     ]
    }
   ],
   "source": [
    "a = 5\n",
    "b = 0\n",
    "\n",
    "print(a >= 5 and (a/b) > 2) \n",
    "# produces error, we are dividing a number with 0\n",
    "# first exp is true and second exp should evaluated"
   ]
  },
  {
   "cell_type": "markdown",
   "metadata": {},
   "source": [
    "<hr>"
   ]
  },
  {
   "cell_type": "markdown",
   "metadata": {},
   "source": [
    "Rewrite your pay computation to give the employee 1.5 times the hourly rate for hours worked above 40 hours.\n",
    "\n",
    "Enter hours: 45 <br>  \n",
    "Enter Rate: 10 <br>\n",
    "Pay: 475.0"
   ]
  },
  {
   "cell_type": "code",
   "execution_count": 55,
   "metadata": {},
   "outputs": [
    {
     "name": "stdout",
     "output_type": "stream",
     "text": [
      "Enter Hours: 45\n",
      "Enter rate: 10\n",
      "Pay: 475.0\n"
     ]
    }
   ],
   "source": [
    "hours = float(input(\"Enter Hours: \"))  # 45\n",
    "rate = float(input(\"Enter rate: \"))  # 10\n",
    "\n",
    "if hours <= 40:\n",
    "    pay = hours * rate\n",
    "    print(\"Pay: \" + str(pay))\n",
    "else:\n",
    "    # Extra 5 hours, for each hour pay is 5 * rate * pay computation\n",
    "    pay = (40 * rate) + ((hours - 40) * rate * 1.5 )\n",
    "    print(\"Pay: \" + str(pay))"
   ]
  },
  {
   "cell_type": "code",
   "execution_count": 1,
   "metadata": {},
   "outputs": [
    {
     "name": "stdout",
     "output_type": "stream",
     "text": [
      "Enter Hours: 45\n",
      "Enter rate: 10\n",
      "Pay: 475.0\n"
     ]
    }
   ],
   "source": [
    "hours = float(input(\"Enter Hours: \"))  # 45\n",
    "rate = float(input(\"Enter rate: \"))  # 10\n",
    "\n",
    "if hours <= 40:\n",
    "    pay = hours * rate\n",
    "    print(\"Pay: \" + str(pay))\n",
    "else:\n",
    "    # Extra 5 hours, for each hour pay is 5 * rate * pay computation\n",
    "    pay = (40 * rate) + ((hours - 40) * rate * 1.5 )\n",
    "    print(\"Pay: \" + str(pay))"
   ]
  },
  {
   "cell_type": "markdown",
   "metadata": {},
   "source": [
    "<hr>\n"
   ]
  },
  {
   "cell_type": "markdown",
   "metadata": {},
   "source": [
    "Rewrite your pay program using try and except so that your program\n",
    "handles non-numeric input gracefully by printing a message and exiting the program."
   ]
  },
  {
   "cell_type": "code",
   "execution_count": 20,
   "metadata": {},
   "outputs": [
    {
     "name": "stdout",
     "output_type": "stream",
     "text": [
      "Enter Hours: abcd\n",
      "Please enter numeric input\n"
     ]
    }
   ],
   "source": [
    "hours = input(\"Enter Hours: \")  # 45\n",
    "try:\n",
    "    hours = float(hours)\n",
    "    try:\n",
    "        rate = input(\"Enter rate: \")  # 10\n",
    "        float(rate)\n",
    "        if hours <= 40:\n",
    "            pay = hours * rate\n",
    "            print(\"Pay: \" + str(pay))\n",
    "        else:\n",
    "            # Extra 5 hours, for each hour pay is 5 * rate * pay computation\n",
    "            pay = (40 * rate) + ((hours - 40) * rate * 1.5 )                \n",
    "            print(\"Pay: \" + str(pay))\n",
    "    except:\n",
    "        print(\"Please enter numeric input\")\n",
    "except:\n",
    "    print(\"Please enter numeric input\")"
   ]
  },
  {
   "cell_type": "markdown",
   "metadata": {},
   "source": [
    "<hr>\n",
    "Write a program to prompt for a score between 0.0 and 1.0. <br>\n",
    "If the score is out of range, print an error message. If the score is between 0.0 and 1.0, <br>\n",
    "\n",
    "Print a grade using the following table:\n",
    "\n",
    "|Score|Grade|\n",
    "|---|---|\n",
    "|>= 0.9|A\n",
    "|>= 0.8|B\n",
    "|>= 0.7|C\n",
    "|>= 0.6|D\n",
    "|< 0.6|F  <br>\n",
    "\n",
    "Enter score: perfect <br>\n",
    "Bad score <br>\n",
    "Enter score: 10.0 <br>\n",
    "Bad score <br>\n",
    "Enter score: 0.75 <br>\n",
    "C <br>\n",
    "Enter score: 0.5 <br>\n",
    "F <br>"
   ]
  },
  {
   "cell_type": "code",
   "execution_count": 19,
   "metadata": {},
   "outputs": [
    {
     "name": "stdout",
     "output_type": "stream",
     "text": [
      "Enter a score b/w 0.0 and 1.0: abcd\n",
      "Bad score\n"
     ]
    }
   ],
   "source": [
    "score = input(\"Enter a score b/w 0.0 and 1.0: \")\n",
    "try:\n",
    "    score = float(score)\n",
    "    if score > 0.0 and score < 1.0:\n",
    "        if score >= 0.9:\n",
    "            print(\"A\")\n",
    "        elif score < 0.9 and score >= 0.8:\n",
    "            print(\"B\")\n",
    "        elif score < 0.8 and score >= 0.7:\n",
    "            print(\"C\")\n",
    "        elif score < 0.7 and score >= 0.6:\n",
    "            print(\"D\")\n",
    "        else:\n",
    "            print(\"F\")\n",
    "    else:\n",
    "        print(\"Bad score\")\n",
    "except:\n",
    "    print(\"Bad score\")"
   ]
  },
  {
   "cell_type": "code",
   "execution_count": 18,
   "metadata": {},
   "outputs": [
    {
     "name": "stdout",
     "output_type": "stream",
     "text": [
      "Enter a score b/w 0.0 and 1.0: 10\n",
      "Bad score\n"
     ]
    }
   ],
   "source": [
    "score = input(\"Enter a score b/w 0.0 and 1.0: \")\n",
    "try:\n",
    "    score = float(score)\n",
    "    if score > 0.0 and score < 1.0:\n",
    "        if score >= 0.9:\n",
    "            print(\"A\")\n",
    "        elif score < 0.9 and score >= 0.8:\n",
    "            print(\"B\")\n",
    "        elif score < 0.8 and score >= 0.7:\n",
    "            print(\"C\")\n",
    "        elif score < 0.7 and score >= 0.6:\n",
    "            print(\"D\")\n",
    "        else:\n",
    "            print(\"F\")\n",
    "    else:\n",
    "        print(\"Bad score\")\n",
    "except:\n",
    "    print(\"Bad score\")"
   ]
  },
  {
   "cell_type": "code",
   "execution_count": 23,
   "metadata": {},
   "outputs": [
    {
     "name": "stdout",
     "output_type": "stream",
     "text": [
      "Enter a score b/w 0.0 and 1.0: 0.5\n",
      "F\n"
     ]
    }
   ],
   "source": [
    "score = input(\"Enter a score b/w 0.0 and 1.0: \")\n",
    "try:\n",
    "    score = float(score)\n",
    "    if score >= 0.0 and score <= 1.0:\n",
    "        if score >= 0.9:\n",
    "            print(\"A\")\n",
    "        elif score < 0.9 and score >= 0.8:\n",
    "            print(\"B\")\n",
    "        elif score < 0.8 and score >= 0.7:\n",
    "            print(\"C\")\n",
    "        elif score < 0.7 and score >= 0.6:\n",
    "            print(\"D\")\n",
    "        else:\n",
    "            print(\"F\")\n",
    "    else:\n",
    "        print(\"Bad score\")\n",
    "except:\n",
    "    print(\"Bad score\")"
   ]
  },
  {
   "cell_type": "markdown",
   "metadata": {},
   "source": [
    "<center>\n",
    "    <h1> END OF CHAPTER 2</h1>\n",
    "</center>"
   ]
  }
 ],
 "metadata": {
  "kernelspec": {
   "display_name": "Python 3",
   "language": "python",
   "name": "python3"
  },
  "language_info": {
   "codemirror_mode": {
    "name": "ipython",
    "version": 3
   },
   "file_extension": ".py",
   "mimetype": "text/x-python",
   "name": "python",
   "nbconvert_exporter": "python",
   "pygments_lexer": "ipython3",
   "version": "3.7.6"
  }
 },
 "nbformat": 4,
 "nbformat_minor": 4
}

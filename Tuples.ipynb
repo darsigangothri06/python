{
 "cells": [
  {
   "cell_type": "markdown",
   "metadata": {},
   "source": [
    "# Tuples\n",
    "\n",
    "A tuple is a sequence of values much like a list. <br>\n",
    "\n",
    "Tuples are enclodes within `()` <br>\n",
    "\n",
    "The values sotred in tuple can be anu type, and they are `indexed by integers.` <br>\n"
   ]
  },
  {
   "cell_type": "code",
   "execution_count": 4,
   "metadata": {},
   "outputs": [
    {
     "name": "stdout",
     "output_type": "stream",
     "text": [
      "(1, 2, 3, 4, 5, 6)\n",
      "<class 'tuple'>\n",
      "('p', 'r', 's', 'o', 'l')\n",
      "<class 'tuple'>\n"
     ]
    }
   ],
   "source": [
    "t = (1,2,3,4,5,6)\n",
    "print(t)\n",
    "print(type(t))\n",
    "\n",
    "\n",
    "# a tuple is a comma separated list of values\n",
    "q = 'p', 'r', 's', 'o', 'l'\n",
    "print(q)\n",
    "print(type(q))"
   ]
  },
  {
   "cell_type": "markdown",
   "metadata": {},
   "source": [
    "**Tuples are immutable**"
   ]
  },
  {
   "cell_type": "code",
   "execution_count": 2,
   "metadata": {},
   "outputs": [
    {
     "name": "stdout",
     "output_type": "stream",
     "text": [
      "1\n"
     ]
    },
    {
     "ename": "TypeError",
     "evalue": "'tuple' object does not support item assignment",
     "output_type": "error",
     "traceback": [
      "\u001b[1;31m---------------------------------------------------------------------------\u001b[0m",
      "\u001b[1;31mTypeError\u001b[0m                                 Traceback (most recent call last)",
      "\u001b[1;32m<ipython-input-2-d147836d9852>\u001b[0m in \u001b[0;36m<module>\u001b[1;34m\u001b[0m\n\u001b[0;32m      1\u001b[0m \u001b[0mt\u001b[0m \u001b[1;33m=\u001b[0m \u001b[1;33m(\u001b[0m\u001b[1;36m1\u001b[0m\u001b[1;33m,\u001b[0m\u001b[1;36m2\u001b[0m\u001b[1;33m,\u001b[0m\u001b[1;36m3\u001b[0m\u001b[1;33m,\u001b[0m\u001b[1;36m4\u001b[0m\u001b[1;33m,\u001b[0m\u001b[1;36m5\u001b[0m\u001b[1;33m,\u001b[0m\u001b[1;36m6\u001b[0m\u001b[1;33m)\u001b[0m\u001b[1;33m\u001b[0m\u001b[1;33m\u001b[0m\u001b[0m\n\u001b[0;32m      2\u001b[0m \u001b[0mprint\u001b[0m\u001b[1;33m(\u001b[0m\u001b[0mt\u001b[0m\u001b[1;33m[\u001b[0m\u001b[1;36m0\u001b[0m\u001b[1;33m]\u001b[0m\u001b[1;33m)\u001b[0m\u001b[1;33m\u001b[0m\u001b[1;33m\u001b[0m\u001b[0m\n\u001b[1;32m----> 3\u001b[1;33m \u001b[0mt\u001b[0m\u001b[1;33m[\u001b[0m\u001b[1;36m0\u001b[0m\u001b[1;33m]\u001b[0m \u001b[1;33m=\u001b[0m \u001b[1;36m2\u001b[0m   \u001b[1;31m# error\u001b[0m\u001b[1;33m\u001b[0m\u001b[1;33m\u001b[0m\u001b[0m\n\u001b[0m",
      "\u001b[1;31mTypeError\u001b[0m: 'tuple' object does not support item assignment"
     ]
    }
   ],
   "source": [
    "t = (1,2,3,4,5,6)\n",
    "print(t[0])\n",
    "t[0] = 2   # error"
   ]
  },
  {
   "cell_type": "code",
   "execution_count": 45,
   "metadata": {},
   "outputs": [
    {
     "name": "stdout",
     "output_type": "stream",
     "text": [
      "(1, 2, 3, 4, 5, [0, 78, 90])\n",
      "[0, 78, 90]\n",
      "(1, 2, 3, 4, 5, [45, 78, 90])\n"
     ]
    }
   ],
   "source": [
    "# However, items of mutable element can be changed\n",
    "TUPLE = (1,2,3,4,5, [0,78,90])\n",
    "print(TUPLE)\n",
    "print(TUPLE[5])\n",
    "TUPLE[5][0] = 45   # changes 0 to 45\n",
    "print(TUPLE)"
   ]
  },
  {
   "cell_type": "code",
   "execution_count": 46,
   "metadata": {},
   "outputs": [
    {
     "name": "stdout",
     "output_type": "stream",
     "text": [
      "(1, 2, 3, 4, 5, [0, 78, 90])\n",
      "tuple\n"
     ]
    }
   ],
   "source": [
    "# Tuples can be reassigned\n",
    "\n",
    "new_tuple = (1,2,3,4,5, [0,78,90])\n",
    "print(new_tuple)\n",
    "new_tuple = ('tuple')\n",
    "print(new_tuple)"
   ]
  },
  {
   "cell_type": "code",
   "execution_count": 9,
   "metadata": {},
   "outputs": [
    {
     "name": "stdout",
     "output_type": "stream",
     "text": [
      "('TUPLE',)\n",
      "<class 'tuple'>\n",
      "TUPLE\n",
      "<class 'str'>\n"
     ]
    }
   ],
   "source": [
    "# To create a tuple with single element, we have to include the final comma\n",
    "\n",
    "u = ('TUPLE',)\n",
    "print(u)\n",
    "print(type(u))\n",
    "\n",
    "# without comma, python treats 'TUPLE' as an expression with a string in ()\n",
    "u = ('TUPLE')\n",
    "print(u)\n",
    "print(type(u))"
   ]
  },
  {
   "cell_type": "markdown",
   "metadata": {},
   "source": [
    "To create an empty tuple, we can use built-in fucntion `tuple()`with no arguments"
   ]
  },
  {
   "cell_type": "code",
   "execution_count": 13,
   "metadata": {},
   "outputs": [
    {
     "name": "stdout",
     "output_type": "stream",
     "text": [
      "()\n",
      "<class 'tuple'>\n"
     ]
    }
   ],
   "source": [
    "c = tuple()   # empty tuple\n",
    "print(c)\n",
    "print(type(c))"
   ]
  },
  {
   "cell_type": "markdown",
   "metadata": {},
   "source": [
    "If the `argument is a sequence (str, list or tuple)`, the result of the call to the tuple is _a tuple with the elements of the sequence_"
   ]
  },
  {
   "cell_type": "code",
   "execution_count": 16,
   "metadata": {},
   "outputs": [
    {
     "name": "stdout",
     "output_type": "stream",
     "text": [
      "('S', 'E', 'Q', 'U', 'E', 'N', 'C', 'E')\n",
      "(1, 2, 3, 4)\n",
      "(1, 23, 45)\n"
     ]
    }
   ],
   "source": [
    "k = tuple('SEQUENCE')\n",
    "print(k)\n",
    "k = tuple([1,2,3,4])\n",
    "print(k)\n",
    "k = tuple((1,23,45))\n",
    "print(k)"
   ]
  },
  {
   "cell_type": "markdown",
   "metadata": {},
   "source": [
    "We can use `+ operator` to combine two tuples\n",
    "\n",
    "We can repeat the elements of tuples with `* operator`"
   ]
  },
  {
   "cell_type": "code",
   "execution_count": 47,
   "metadata": {},
   "outputs": [
    {
     "name": "stdout",
     "output_type": "stream",
     "text": [
      "(1, 2, 3, 4, 5, 6)\n",
      "joins joins joins \n"
     ]
    }
   ],
   "source": [
    "print((1, 2, 3) + (4, 5, 6))\n",
    "print(('joins ') * 3)"
   ]
  },
  {
   "cell_type": "markdown",
   "metadata": {},
   "source": [
    "### Deleting a tuple\n",
    "\n",
    "Using `del` keyword  (deleting entire tuple)"
   ]
  },
  {
   "cell_type": "code",
   "execution_count": 49,
   "metadata": {},
   "outputs": [
    {
     "ename": "NameError",
     "evalue": "name 'h' is not defined",
     "output_type": "error",
     "traceback": [
      "\u001b[1;31m---------------------------------------------------------------------------\u001b[0m",
      "\u001b[1;31mNameError\u001b[0m                                 Traceback (most recent call last)",
      "\u001b[1;32m<ipython-input-49-a4888e1ea266>\u001b[0m in \u001b[0;36m<module>\u001b[1;34m\u001b[0m\n\u001b[0;32m      1\u001b[0m \u001b[0mh\u001b[0m \u001b[1;33m=\u001b[0m \u001b[1;33m(\u001b[0m\u001b[1;36m1\u001b[0m\u001b[1;33m,\u001b[0m \u001b[1;36m2\u001b[0m\u001b[1;33m,\u001b[0m \u001b[1;36m3\u001b[0m\u001b[1;33m,\u001b[0m \u001b[1;36m4\u001b[0m\u001b[1;33m,\u001b[0m \u001b[1;36m5\u001b[0m\u001b[1;33m,\u001b[0m \u001b[1;36m6\u001b[0m\u001b[1;33m)\u001b[0m\u001b[1;33m\u001b[0m\u001b[1;33m\u001b[0m\u001b[0m\n\u001b[0;32m      2\u001b[0m \u001b[1;32mdel\u001b[0m \u001b[0mh\u001b[0m\u001b[1;33m\u001b[0m\u001b[1;33m\u001b[0m\u001b[0m\n\u001b[1;32m----> 3\u001b[1;33m \u001b[0mprint\u001b[0m\u001b[1;33m(\u001b[0m\u001b[0mh\u001b[0m\u001b[1;33m)\u001b[0m  \u001b[1;31m# error 'h' is not defined\u001b[0m\u001b[1;33m\u001b[0m\u001b[1;33m\u001b[0m\u001b[0m\n\u001b[0m",
      "\u001b[1;31mNameError\u001b[0m: name 'h' is not defined"
     ]
    }
   ],
   "source": [
    "h = (1, 2, 3, 4, 5, 6)\n",
    "del h\n",
    "print(h)  # error 'h' is not defined"
   ]
  },
  {
   "cell_type": "markdown",
   "metadata": {},
   "source": [
    "### Slice operator\n",
    "|0|1|2|3|4|5|6|7|8|9|10|\n",
    "|---|---|---|---|---|---|---|---|---|---|---|\n",
    "|a|b|c|d|e|f|g|h|i|j|k|\n",
    "|-11|-10|-9|-8|-7|-6|-5|-4|-3|-2|-1|"
   ]
  },
  {
   "cell_type": "code",
   "execution_count": 35,
   "metadata": {},
   "outputs": [
    {
     "name": "stdout",
     "output_type": "stream",
     "text": [
      "('a', 'b', 'c', 'd', 'e', 'f', 'g', 'h', 'i', 'j', 'k')\n",
      "('a', 'b', 'c', 'd', 'e', 'f', 'g', 'h', 'i', 'j')\n",
      "('b', 'c', 'd', 'e', 'f', 'g', 'h', 'i', 'j')\n",
      "('k', 'j', 'i', 'h', 'g', 'f', 'e', 'd', 'c', 'b', 'a')\n",
      "('f', 'e', 'd', 'c')\n",
      "('g', 'f', 'e', 'd', 'c')\n",
      "('g', 'e', 'c')\n",
      "('Alphabets ', 'a', 'b', 'c', 'd', 'e', 'f', 'g', 'h', 'i', 'j', 'k')\n",
      "<class 'tuple'>\n"
     ]
    }
   ],
   "source": [
    "s = tuple('abcdefghijk')\n",
    "\n",
    "print(s[:])   # beginning to ending\n",
    "print(s[:10])    # upto j\n",
    "print(s[1:10])   # b to j\n",
    "print(s[::-1])   # reverses the string\n",
    "print(s[5:1:-1])  # f d e c\n",
    "print(s[6:1:-1])  # g f e d c\n",
    "print(s[6:1:-2])   # g e c\n",
    "\n",
    "n = (\"Alphabets \",) + s[:]\n",
    "print(n)\n",
    "print(type(n))"
   ]
  },
  {
   "cell_type": "markdown",
   "metadata": {},
   "source": [
    "## Comparing tuples"
   ]
  },
  {
   "cell_type": "code",
   "execution_count": 36,
   "metadata": {},
   "outputs": [
    {
     "name": "stdout",
     "output_type": "stream",
     "text": [
      "True\n",
      "False\n"
     ]
    }
   ],
   "source": [
    "print((0, 1, 500, 3, 4, 5, 6)  < (0, 11, 234, 56))  # true  - 1 < 11\n",
    "print((0, 12, 500, 3, 4, 5, 6)  < (0, 11, 234, 56))  # false 12 > 11"
   ]
  },
  {
   "cell_type": "markdown",
   "metadata": {},
   "source": [
    "### Membership test\n",
    "\n",
    "We can test if an item exists in a tuple or not, using `in`"
   ]
  },
  {
   "cell_type": "code",
   "execution_count": 54,
   "metadata": {},
   "outputs": [
    {
     "name": "stdout",
     "output_type": "stream",
     "text": [
      "('m', 'a', 'n', 'g', 'o', 'e', 's')\n",
      "True\n",
      "True\n",
      "False\n",
      "True\n"
     ]
    }
   ],
   "source": [
    "b = tuple('mangoes')\n",
    "print(b)\n",
    "print('m' in b)  # true\n",
    "print('g' in b)   # true\n",
    "print('k' in b)  # false\n",
    "print('k' not in b)  # true"
   ]
  },
  {
   "cell_type": "markdown",
   "metadata": {},
   "source": [
    "### Iterating Through a Tuple\n",
    "\n",
    "We can use a `for` loop to iterate through each item in a tuple."
   ]
  },
  {
   "cell_type": "code",
   "execution_count": 60,
   "metadata": {},
   "outputs": [
    {
     "name": "stdout",
     "output_type": "stream",
     "text": [
      "Hello  Tom\n",
      "Hello  Jerry\n"
     ]
    }
   ],
   "source": [
    "b = ('Tom', 'Jerry')\n",
    "\n",
    "for i in b:\n",
    "    print(\"Hello \", i)"
   ]
  },
  {
   "cell_type": "markdown",
   "metadata": {},
   "source": [
    "## Tuple methods\n",
    "\n",
    "* `count()` - Returns the number of times a specified value occurs in a tuple\n",
    "\n",
    "* `index()` - \tSearches the tuple for a specified value and returns the position of where it was found"
   ]
  },
  {
   "cell_type": "code",
   "execution_count": 61,
   "metadata": {},
   "outputs": [
    {
     "name": "stdout",
     "output_type": "stream",
     "text": [
      "['__add__', '__class__', '__contains__', '__delattr__', '__dir__', '__doc__', '__eq__', '__format__', '__ge__', '__getattribute__', '__getitem__', '__getnewargs__', '__gt__', '__hash__', '__init__', '__init_subclass__', '__iter__', '__le__', '__len__', '__lt__', '__mul__', '__ne__', '__new__', '__reduce__', '__reduce_ex__', '__repr__', '__rmul__', '__setattr__', '__sizeof__', '__str__', '__subclasshook__', 'count', 'index']\n"
     ]
    }
   ],
   "source": [
    "print(dir(tuple))"
   ]
  },
  {
   "cell_type": "code",
   "execution_count": 67,
   "metadata": {},
   "outputs": [
    {
     "name": "stdout",
     "output_type": "stream",
     "text": [
      "('m', 'a', 'n', 'g', 'o', 'e', 's', 's', 's', 's', 's')\n",
      "5\n",
      "1\n",
      "1\n",
      "6\n",
      "8\n"
     ]
    }
   ],
   "source": [
    "b = tuple('mangoesssss')\n",
    "print(b)\n",
    "print(b.count('s'))\n",
    "print(b.count('m'))\n",
    "print(b.count('m'))\n",
    "print(b.index('s'))\n",
    "print(b.index('s', 8,10))  # 8 is start and 10-9 is stop "
   ]
  },
  {
   "cell_type": "markdown",
   "metadata": {},
   "source": [
    "### Advantages of Tuple over List\n",
    "\n",
    "* We generally use tuples for heterogeneous (different) data types and lists for homogeneous (similar) data types.\n",
    "\n",
    "* Since tuples are immutable, iterating through a tuple is faster than with list. So there is a slight performance boost.\n",
    "\n",
    "* Tuples that contain immutable elements can be used as a key for a dictionary. With lists, this is not possible.\n",
    "\n",
    "* If you have data that doesn't change, implementing it as tuple will guarantee that it remains write-protected."
   ]
  },
  {
   "cell_type": "markdown",
   "metadata": {},
   "source": [
    "<center>\n",
    "    <h1>END OF CHAPTER 8</h1>\n",
    "</center>"
   ]
  }
 ],
 "metadata": {
  "kernelspec": {
   "display_name": "Python 3",
   "language": "python",
   "name": "python3"
  },
  "language_info": {
   "codemirror_mode": {
    "name": "ipython",
    "version": 3
   },
   "file_extension": ".py",
   "mimetype": "text/x-python",
   "name": "python",
   "nbconvert_exporter": "python",
   "pygments_lexer": "ipython3",
   "version": "3.7.6"
  }
 },
 "nbformat": 4,
 "nbformat_minor": 4
}

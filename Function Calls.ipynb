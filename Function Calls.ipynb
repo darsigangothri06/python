{
 "cells": [
  {
   "cell_type": "markdown",
   "metadata": {},
   "source": [
    "## Function calls\n",
    "\n",
    "A function is a named sequence of statements that performs a computation. <br>\n",
    "\n",
    "When you define a function, you specify the name and the sequence of statements. Later, you can call the function by name."
   ]
  },
  {
   "cell_type": "code",
   "execution_count": 2,
   "metadata": {},
   "outputs": [
    {
     "data": {
      "text/plain": [
       "bool"
      ]
     },
     "execution_count": 2,
     "metadata": {},
     "output_type": "execute_result"
    }
   ],
   "source": [
    "type(True)"
   ]
  },
  {
   "cell_type": "markdown",
   "metadata": {},
   "source": [
    "The name of the function is **type**. The expression in parentheses is called then _argument_ of the function. <br>\n",
    "\n",
    "The argument is a value or variable that we are passing into the function as an input. <br>\n",
    "\n",
    "The **result** for the type function is the **type of the argument**\n",
    "<br>\n",
    "\n",
    "A function _takes_ an argument and _returns_ a result. <br>\n",
    "The result is called the _return value_"
   ]
  },
  {
   "cell_type": "markdown",
   "metadata": {},
   "source": [
    "## Built-in functions\n",
    "\n",
    "Python provides a number of important built-in functions that we use without needing to provide the function definition. <br>\n",
    "\n",
    "The creators of Python wrote a set of functions to solve common problems and included them in Python for us to use. <br>\n",
    "\n"
   ]
  },
  {
   "cell_type": "code",
   "execution_count": 9,
   "metadata": {},
   "outputs": [
    {
     "name": "stdout",
     "output_type": "stream",
     "text": [
      "1\n",
      "3\n",
      "A\n",
      "z\n"
     ]
    }
   ],
   "source": [
    "# The min() and max() functions gives the minimum and maximum values in a list.\n",
    "a = [1,2,3]\n",
    "print(min(a))  # 1\n",
    "print(max(a))  # 3\n",
    "\n",
    "print(min(\"ABCD\"))  # min is A ( ASCII value of A is 65)\n",
    "print(max(\"XYZz\"))  # max is z (ASCII value of z is 122)"
   ]
  },
  {
   "cell_type": "code",
   "execution_count": 10,
   "metadata": {},
   "outputs": [
    {
     "name": "stdout",
     "output_type": "stream",
     "text": [
      "5\n",
      "3\n"
     ]
    }
   ],
   "source": [
    "# length of a string len()\n",
    "\n",
    "print(len('HELLO'))  # 5\n",
    "print(len([1,2,3]))  # 3"
   ]
  },
  {
   "cell_type": "markdown",
   "metadata": {},
   "source": [
    "## Type Conversion functions\n",
    "\n",
    "Python also provides built-in functions that convert values from one type to another. <br>\n",
    "\n",
    "The **int** function takes any value as argument and converts into integer if it can, or produces an error <br>\n",
    "\n",
    "int can convert a floating point values to integers, but it doesn't round off; it chops off the fraction part."
   ]
  },
  {
   "cell_type": "code",
   "execution_count": 13,
   "metadata": {},
   "outputs": [
    {
     "name": "stdout",
     "output_type": "stream",
     "text": [
      "123\n",
      "22\n",
      "-2\n"
     ]
    },
    {
     "ename": "ValueError",
     "evalue": "invalid literal for int() with base 10: '123hii'",
     "output_type": "error",
     "traceback": [
      "\u001b[1;31m---------------------------------------------------------------------------\u001b[0m",
      "\u001b[1;31mValueError\u001b[0m                                Traceback (most recent call last)",
      "\u001b[1;32m<ipython-input-13-a5c3713d5174>\u001b[0m in \u001b[0;36m<module>\u001b[1;34m\u001b[0m\n\u001b[0;32m      2\u001b[0m \u001b[0mprint\u001b[0m\u001b[1;33m(\u001b[0m\u001b[0mint\u001b[0m\u001b[1;33m(\u001b[0m\u001b[1;36m22.33\u001b[0m\u001b[1;33m)\u001b[0m\u001b[1;33m)\u001b[0m\u001b[1;33m\u001b[0m\u001b[1;33m\u001b[0m\u001b[0m\n\u001b[0;32m      3\u001b[0m \u001b[0mprint\u001b[0m\u001b[1;33m(\u001b[0m\u001b[0mint\u001b[0m\u001b[1;33m(\u001b[0m\u001b[1;33m-\u001b[0m\u001b[1;36m2.5\u001b[0m\u001b[1;33m)\u001b[0m\u001b[1;33m)\u001b[0m\u001b[1;33m\u001b[0m\u001b[1;33m\u001b[0m\u001b[0m\n\u001b[1;32m----> 4\u001b[1;33m \u001b[0mprint\u001b[0m\u001b[1;33m(\u001b[0m\u001b[0mint\u001b[0m\u001b[1;33m(\u001b[0m\u001b[1;34m'123hii'\u001b[0m\u001b[1;33m)\u001b[0m\u001b[1;33m)\u001b[0m\u001b[1;33m\u001b[0m\u001b[1;33m\u001b[0m\u001b[0m\n\u001b[0m",
      "\u001b[1;31mValueError\u001b[0m: invalid literal for int() with base 10: '123hii'"
     ]
    }
   ],
   "source": [
    "print(int('123'))\n",
    "print(int(22.33))\n",
    "print(int(-2.5))\n",
    "print(int('123hii'))"
   ]
  },
  {
   "cell_type": "markdown",
   "metadata": {},
   "source": [
    "Float converts integers and strings to floating-point numbers"
   ]
  },
  {
   "cell_type": "code",
   "execution_count": 14,
   "metadata": {},
   "outputs": [
    {
     "name": "stdout",
     "output_type": "stream",
     "text": [
      "32.3\n",
      "32.0\n"
     ]
    }
   ],
   "source": [
    "print(float('32.3'))\n",
    "print(float(32))"
   ]
  },
  {
   "cell_type": "markdown",
   "metadata": {},
   "source": [
    "String converts its argument to a string"
   ]
  },
  {
   "cell_type": "code",
   "execution_count": 17,
   "metadata": {},
   "outputs": [
    {
     "name": "stdout",
     "output_type": "stream",
     "text": [
      "<class 'str'>\n",
      "<class 'str'>\n"
     ]
    }
   ],
   "source": [
    "a = str(323)\n",
    "print(type(a))\n",
    "a = str(23.23)\n",
    "print(type(a))"
   ]
  },
  {
   "cell_type": "markdown",
   "metadata": {},
   "source": [
    "## Random numbers\n",
    "\n",
    "The **random module** provides functions that generate **pseudorandom** numbers which we call as **random** <br>\n",
    "\n",
    "The function random returns a random float between 0.0 and 1.0 ( including 0.0 but not 1.0). Each time you call random, you get the next number in a long series."
   ]
  },
  {
   "cell_type": "code",
   "execution_count": 19,
   "metadata": {},
   "outputs": [
    {
     "name": "stdout",
     "output_type": "stream",
     "text": [
      "0.3997899042804045\n",
      "0.03407523963135628\n",
      "0.5978418613744284\n",
      "0.3872423895509992\n",
      "0.30788582078333826\n"
     ]
    }
   ],
   "source": [
    "import random\n",
    "\n",
    "# this program produces list of 5 random numbers\n",
    "\n",
    "for i in range(5):\n",
    "    x = random.random()\n",
    "    print(x)"
   ]
  },
  {
   "cell_type": "code",
   "execution_count": 20,
   "metadata": {},
   "outputs": [
    {
     "name": "stdout",
     "output_type": "stream",
     "text": [
      "0.6762938140261183\n",
      "0.5617911606664219\n",
      "0.9372703331495782\n",
      "0.9879740705241657\n",
      "0.07912745291330248\n"
     ]
    }
   ],
   "source": [
    "import random\n",
    "\n",
    "# this program produces list of 5 random numbers\n",
    "\n",
    "for i in range(5):\n",
    "    x = random.random()\n",
    "    print(x)"
   ]
  },
  {
   "cell_type": "markdown",
   "metadata": {},
   "source": [
    "The random function is only one of many functions that handle random numbers. <br>\n",
    "\n",
    "The function **randint** takes the parameters **low** and **high**, and returns an integer between low and high (including both)"
   ]
  },
  {
   "cell_type": "code",
   "execution_count": 21,
   "metadata": {},
   "outputs": [
    {
     "name": "stdout",
     "output_type": "stream",
     "text": [
      "8\n",
      "6\n",
      "9\n"
     ]
    }
   ],
   "source": [
    "import random\n",
    "\n",
    "print(random.randint(5,10))\n",
    "print(random.randint(5,10))\n",
    "print(random.randint(5,10))"
   ]
  },
  {
   "cell_type": "markdown",
   "metadata": {},
   "source": [
    "To choose an element from a sequence at random, you can use **choice.**"
   ]
  },
  {
   "cell_type": "code",
   "execution_count": 23,
   "metadata": {},
   "outputs": [
    {
     "name": "stdout",
     "output_type": "stream",
     "text": [
      "3\n",
      "4\n",
      "2\n"
     ]
    }
   ],
   "source": [
    "import random\n",
    "\n",
    "a = [1,2,3,4,5]\n",
    "print(random.choice(a))\n",
    "print(random.choice(a))\n",
    "print(random.choice(a))"
   ]
  },
  {
   "cell_type": "markdown",
   "metadata": {},
   "source": [
    "## Math functions\n",
    "\n",
    "Python has a **math module** that provides most of the familiar mathematical function. <br>\n",
    "\n",
    "Before we can use the module, we have to import it. <br>\n",
    "\n",
    "The module object contains the functions and variables defined in the module. <br>\n",
    "\n",
    "**To access one of the functions,** you have to specify the name of the module and the name of the function **separated by a dot (also known as period)**  <br>\n",
    "\n",
    "This format is called _dot notation_"
   ]
  },
  {
   "cell_type": "code",
   "execution_count": 25,
   "metadata": {},
   "outputs": [
    {
     "data": {
      "text/plain": [
       "3.141592653589793"
      ]
     },
     "execution_count": 25,
     "metadata": {},
     "output_type": "execute_result"
    }
   ],
   "source": [
    "import math\n",
    "\n",
    "math.pi"
   ]
  },
  {
   "cell_type": "code",
   "execution_count": 30,
   "metadata": {},
   "outputs": [
    {
     "name": "stdout",
     "output_type": "stream",
     "text": [
      "0.8509035245341184\n",
      "1.6197751905438615\n",
      "2.23606797749979\n"
     ]
    }
   ],
   "source": [
    "import math\n",
    "\n",
    "print(math.sin(45))\n",
    "print(math.tan(45))\n",
    "print(math.sqrt(5))"
   ]
  },
  {
   "cell_type": "markdown",
   "metadata": {},
   "source": [
    "---"
   ]
  }
 ],
 "metadata": {
  "kernelspec": {
   "display_name": "Python 3",
   "language": "python",
   "name": "python3"
  },
  "language_info": {
   "codemirror_mode": {
    "name": "ipython",
    "version": 3
   },
   "file_extension": ".py",
   "mimetype": "text/x-python",
   "name": "python",
   "nbconvert_exporter": "python",
   "pygments_lexer": "ipython3",
   "version": "3.7.6"
  }
 },
 "nbformat": 4,
 "nbformat_minor": 4
}

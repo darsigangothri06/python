{
 "cells": [
  {
   "cell_type": "markdown",
   "metadata": {},
   "source": [
    "# Functions"
   ]
  },
  {
   "cell_type": "markdown",
   "metadata": {},
   "source": [
    "## Adding new functions\n",
    "\n",
    "A function definition specifies the name of a new function and the sequence of statements that execute when the function is called\n",
    "\n",
    "Once we define a function, we can reuse the function over and over throughout our program."
   ]
  },
  {
   "cell_type": "code",
   "execution_count": 31,
   "metadata": {},
   "outputs": [],
   "source": [
    "def even():\n",
    "    a = int(input(\"Enter a number: \"))\n",
    "    if a % 2 == 0:\n",
    "        print(\"It is even number\")"
   ]
  },
  {
   "cell_type": "markdown",
   "metadata": {},
   "source": [
    "**def** is a keyword that indicates that, this is a function definition. <br>\n",
    "\n",
    "The name of the function is **even**. <br>\n",
    "\n",
    "The empty parantheses indicates that this function doesn't take any arguments.\n",
    "\n",
    "The first line of the function definition is called the _header_ <br>\n",
    "The rest is called the _body_. <br>\n",
    "* The header has to end with a colon\n",
    "* The body has to be indented"
   ]
  },
  {
   "cell_type": "code",
   "execution_count": 32,
   "metadata": {},
   "outputs": [
    {
     "name": "stdout",
     "output_type": "stream",
     "text": [
      "<class 'function'>\n",
      "Enter a number: 2\n",
      "It is even number\n"
     ]
    }
   ],
   "source": [
    "def even():\n",
    "    a = int(input(\"Enter a number: \"))\n",
    "    if a % 2 == 0:\n",
    "        print(\"It is even number\")\n",
    "\n",
    "print(type(even))        \n",
    "even()"
   ]
  },
  {
   "cell_type": "code",
   "execution_count": 36,
   "metadata": {},
   "outputs": [
    {
     "name": "stdout",
     "output_type": "stream",
     "text": [
      "Calling function\n",
      "Enter a number: 5\n",
      "Function called successfully\n",
      "<class 'function'>\n"
     ]
    }
   ],
   "source": [
    "def even():\n",
    "    a = int(input(\"Enter a number: \"))\n",
    "    if a % 2 == 0:\n",
    "        print(\"It is even number\")\n",
    "print(\"Calling function\")\n",
    "even()\n",
    "print(\"Function called successfully\")\n",
    "print(type(even))        "
   ]
  },
  {
   "cell_type": "markdown",
   "metadata": {},
   "source": [
    "## Parameters and arguments\n",
    "\n",
    "Inside the function, the arguments are assigned to variables called parameters. <br>"
   ]
  },
  {
   "cell_type": "code",
   "execution_count": 46,
   "metadata": {},
   "outputs": [
    {
     "name": "stdout",
     "output_type": "stream",
     "text": [
      "hello\n",
      "hello\n"
     ]
    }
   ],
   "source": [
    "def funct(value):   # value is a parameter\n",
    "    print(value)\n",
    "    print(value)\n",
    "funct('hello')     # 'hello' is an argument"
   ]
  },
  {
   "cell_type": "code",
   "execution_count": 40,
   "metadata": {},
   "outputs": [
    {
     "name": "stdout",
     "output_type": "stream",
     "text": [
      "5\n",
      "5\n"
     ]
    }
   ],
   "source": [
    "def funct(value):\n",
    "    print(value)\n",
    "    print(value)\n",
    "funct(5)"
   ]
  },
  {
   "cell_type": "code",
   "execution_count": 41,
   "metadata": {},
   "outputs": [
    {
     "name": "stdout",
     "output_type": "stream",
     "text": [
      "0.8564053345287732\n",
      "7\n"
     ]
    }
   ],
   "source": [
    "import random\n",
    "\n",
    "def funct(value):\n",
    "    print(value)\n",
    "    \n",
    "funct(random.random())\n",
    "funct(random.randint(1,10))"
   ]
  },
  {
   "cell_type": "code",
   "execution_count": 42,
   "metadata": {},
   "outputs": [
    {
     "name": "stdout",
     "output_type": "stream",
     "text": [
      "2.0\n"
     ]
    }
   ],
   "source": [
    "import math\n",
    "\n",
    "def funct(value):\n",
    "    print(value)\n",
    "    \n",
    "funct(math.sqrt(4))"
   ]
  },
  {
   "cell_type": "code",
   "execution_count": 45,
   "metadata": {},
   "outputs": [
    {
     "name": "stdout",
     "output_type": "stream",
     "text": [
      "bing_bing_bing_\n"
     ]
    }
   ],
   "source": [
    "def funct(value):\n",
    "    print(value)\n",
    "    \n",
    "funct('bing_' * 3)\n",
    "\n",
    "# argument is evaluated before passing to function"
   ]
  },
  {
   "cell_type": "markdown",
   "metadata": {},
   "source": [
    "## Fruitful functions and void functions\n",
    "\n",
    "Some of the functions which we are using, such as random, math functions gives results.<br>\n",
    "\n",
    "For lack of better name, we call them as _fruitful functions_ <br>\n",
    "Other functions like, funct() (above) perform an action but don't return a value. <br>\n",
    "\n",
    "They are called as _void functions_"
   ]
  },
  {
   "cell_type": "code",
   "execution_count": 50,
   "metadata": {},
   "outputs": [
    {
     "name": "stdout",
     "output_type": "stream",
     "text": [
      "9\n",
      "Function called successfully\n"
     ]
    }
   ],
   "source": [
    "# fruitful functions\n",
    "def sum_of_two(a,b): # taking two inputs\n",
    "    sum_of_digits = a + b\n",
    "    return sum_of_digits\n",
    "\n",
    "sum = sum_of_two(4,5)  # passing 4,5 to user defined function\n",
    "print(sum) \n",
    "print(\"Function called successfully\")"
   ]
  },
  {
   "cell_type": "code",
   "execution_count": 49,
   "metadata": {},
   "outputs": [
    {
     "name": "stdout",
     "output_type": "stream",
     "text": [
      "9\n",
      "Function called successfully\n"
     ]
    }
   ],
   "source": [
    "# void functions\n",
    "\n",
    "def sum_of_digits():  # no parameters\n",
    "    a = 5\n",
    "    b = 4\n",
    "    sum = a + b\n",
    "    print(sum)\n",
    "    \n",
    "sum_of_digits()  # calling function\n",
    "\n",
    "print(\"Function called successfully\")"
   ]
  },
  {
   "cell_type": "markdown",
   "metadata": {},
   "source": [
    "If you try to assign the void function to a variable, <br>\n",
    "\n",
    "you get a special value called **None**"
   ]
  },
  {
   "cell_type": "code",
   "execution_count": 51,
   "metadata": {},
   "outputs": [
    {
     "name": "stdout",
     "output_type": "stream",
     "text": [
      "9\n",
      "None\n"
     ]
    }
   ],
   "source": [
    "# void functions\n",
    "\n",
    "def sum_of_digits():  # no parameters\n",
    "    a = 5\n",
    "    b = 4\n",
    "    sum = a + b\n",
    "    print(sum)\n",
    "    \n",
    "k = sum_of_digits()\n",
    "print(k)"
   ]
  },
  {
   "cell_type": "markdown",
   "metadata": {},
   "source": [
    "The value None is not same as \"None\". It is a special value that has its own type."
   ]
  },
  {
   "cell_type": "code",
   "execution_count": 52,
   "metadata": {},
   "outputs": [
    {
     "name": "stdout",
     "output_type": "stream",
     "text": [
      "<class 'NoneType'>\n"
     ]
    }
   ],
   "source": [
    "print(type(None))"
   ]
  },
  {
   "cell_type": "markdown",
   "metadata": {},
   "source": [
    "<hr>\n"
   ]
  },
  {
   "cell_type": "markdown",
   "metadata": {},
   "source": [
    "What will the following Python program print out?\n",
    "\n",
    "<pre>\n",
    "def fred():\n",
    "    print(\"Zap\")\n",
    "\n",
    "def jane():\n",
    "    print(\"ABC\")\n",
    "    \n",
    "jane()\n",
    "fred()\n",
    "jane()\n",
    "\n",
    "</pre>"
   ]
  },
  {
   "cell_type": "code",
   "execution_count": 54,
   "metadata": {},
   "outputs": [
    {
     "name": "stdout",
     "output_type": "stream",
     "text": [
      "ABC\n",
      "Zap\n",
      "ABC\n"
     ]
    }
   ],
   "source": [
    "def fred():\n",
    "    print(\"Zap\")\n",
    "def jane():\n",
    "    print(\"ABC\")\n",
    "    \n",
    "jane()\n",
    "fred()\n",
    "jane()"
   ]
  },
  {
   "cell_type": "markdown",
   "metadata": {},
   "source": [
    "<hr>\n",
    "Rewrite your pay computation with time-and-a-half for overtime and\n",
    "create a function called computepay which takes two parameters (hours and rate). <br>\n",
    "\n",
    "Enter Hours: 45 <br>\n",
    "Enter Rate: 10 <br>\n",
    "Pay: 475.0 <br>"
   ]
  },
  {
   "cell_type": "code",
   "execution_count": 55,
   "metadata": {},
   "outputs": [
    {
     "name": "stdout",
     "output_type": "stream",
     "text": [
      "Enter hours: 45\n",
      "Enter rate: 10\n",
      "Pay: 475.0\n"
     ]
    }
   ],
   "source": [
    "def computepay(hours,rate):\n",
    "    if hours <= 40:\n",
    "        pay = hours * rate\n",
    "        print(\"Pay: \" + str(pay))\n",
    "    else:\n",
    "        pay = 40 * rate + (hours - 40) * rate * 1.5\n",
    "        print(\"Pay: \" + str(pay))\n",
    "\n",
    "hours = float(input(\"Enter hours: \"))\n",
    "rate = float(input(\"Enter rate: \"))\n",
    "computepay(hours,rate)\n"
   ]
  },
  {
   "cell_type": "markdown",
   "metadata": {},
   "source": [
    "<hr>\n",
    "Write a program to prompt for a score between 0.0 and 1.0. <br>\n",
    "If the score is out of range, print an error message. If the score is between 0.0 and 1.0, <br>\n",
    "\n",
    "Print a grade using the following table:\n",
    "\n",
    "|Score|Grade|\n",
    "|---|---|\n",
    "|>= 0.9|A\n",
    "|>= 0.8|B\n",
    "|>= 0.7|C\n",
    "|>= 0.6|D\n",
    "|< 0.6|F  <br>\n",
    "\n",
    "Enter score: perfect <br>\n",
    "Bad score <br>\n",
    "Enter score: 10.0 <br>\n",
    "Bad score <br>\n",
    "Enter score: 0.75 <br>\n",
    "C <br>\n",
    "Enter score: 0.5 <br>\n",
    "F <br>"
   ]
  },
  {
   "cell_type": "code",
   "execution_count": 57,
   "metadata": {},
   "outputs": [
    {
     "name": "stdout",
     "output_type": "stream",
     "text": [
      "Enter a score b/w 0.0 and 1.0: 10\n"
     ]
    },
    {
     "data": {
      "text/plain": [
       "'Bad score'"
      ]
     },
     "execution_count": 57,
     "metadata": {},
     "output_type": "execute_result"
    }
   ],
   "source": [
    "score = input(\"Enter a score b/w 0.0 and 1.0: \")\n",
    "\n",
    "def computegrade(score):\n",
    "    try:\n",
    "        score = float(score)\n",
    "        if score > 0.0 and score < 1.0:\n",
    "            if score >= 0.9:\n",
    "                return (\"A\")\n",
    "            elif score < 0.9 and score >= 0.8:\n",
    "                return (\"B\")\n",
    "            elif score < 0.8 and score >= 0.7:\n",
    "                return (\"C\")\n",
    "            elif score < 0.7 and score >= 0.6:\n",
    "                return (\"D\")\n",
    "            else:\n",
    "                return (\"F\")\n",
    "        else:\n",
    "            return (\"Bad score\")\n",
    "    except:\n",
    "        return (\"Bad score\")\n",
    "\n",
    "computegrade(score)\n",
    "    "
   ]
  },
  {
   "cell_type": "code",
   "execution_count": 58,
   "metadata": {},
   "outputs": [
    {
     "name": "stdout",
     "output_type": "stream",
     "text": [
      "Enter a score b/w 0.0 and 1.0: hello\n"
     ]
    },
    {
     "data": {
      "text/plain": [
       "'Bad score'"
      ]
     },
     "execution_count": 58,
     "metadata": {},
     "output_type": "execute_result"
    }
   ],
   "source": [
    "score = input(\"Enter a score b/w 0.0 and 1.0: \")\n",
    "\n",
    "def computegrade(score):\n",
    "    try:\n",
    "        score = float(score)\n",
    "        if score > 0.0 and score < 1.0:\n",
    "            if score >= 0.9:\n",
    "                return (\"A\")\n",
    "            elif score < 0.9 and score >= 0.8:\n",
    "                return (\"B\")\n",
    "            elif score < 0.8 and score >= 0.7:\n",
    "                return (\"C\")\n",
    "            elif score < 0.7 and score >= 0.6:\n",
    "                return (\"D\")\n",
    "            else:\n",
    "                return (\"F\")\n",
    "        else:\n",
    "            return (\"Bad score\")\n",
    "    except:\n",
    "        return (\"Bad score\")\n",
    "\n",
    "computegrade(score)"
   ]
  },
  {
   "cell_type": "code",
   "execution_count": 59,
   "metadata": {},
   "outputs": [
    {
     "name": "stdout",
     "output_type": "stream",
     "text": [
      "Enter a score b/w 0.0 and 1.0: 0.6\n"
     ]
    },
    {
     "data": {
      "text/plain": [
       "'D'"
      ]
     },
     "execution_count": 59,
     "metadata": {},
     "output_type": "execute_result"
    }
   ],
   "source": [
    "score = input(\"Enter a score b/w 0.0 and 1.0: \")\n",
    "\n",
    "def computegrade(score):\n",
    "    try:\n",
    "        score = float(score)\n",
    "        if score > 0.0 and score < 1.0:\n",
    "            if score >= 0.9:\n",
    "                return (\"A\")\n",
    "            elif score < 0.9 and score >= 0.8:\n",
    "                return (\"B\")\n",
    "            elif score < 0.8 and score >= 0.7:\n",
    "                return (\"C\")\n",
    "            elif score < 0.7 and score >= 0.6:\n",
    "                return (\"D\")\n",
    "            else:\n",
    "                return (\"F\")\n",
    "        else:\n",
    "            return (\"Bad score\")\n",
    "    except:\n",
    "        return (\"Bad score\")\n",
    "\n",
    "computegrade(score)"
   ]
  },
  {
   "cell_type": "markdown",
   "metadata": {},
   "source": [
    "---"
   ]
  },
  {
   "cell_type": "markdown",
   "metadata": {},
   "source": [
    "# Docstrings\n",
    "\n",
    "Python docstrings are the string literals that appear right after the definition of a function, method, class or module.\n",
    "\n",
    "### Declaring docstrings\n",
    "\n",
    "The docstrings are declared using `'''`triple single quotes or `\"\"\"` triple double quotes just below the class, method or function declaration. All functions should have a docstring\n",
    "\n",
    "* The docstring line should begin with a `capital letter` and end with a `period(.)`\n",
    "\n",
    "* The first line should be a short description.\n",
    "\n",
    "* If there are more lines in the documentation string, the second line should be `blank`, visullay separating the summary from the rest of the description.\n",
    "\n",
    "### Accessing docstrings\n",
    "\n",
    "The docstrings can be accessed using the `__doc__` method of the object or using the `help()` function."
   ]
  },
  {
   "cell_type": "code",
   "execution_count": 11,
   "metadata": {},
   "outputs": [
    {
     "name": "stdout",
     "output_type": "stream",
     "text": [
      "using __doc__ method : \n",
      "This function finds whether the given number is even or odd\n",
      "\n",
      "using help function\n",
      "Help on function even1 in module __main__:\n",
      "\n",
      "even1(num)\n",
      "    This function finds whether the given number is even or odd\n",
      "\n"
     ]
    }
   ],
   "source": [
    "def even1(num):\n",
    "    '''This function finds whether the given number is even or odd'''\n",
    "    if num%2 == 0:\n",
    "        print('even')\n",
    "    else:\n",
    "        print('odd')\n",
    "\n",
    "# using __doc__ method\n",
    "print('using __doc__ method : ')\n",
    "print(even1.__doc__)\n",
    "\n",
    "# using help()\n",
    "print()\n",
    "print('using help function')\n",
    "help(even1)"
   ]
  },
  {
   "cell_type": "code",
   "execution_count": 14,
   "metadata": {},
   "outputs": [
    {
     "name": "stdout",
     "output_type": "stream",
     "text": [
      "using __doc__ method : \n",
      "This function finds whether the given number is even or odd\n",
      "    and this is a second line of the documentation\n",
      "\n",
      "using help function\n",
      "Help on function even1 in module __main__:\n",
      "\n",
      "even1(num)\n",
      "    This function finds whether the given number is even or odd\n",
      "    and this is a second line of the documentation\n",
      "\n"
     ]
    }
   ],
   "source": [
    "def even1(num):\n",
    "    '''This function finds whether the given number is even or odd\n",
    "    and this is a second line of the documentation'''\n",
    "    \n",
    "    if num%2 == 0:\n",
    "        print('even')\n",
    "    else:\n",
    "        print('odd')\n",
    "\n",
    "# using __doc__ method\n",
    "print('using __doc__ method : ')\n",
    "print(even1.__doc__)\n",
    "\n",
    "# using help()\n",
    "print()\n",
    "print('using help function')\n",
    "help(even1)"
   ]
  },
  {
   "cell_type": "code",
   "execution_count": 15,
   "metadata": {},
   "outputs": [
    {
     "name": "stdout",
     "output_type": "stream",
     "text": [
      "using __doc__ method : \n",
      "\n",
      "    Even function.\n",
      "    \n",
      "    This function takes an arg\n",
      "    \n",
      "    And does not return any values.\n",
      "    \n",
      "    or returns None.\n",
      "    \n",
      "    \n",
      "\n",
      "using help function\n",
      "Help on function even1 in module __main__:\n",
      "\n",
      "even1(num)\n",
      "    Even function.\n",
      "    \n",
      "    This function takes an arg\n",
      "    \n",
      "    And does not return any values.\n",
      "    \n",
      "    or returns None.\n",
      "\n"
     ]
    }
   ],
   "source": [
    "def even1(num):\n",
    "    '''\n",
    "    Even function.\n",
    "    \n",
    "    This function takes an arg\n",
    "    \n",
    "    And does not return any values.\n",
    "    \n",
    "    or returns None.\n",
    "    \n",
    "    '''\n",
    "    \n",
    "    if num%2 == 0:\n",
    "        print('even')\n",
    "    else:\n",
    "        print('odd')\n",
    "\n",
    "# using __doc__ method\n",
    "print('using __doc__ method : ')\n",
    "print(even1.__doc__)\n",
    "\n",
    "# using help()\n",
    "print()\n",
    "print('using help function')\n",
    "help(even1)"
   ]
  },
  {
   "cell_type": "markdown",
   "metadata": {},
   "source": [
    "## Arguments\n",
    "\n",
    "Information can be passed into functions as arguments. <br>\n",
    "\n",
    "Arguments are specified after the function name, inside the prarentheses.\n",
    "\n",
    "You can add as many arguments as you want, just separate with a `,`\n"
   ]
  },
  {
   "cell_type": "code",
   "execution_count": 3,
   "metadata": {},
   "outputs": [
    {
     "name": "stdout",
     "output_type": "stream",
     "text": [
      "string\n",
      "<class 'str'>\n",
      "[1, 2, 3]\n",
      "<class 'list'>\n",
      "(1, 2, 3)\n",
      "<class 'tuple'>\n",
      "123\n",
      "<class 'int'>\n"
     ]
    }
   ],
   "source": [
    "def fun1(arg1):\n",
    "        print(arg1)\n",
    "        print(type(arg1))\n",
    "\n",
    "# callign fun1 and passing an arg\n",
    "fun1('string')\n",
    "fun1([1,2,3])\n",
    "fun1((1,2,3))\n",
    "fun1(123)"
   ]
  },
  {
   "cell_type": "markdown",
   "metadata": {},
   "source": [
    "## Parameters\n",
    "\n",
    "**A parameter is the variable that is listed inside the parentheses in the function definition.**\n",
    "\n",
    "An argument is the value that is sent to the function when it is called."
   ]
  },
  {
   "cell_type": "code",
   "execution_count": 6,
   "metadata": {},
   "outputs": [
    {
     "name": "stdout",
     "output_type": "stream",
     "text": [
      "string\n"
     ]
    }
   ],
   "source": [
    "def fun1(arg1):   # arg1 is a parameter\n",
    "        print(arg1)\n",
    "\n",
    "fun1('string')  # string is an arg"
   ]
  },
  {
   "cell_type": "markdown",
   "metadata": {},
   "source": [
    "A function must be called with correct no:of args.\n",
    "\n",
    "If your function expects 2 args, you have to call the function with 2 arga, not more and not less."
   ]
  },
  {
   "cell_type": "code",
   "execution_count": 7,
   "metadata": {},
   "outputs": [
    {
     "name": "stdout",
     "output_type": "stream",
     "text": [
      "pen pencil\n"
     ]
    },
    {
     "ename": "TypeError",
     "evalue": "fun1() missing 1 required positional argument: 'arg2'",
     "output_type": "error",
     "traceback": [
      "\u001b[1;31m---------------------------------------------------------------------------\u001b[0m",
      "\u001b[1;31mTypeError\u001b[0m                                 Traceback (most recent call last)",
      "\u001b[1;32m<ipython-input-7-7a5160ca5341>\u001b[0m in \u001b[0;36m<module>\u001b[1;34m\u001b[0m\n\u001b[0;32m      3\u001b[0m \u001b[1;33m\u001b[0m\u001b[0m\n\u001b[0;32m      4\u001b[0m \u001b[0mfun1\u001b[0m\u001b[1;33m(\u001b[0m\u001b[1;34m'pen'\u001b[0m\u001b[1;33m,\u001b[0m \u001b[1;34m'pencil'\u001b[0m\u001b[1;33m)\u001b[0m\u001b[1;33m\u001b[0m\u001b[1;33m\u001b[0m\u001b[0m\n\u001b[1;32m----> 5\u001b[1;33m \u001b[0mfun1\u001b[0m\u001b[1;33m(\u001b[0m\u001b[1;34m'pen'\u001b[0m\u001b[1;33m)\u001b[0m \u001b[1;31m# error\u001b[0m\u001b[1;33m\u001b[0m\u001b[1;33m\u001b[0m\u001b[0m\n\u001b[0m",
      "\u001b[1;31mTypeError\u001b[0m: fun1() missing 1 required positional argument: 'arg2'"
     ]
    }
   ],
   "source": [
    "def fun1(arg1, arg2):   \n",
    "        print(arg1, arg2)\n",
    "\n",
    "fun1('pen', 'pencil') \n",
    "fun1('pen') # error"
   ]
  },
  {
   "cell_type": "markdown",
   "metadata": {},
   "source": [
    "## Pass by reference\n",
    "\n",
    "Values to the argument of the function are **passed by reference**\n",
    "which means that the *address* of the variable is passed and then the operation is done on the value stored at that addess.\n",
    "\n",
    "When we pass something by reference, any changes are made inside the function, then those changes are reflected to the outside the function as well."
   ]
  },
  {
   "cell_type": "code",
   "execution_count": 54,
   "metadata": {},
   "outputs": [
    {
     "name": "stdout",
     "output_type": "stream",
     "text": [
      "1955316482760\n",
      "1955316482760\n",
      "1955316482760\n",
      "inside, function, list is : [1, 2, 4, 5, 6]\n",
      "outside, list is :  [1, 2, 4, 5, 6]\n"
     ]
    }
   ],
   "source": [
    "# passing lists and dictionaries\n",
    "def abc(p):\n",
    "    print(id(p))\n",
    "    p.append(6)\n",
    "    print(id(p))\n",
    "    print(\"inside, function, list is :\", p)\n",
    "\n",
    "l = [1,2,4,5]\n",
    "print(id(l))\n",
    "abc(l)\n",
    "print(\"outside, list is : \", l)"
   ]
  },
  {
   "cell_type": "markdown",
   "metadata": {},
   "source": [
    "## Pass by value\n",
    "\n",
    "Passing immutable objects like strings, numbers, tuple etc"
   ]
  },
  {
   "cell_type": "code",
   "execution_count": 57,
   "metadata": {},
   "outputs": [
    {
     "name": "stdout",
     "output_type": "stream",
     "text": [
      "1955316478768\n",
      "1955316480048\n",
      "inside, function : new mango\n",
      "outside function :  mango\n"
     ]
    }
   ],
   "source": [
    "# passing a string\n",
    "def abc(p):\n",
    "    p = 'new mango'\n",
    "    print(id(p))\n",
    "    print(\"inside, function :\", p)\n",
    "\n",
    "l = 'mango'\n",
    "print(id(l))\n",
    "abc(l)\n",
    "print(\"outside function : \", l)"
   ]
  },
  {
   "cell_type": "code",
   "execution_count": 58,
   "metadata": {},
   "outputs": [
    {
     "name": "stdout",
     "output_type": "stream",
     "text": [
      "1955316379064\n",
      "1955314829336\n",
      "inside, function  : (100, 200, 300)\n",
      "outside function :  (10, 20, 30)\n"
     ]
    }
   ],
   "source": [
    "# passing a tuple\n",
    "def abc(p):\n",
    "    p = (100,200,300)\n",
    "    print(id(p))\n",
    "    print(\"inside, function  :\", p)\n",
    "\n",
    "l = (10,20,30)\n",
    "print(id(l))\n",
    "abc(l)\n",
    "print(\"outside function : \", l)"
   ]
  },
  {
   "cell_type": "code",
   "execution_count": 56,
   "metadata": {},
   "outputs": [
    {
     "name": "stdout",
     "output_type": "stream",
     "text": [
      "140725917954256\n",
      "140725917958512\n",
      "inside, function  : 256\n",
      "outside function :  123\n"
     ]
    }
   ],
   "source": [
    "# passing an integer\n",
    "def abc(p):\n",
    "    p = 256\n",
    "    print(id(p))\n",
    "    print(\"inside, function  :\", p)\n",
    "\n",
    "l = 123\n",
    "print(id(l))\n",
    "abc(l)\n",
    "print(\"outside function : \", l)"
   ]
  },
  {
   "cell_type": "markdown",
   "metadata": {},
   "source": [
    "## Passing Arguments\n",
    "* Positional Arguments\n",
    "\n",
    "* Keyword Arguments\n",
    "\n",
    "* Default Arguments\n",
    "\n",
    "* Variable-length arguments\n",
    "\n",
    "* Keyword Variable-length arguments"
   ]
  },
  {
   "cell_type": "markdown",
   "metadata": {},
   "source": [
    "### Positional Arguments\n",
    "\n",
    "Positional arguments are arguments that need to be included in the proper position or order.\n",
    "\n",
    "The first positional argument always needs to be listed first when the function is called. The second positional argument needs to be listed second and the third positional argument listed third, etc."
   ]
  },
  {
   "cell_type": "code",
   "execution_count": 25,
   "metadata": {},
   "outputs": [
    {
     "name": "stdout",
     "output_type": "stream",
     "text": [
      "3 4\n",
      "4 3\n"
     ]
    }
   ],
   "source": [
    "# positional args\n",
    "def fun2(a,b):\n",
    "    print(a,b)\n",
    "fun2(3,4)\n",
    "fun2(4,3)"
   ]
  },
  {
   "cell_type": "markdown",
   "metadata": {},
   "source": [
    "### Keyword Arguments\n",
    "\n",
    "Keyword arguments are arguments that identify the parameters by their names."
   ]
  },
  {
   "cell_type": "code",
   "execution_count": 42,
   "metadata": {
    "scrolled": true
   },
   "outputs": [
    {
     "ename": "SyntaxError",
     "evalue": "positional argument follows keyword argument (<ipython-input-42-7d6c9a9d6122>, line 6)",
     "output_type": "error",
     "traceback": [
      "\u001b[1;36m  File \u001b[1;32m\"<ipython-input-42-7d6c9a9d6122>\"\u001b[1;36m, line \u001b[1;32m6\u001b[0m\n\u001b[1;33m    fun2(b = 3, 4)    # produces an error\u001b[0m\n\u001b[1;37m               ^\u001b[0m\n\u001b[1;31mSyntaxError\u001b[0m\u001b[1;31m:\u001b[0m positional argument follows keyword argument\n"
     ]
    }
   ],
   "source": [
    "def fun2(a,b):\n",
    "    print(a**b)\n",
    "fun2(a = 3, b = 4)\n",
    "fun2(b = 4, a = 3)\n",
    "\n",
    "fun2(b = 3, 4)    # produces an error\n",
    "# positional arg follows keyword arg, \n",
    "# but a keyword arg does not follow positional arg"
   ]
  },
  {
   "cell_type": "markdown",
   "metadata": {},
   "source": [
    "### Default Arguments\n",
    "\n",
    "We can mention some default value for the function parameters. \n",
    "\n",
    "This assumes the default value if a value is not provided in function for that argument\n",
    "\n",
    "**All the names of the args should match with argument of function called.**"
   ]
  },
  {
   "cell_type": "code",
   "execution_count": 45,
   "metadata": {},
   "outputs": [
    {
     "name": "stdout",
     "output_type": "stream",
     "text": [
      "8 3 5\n",
      "2 4 1\n",
      "2 88 5\n",
      "['a', 'b'] str {0: 1, 2: 'abc'}\n",
      "str {0: 1, 2: 'abc'} ['a', 'b']\n",
      "34 78 12\n",
      "23 6 5\n"
     ]
    }
   ],
   "source": [
    "def fun(a,b = 3, c = 5):\n",
    "    print(a,b,c)\n",
    "\n",
    "fun(8)  # 8  3  5\n",
    "fun(2, 4, 1)  # 2  4  1  --- b,c values are overriden\n",
    "fun(2, 88)  #  2  88  5 --- b value is overriden\n",
    "fun(a = ['a', 'b'], b = ('str'), c = {0:1, 2:'abc'})\n",
    "fun(c = ['a', 'b'], a = ('str'), b = {0:1, 2:'abc'})\n",
    "\n",
    "fun(a = 34, b = 78, c = 12)   # 34  78  12\n",
    "fun(23, b = 6)  # no error"
   ]
  },
  {
   "cell_type": "markdown",
   "metadata": {},
   "source": [
    "### Variable-length arguments `*args`\n",
    "\n",
    "If we want to develop a function that can accept 'n' arguments, thus a variable length argument is used in function definition. It is written with a `*` symbol as follows.\n",
    "<pre>\n",
    "    def add(farg, *args)\n",
    "</pre>\n",
    "\n",
    "Here, `farg` is the formal argument and `*args` represents the variable length argument. We can pass one or more values to this `*args` and it will store them all in a **`tuple`**"
   ]
  },
  {
   "cell_type": "code",
   "execution_count": 69,
   "metadata": {},
   "outputs": [
    {
     "name": "stdout",
     "output_type": "stream",
     "text": [
      "('number', 23.4, 6, [0, 1], 'asdf')\n",
      "<class 'tuple'>\n",
      "number\n",
      "23.4\n",
      "6\n",
      "[0, 1]\n",
      "asdf\n"
     ]
    }
   ],
   "source": [
    "def num(*k):\n",
    "    print(k)\n",
    "    print(type(k))\n",
    "    for i in k:\n",
    "        print(i)\n",
    "\n",
    "num('number', 23.4, 6, [0,1], ('asdf'))"
   ]
  },
  {
   "cell_type": "code",
   "execution_count": 70,
   "metadata": {},
   "outputs": [
    {
     "name": "stdout",
     "output_type": "stream",
     "text": [
      "('sun', 'moon', 'earth')\n",
      "<class 'tuple'>\n",
      "sun\n",
      "moon\n",
      "earth\n"
     ]
    }
   ],
   "source": [
    "def names(*arg):\n",
    "    '''This function prints the arguments passed to this function'''\n",
    "    \n",
    "    print(arg)  # prints a tuple of args\n",
    "    print(type(arg))  # tuple\n",
    "    for i in range(len(arg)):\n",
    "        print(arg[i])  # arg[0], arg[1]... arg[len-1]\n",
    "\n",
    "names(\"sun\", \"moon\", \"earth\")  "
   ]
  },
  {
   "cell_type": "code",
   "execution_count": 72,
   "metadata": {},
   "outputs": [
    {
     "name": "stdout",
     "output_type": "stream",
     "text": [
      "number\n",
      "23.4\n",
      "(6, [0, 1], 'asdf')\n",
      "<class 'tuple'>\n",
      "6\n",
      "[0, 1]\n",
      "asdf\n"
     ]
    }
   ],
   "source": [
    "def num(f,g,*k):\n",
    "    print(f)   # first value is assigned to f\n",
    "    print(g)   # second value is assigned to g\n",
    "    print(k)\n",
    "    print(type(k))\n",
    "    for i in k:\n",
    "        print(i)\n",
    "\n",
    "num('number', 23.4, 6, [0,1], ('asdf'))"
   ]
  },
  {
   "cell_type": "code",
   "execution_count": 75,
   "metadata": {},
   "outputs": [
    {
     "name": "stdout",
     "output_type": "stream",
     "text": [
      "(['number', 23.4, 6, [0, 1], 'asdf'],)\n",
      "<class 'tuple'>\n",
      "length of k is  1\n"
     ]
    }
   ],
   "source": [
    "def num(*k):\n",
    "    print(k)   # A tuple of list\n",
    "    print(type(k))  \n",
    "    print(\"length of k is \", len(k))\n",
    "\n",
    "num(['number', 23.4, 6, [0,1], ('asdf')])"
   ]
  },
  {
   "cell_type": "code",
   "execution_count": 79,
   "metadata": {},
   "outputs": [
    {
     "name": "stdout",
     "output_type": "stream",
     "text": [
      "('number', 23.4, 6, [0, 1], 'asdf')\n",
      "<class 'tuple'>\n",
      "length of k is  5\n"
     ]
    }
   ],
   "source": [
    "def num(*k):\n",
    "    print(k)   # A tuple of list\n",
    "    print(type(k))  \n",
    "    print(\"length of k is \", len(k))  # length is 5\n",
    "\n",
    "p = ['number', 23.4, 6, [0,1], ('asdf')]\n",
    "num(*p)  # is equivalent to num('number', 23.4, 6, [0,1], ('asdf'))\n",
    "# unpacking of elements --- like passing 5 different arguments"
   ]
  },
  {
   "cell_type": "code",
   "execution_count": 84,
   "metadata": {},
   "outputs": [
    {
     "name": "stdout",
     "output_type": "stream",
     "text": [
      "number 23.4 6 [0, 1] asdf\n"
     ]
    }
   ],
   "source": [
    "def num(a,b,c,d,e):\n",
    "    print(a,b,c,d,e)\n",
    "\n",
    "p = ['number', 23.4, 6, [0,1], ('asdf')]\n",
    "num(*p)  # passing 5 different arguments to num function"
   ]
  },
  {
   "cell_type": "code",
   "execution_count": 85,
   "metadata": {},
   "outputs": [
    {
     "ename": "TypeError",
     "evalue": "num() missing 4 required positional arguments: 'b', 'c', 'd', and 'e'",
     "output_type": "error",
     "traceback": [
      "\u001b[1;31m---------------------------------------------------------------------------\u001b[0m",
      "\u001b[1;31mTypeError\u001b[0m                                 Traceback (most recent call last)",
      "\u001b[1;32m<ipython-input-85-cade84dc527e>\u001b[0m in \u001b[0;36m<module>\u001b[1;34m\u001b[0m\n\u001b[0;32m      3\u001b[0m \u001b[1;33m\u001b[0m\u001b[0m\n\u001b[0;32m      4\u001b[0m \u001b[0mp\u001b[0m \u001b[1;33m=\u001b[0m \u001b[1;33m[\u001b[0m\u001b[1;34m'number'\u001b[0m\u001b[1;33m,\u001b[0m \u001b[1;36m23.4\u001b[0m\u001b[1;33m,\u001b[0m \u001b[1;36m6\u001b[0m\u001b[1;33m,\u001b[0m \u001b[1;33m[\u001b[0m\u001b[1;36m0\u001b[0m\u001b[1;33m,\u001b[0m\u001b[1;36m1\u001b[0m\u001b[1;33m]\u001b[0m\u001b[1;33m,\u001b[0m \u001b[1;33m(\u001b[0m\u001b[1;34m'asdf'\u001b[0m\u001b[1;33m)\u001b[0m\u001b[1;33m]\u001b[0m\u001b[1;33m\u001b[0m\u001b[1;33m\u001b[0m\u001b[0m\n\u001b[1;32m----> 5\u001b[1;33m \u001b[0mnum\u001b[0m\u001b[1;33m(\u001b[0m\u001b[0mp\u001b[0m\u001b[1;33m)\u001b[0m  \u001b[1;31m# passing a single list --- 4 args missing, error!!\u001b[0m\u001b[1;33m\u001b[0m\u001b[1;33m\u001b[0m\u001b[0m\n\u001b[0m",
      "\u001b[1;31mTypeError\u001b[0m: num() missing 4 required positional arguments: 'b', 'c', 'd', and 'e'"
     ]
    }
   ],
   "source": [
    "def num(a,b,c,d,e):\n",
    "    print(a,b,c,d,e)\n",
    "\n",
    "p = ['number', 23.4, 6, [0,1], ('asdf')]\n",
    "num(p)  # passing a single list --- 4 args missing, error!!"
   ]
  },
  {
   "cell_type": "markdown",
   "metadata": {},
   "source": [
    "### Keyword variable length arguments, `**kwargs`\n",
    "\n",
    "A keyword variable length argument is an argument that can accept any number of values provided in the format of keys and values. If we want to use a keyword variable length argument, we can declare it with `**` before the argument as follows:\n",
    "<pre>\n",
    "    def fun_name(farg, **kwargs)\n",
    "</pre>\n",
    "\n",
    "Here, `farg` is the formal argument and `**kwargs` represents a dictionary object.\n",
    "\n",
    "It means, when we provide values for `**kwargs` we can pass multiple key-value pairs"
   ]
  },
  {
   "cell_type": "code",
   "execution_count": 83,
   "metadata": {},
   "outputs": [
    {
     "name": "stdout",
     "output_type": "stream",
     "text": [
      "{'q': 'number', 'm': 23.4, 'n': 6, 'y': [0, 1], 'r': 'asdf'}\n",
      "<class 'dict'>\n",
      "Key:  q  and Value:  number\n",
      "Key:  m  and Value:  23.4\n",
      "Key:  n  and Value:  6\n",
      "Key:  y  and Value:  [0, 1]\n",
      "Key:  r  and Value:  asdf\n"
     ]
    }
   ],
   "source": [
    "def num(**k):\n",
    "    print(k)\n",
    "    print(type(k))\n",
    "    for i in k.keys():\n",
    "        print(\"Key: \", i, end = \" \")\n",
    "        print(\" and Value: \", k[i])\n",
    "\n",
    "num(q = 'number', m = 23.4, n = 6, y = [0,1], r = ('asdf'))"
   ]
  },
  {
   "cell_type": "markdown",
   "metadata": {},
   "source": [
    "## Scope of a variable\n",
    "\n",
    "If we define variables in a class or a function then thay are limited to the class or function and will be termed `local` but if they are declared outside then `global`.\n",
    "\n",
    "* `Global variable`\n",
    "\n",
    "* `Local variable`"
   ]
  },
  {
   "cell_type": "markdown",
   "metadata": {},
   "source": [
    "### Global variable\n",
    "\n",
    "When we declare the variables outside the body of the function or in global scope then they are declared as global variables as they have a global scope.\n",
    "\n",
    "Changes cannot be made to a global variable by using any function. If we do so, the changes will be isolated to a local variable inside the functions and it will not affect the global variable unless used with the *global keyword*"
   ]
  },
  {
   "cell_type": "code",
   "execution_count": 87,
   "metadata": {},
   "outputs": [
    {
     "name": "stdout",
     "output_type": "stream",
     "text": [
      "Inside function :  5\n",
      "Outside function :  5\n"
     ]
    }
   ],
   "source": [
    "count = 5\n",
    "\n",
    "def check():\n",
    "    print(\"Inside function : \", count)\n",
    "\n",
    "check()\n",
    "print(\"Outside function : \", count)"
   ]
  },
  {
   "cell_type": "code",
   "execution_count": 91,
   "metadata": {},
   "outputs": [
    {
     "name": "stdout",
     "output_type": "stream",
     "text": [
      "Inside function :  6\n",
      "Outside function :  5\n"
     ]
    }
   ],
   "source": [
    "count = 5\n",
    "\n",
    "def check():\n",
    "    count = 6    # inside func, count = 6\n",
    "    print(\"Inside function : \", count)\n",
    "\n",
    "check()\n",
    "print(\"Outside function : \", count)  # count = 5 -- value does not update"
   ]
  },
  {
   "cell_type": "markdown",
   "metadata": {},
   "source": [
    "### Use of global keyword\n",
    "\n",
    "As seen in the above example, the changes made to the variable named `count` which is similar to the global variable were not reflected in the `global variable.`\n",
    "\n",
    "If we want to make changes to the global variable, we need to use\n",
    "**global** keyword.\n",
    "\n",
    "Syntax: \n",
    "<pre>\n",
    "    global variable\n",
    "</pre>"
   ]
  },
  {
   "cell_type": "code",
   "execution_count": 95,
   "metadata": {},
   "outputs": [
    {
     "name": "stdout",
     "output_type": "stream",
     "text": [
      "Inside function :  6\n",
      "Outside function :  6\n"
     ]
    }
   ],
   "source": [
    "count = 5\n",
    "\n",
    "def check():\n",
    "    global count\n",
    "    count = 6\n",
    "    print(\"Inside function : \", count)\n",
    "\n",
    "check()\n",
    "print(\"Outside function : \", count)   # count = 6"
   ]
  },
  {
   "cell_type": "code",
   "execution_count": 98,
   "metadata": {},
   "outputs": [
    {
     "name": "stdout",
     "output_type": "stream",
     "text": [
      "Before calling function :  ['white', 'blue', 'yellow']\n",
      "inside function :  ['white', 'blue', 'yellow', 'black']\n",
      "outside function :  ['white', 'blue', 'yellow', 'black']\n"
     ]
    }
   ],
   "source": [
    "h = ['white', 'blue', 'yellow']\n",
    "\n",
    "def update():\n",
    "    global h\n",
    "    h.append('black')\n",
    "    print(\"inside function : \", h)\n",
    "\n",
    "print(\"Before calling function : \", h)\n",
    "update()\n",
    "print(\"outside function : \", h)"
   ]
  },
  {
   "cell_type": "code",
   "execution_count": 100,
   "metadata": {},
   "outputs": [
    {
     "name": "stdout",
     "output_type": "stream",
     "text": [
      "Before calling function :  ['white', 'blue', 'yellow']\n",
      "inside function :  blue\n",
      "outside function :  blue\n"
     ]
    }
   ],
   "source": [
    "h = ['white', 'blue', 'yellow']\n",
    "\n",
    "def update():\n",
    "    global h\n",
    "    h = h[1]\n",
    "    print(\"inside function : \", h)\n",
    "\n",
    "print(\"Before calling function : \", h)\n",
    "update()\n",
    "print(\"outside function : \", h)"
   ]
  },
  {
   "cell_type": "code",
   "execution_count": 101,
   "metadata": {
    "scrolled": true
   },
   "outputs": [
    {
     "name": "stdout",
     "output_type": "stream",
     "text": [
      "Before calling function :  ['white', 'blue', 'yellow']\n",
      "After updating :  blue\n",
      "b\n",
      "l\n",
      "u\n",
      "e\n",
      "outside function :  blue\n"
     ]
    }
   ],
   "source": [
    "h = ['white', 'blue', 'yellow']\n",
    "\n",
    "def update():\n",
    "    global h\n",
    "    h = h[1]  # h becomes a string\n",
    "    print(\"After updating : \", h)\n",
    "    \n",
    "def Iter():\n",
    "    for i in h:   # we are iterating a string\n",
    "        print(i)\n",
    "\n",
    "print(\"Before calling function : \", h)\n",
    "update()\n",
    "Iter()\n",
    "print(\"outside function : \", h)"
   ]
  },
  {
   "cell_type": "markdown",
   "metadata": {},
   "source": [
    "### Local Variable\n",
    "\n",
    "Variables which are defined inside a function or class or in a local scope are termed as `local variables`"
   ]
  },
  {
   "cell_type": "code",
   "execution_count": 102,
   "metadata": {},
   "outputs": [
    {
     "name": "stdout",
     "output_type": "stream",
     "text": [
      "inside function :  ['white', 'blue', 'yellow']\n"
     ]
    }
   ],
   "source": [
    "def update():\n",
    "    h = ['white', 'blue', 'yellow']\n",
    "    print(\"inside function : \", h)\n",
    "\n",
    "update()"
   ]
  },
  {
   "cell_type": "code",
   "execution_count": 106,
   "metadata": {},
   "outputs": [
    {
     "name": "stdout",
     "output_type": "stream",
     "text": [
      "inside function :  ['white', 'blue', 'yellow']\n"
     ]
    },
    {
     "ename": "NameError",
     "evalue": "name 'h' is not defined",
     "output_type": "error",
     "traceback": [
      "\u001b[1;31m---------------------------------------------------------------------------\u001b[0m",
      "\u001b[1;31mNameError\u001b[0m                                 Traceback (most recent call last)",
      "\u001b[1;32m<ipython-input-106-2a30344faae3>\u001b[0m in \u001b[0;36m<module>\u001b[1;34m\u001b[0m\n\u001b[0;32m      4\u001b[0m \u001b[1;33m\u001b[0m\u001b[0m\n\u001b[0;32m      5\u001b[0m \u001b[0mupdate\u001b[0m\u001b[1;33m(\u001b[0m\u001b[1;33m)\u001b[0m\u001b[1;33m\u001b[0m\u001b[1;33m\u001b[0m\u001b[0m\n\u001b[1;32m----> 6\u001b[1;33m \u001b[0mprint\u001b[0m\u001b[1;33m(\u001b[0m\u001b[0mh\u001b[0m\u001b[1;33m)\u001b[0m   \u001b[1;31m# error - undefined h\u001b[0m\u001b[1;33m\u001b[0m\u001b[1;33m\u001b[0m\u001b[0m\n\u001b[0m",
      "\u001b[1;31mNameError\u001b[0m: name 'h' is not defined"
     ]
    }
   ],
   "source": [
    "def update():\n",
    "    h = ['white', 'blue', 'yellow']\n",
    "    print(\"inside function : \", h)\n",
    "\n",
    "update()\n",
    "print(h)   # error - undefined h"
   ]
  },
  {
   "cell_type": "markdown",
   "metadata": {},
   "source": [
    "### Nonlocal variables\n",
    "\n",
    "Non local functions are used in nested functions when we want to use the variable defined in the outer method local scope.\n",
    "\n",
    "The nonlocal variable can neither be in the local nor in the global scope.\n",
    "\n",
    "If we declare a variable within a function and we want to update that variable within a nested function without providing any return statement for the same, we can do that with the help of a `nonlocal` keyword"
   ]
  },
  {
   "cell_type": "code",
   "execution_count": 110,
   "metadata": {},
   "outputs": [
    {
     "name": "stdout",
     "output_type": "stream",
     "text": [
      "Result from the inner function: Nonlocal scope\n",
      "Result from the outer function: Nonlocal scope\n",
      "Result from the global scope: Global scope\n"
     ]
    }
   ],
   "source": [
    "str = \"Global scope\"\n",
    "def outer_func():\n",
    "    str = \"Local scope\"\n",
    "\n",
    "    def inner_func(): \n",
    "        nonlocal str\n",
    "        str = \"Nonlocal scope\" # we are updating other_func str value to Nonlocal scope\n",
    "        print(\"Result from the inner function:\", str)   # Nonlocal scope\n",
    "\n",
    "    inner_func()\n",
    "    print(\"Result from the outer function:\", str) # Nonlocal scope\n",
    "\n",
    "outer_func()\n",
    "print(\"Result from the global scope:\", str)   # Global scope"
   ]
  },
  {
   "cell_type": "code",
   "execution_count": 115,
   "metadata": {},
   "outputs": [
    {
     "name": "stdout",
     "output_type": "stream",
     "text": [
      "Result from the inner function: Nonlocal scope\n",
      "Result from the outer function: Nonlocal scope\n",
      "Result from the global scope: Global scope\n"
     ]
    }
   ],
   "source": [
    "str = \"Global scope\"\n",
    "def outer_func():\n",
    "    str = \"Local scope\" \n",
    "    def inner_func():\n",
    "        nonlocal str\n",
    "        str = \"Nonlocal scope\"   # updating Local scope to Non local scope\n",
    "        print(\"Result from the inner function:\", str)   # Nonlocal scope\n",
    "\n",
    "    inner_func()\n",
    "    print(\"Result from the outer function:\", str) # Nonlocal scope\n",
    "\n",
    "outer_func()\n",
    "print(\"Result from the global scope:\", str)   # Global scope"
   ]
  },
  {
   "cell_type": "code",
   "execution_count": 122,
   "metadata": {},
   "outputs": [
    {
     "ename": "SyntaxError",
     "evalue": "no binding for nonlocal 'str' found (<ipython-input-122-aec4c4f6f66a>, line 6)",
     "output_type": "error",
     "traceback": [
      "\u001b[1;36m  File \u001b[1;32m\"<ipython-input-122-aec4c4f6f66a>\"\u001b[1;36m, line \u001b[1;32m6\u001b[0m\n\u001b[1;33m    nonlocal str\u001b[0m\n\u001b[1;37m    ^\u001b[0m\n\u001b[1;31mSyntaxError\u001b[0m\u001b[1;31m:\u001b[0m no binding for nonlocal 'str' found\n"
     ]
    }
   ],
   "source": [
    "str = \"Global scope\"\n",
    "def outer_func():\n",
    "    global str \n",
    "    str = \"Local scope\"\n",
    "    def inner_func():\n",
    "        nonlocal str    \n",
    "# ERROR - We cannot use nonlocal here, There is no non local variable 'str' \n",
    "# we changed it to global in line 3\n",
    "        str = \"Nonlocal scope\" \n",
    "        print(\"Result from the inner function:\", str)  \n",
    "\n",
    "    inner_func()\n",
    "    print(\"Result from the outer function:\", str)\n",
    "\n",
    "outer_func()\n",
    "print(\"Result from the global scope:\", str)   "
   ]
  },
  {
   "cell_type": "code",
   "execution_count": 123,
   "metadata": {},
   "outputs": [
    {
     "name": "stdout",
     "output_type": "stream",
     "text": [
      "Result from the inner function: Nonlocal scope\n",
      "Result from the outer function: Nonlocal scope\n",
      "Result from the global scope: Nonlocal scope\n"
     ]
    }
   ],
   "source": [
    "str = \"Global scope\"\n",
    "def outer_func():\n",
    "    global str \n",
    "    str = \"Local scope\"\n",
    "    def inner_func():\n",
    "        global str    \n",
    "        str = \"Nonlocal scope\"  \n",
    "        print(\"Result from the inner function:\", str)   # Nonlocal scope\n",
    "\n",
    "    inner_func()\n",
    "    print(\"Result from the outer function:\", str) # Nonlocal scope\n",
    "\n",
    "outer_func()\n",
    "print(\"Result from the global scope:\", str)   # Nonlocal scope"
   ]
  },
  {
   "cell_type": "markdown",
   "metadata": {},
   "source": [
    "## Recursion\n",
    "\n",
    "A process in which a function calls itself is called ad `recursion` and the corresponding function is called as `recursive function`\n",
    "\n",
    "Every recursive function `must` have a base condition that stops the recursion or else, the function calls itself infinitely."
   ]
  },
  {
   "cell_type": "code",
   "execution_count": 124,
   "metadata": {},
   "outputs": [
    {
     "name": "stdout",
     "output_type": "stream",
     "text": [
      "Factorial of 5 is  120\n",
      "Factorial of 6 is  720\n",
      "Factorial of 7 is  5040\n"
     ]
    }
   ],
   "source": [
    "def fact(x):\n",
    "    if x == 1:\n",
    "        return 1\n",
    "    else:\n",
    "        return (x * fact(x-1))\n",
    "\n",
    "num = 5\n",
    "print(\"Factorial of 5 is \", fact(5))\n",
    "print(\"Factorial of 6 is \", fact(6))\n",
    "print(\"Factorial of 7 is \", fact(7))"
   ]
  },
  {
   "cell_type": "markdown",
   "metadata": {},
   "source": [
    "---"
   ]
  },
  {
   "cell_type": "markdown",
   "metadata": {},
   "source": [
    "---"
   ]
  }
 ],
 "metadata": {
  "kernelspec": {
   "display_name": "Python 3",
   "language": "python",
   "name": "python3"
  },
  "language_info": {
   "codemirror_mode": {
    "name": "ipython",
    "version": 3
   },
   "file_extension": ".py",
   "mimetype": "text/x-python",
   "name": "python",
   "nbconvert_exporter": "python",
   "pygments_lexer": "ipython3",
   "version": "3.7.6"
  }
 },
 "nbformat": 4,
 "nbformat_minor": 4
}

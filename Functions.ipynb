{
 "cells": [
  {
   "cell_type": "markdown",
   "metadata": {},
   "source": [
    "## Function calls\n",
    "\n",
    "A function is a named sequence of statements that performs a computation. <br>\n",
    "\n",
    "When you define a function, you specify the name and the sequence of statements. Later, you can call the function by name."
   ]
  },
  {
   "cell_type": "code",
   "execution_count": 2,
   "metadata": {},
   "outputs": [
    {
     "data": {
      "text/plain": [
       "bool"
      ]
     },
     "execution_count": 2,
     "metadata": {},
     "output_type": "execute_result"
    }
   ],
   "source": [
    "type(True)"
   ]
  },
  {
   "cell_type": "markdown",
   "metadata": {},
   "source": [
    "The name of the function is **type**. The expression in parentheses is called then _argument_ of the function. <br>\n",
    "\n",
    "The argument is a value or variable that we are passing into the function as an input. <br>\n",
    "\n",
    "The **result** for the type function is the **type of the argument**\n",
    "<br>\n",
    "\n",
    "A function _takes_ an argument and _returns_ a result. <br>\n",
    "The result is called the _return value_"
   ]
  },
  {
   "cell_type": "markdown",
   "metadata": {},
   "source": [
    "## Built-in functions\n",
    "\n",
    "Python provides a number of important built-in functions that we use without needing to provide the function definition. <br>\n",
    "\n",
    "The creators of Python wrote a set of functions to solve common problems and included them in Python for us to use. <br>\n",
    "\n"
   ]
  },
  {
   "cell_type": "code",
   "execution_count": 9,
   "metadata": {},
   "outputs": [
    {
     "name": "stdout",
     "output_type": "stream",
     "text": [
      "1\n",
      "3\n",
      "A\n",
      "z\n"
     ]
    }
   ],
   "source": [
    "# The min() and max() functions gives the minimum and maximum values in a list.\n",
    "a = [1,2,3]\n",
    "print(min(a))  # 1\n",
    "print(max(a))  # 3\n",
    "\n",
    "print(min(\"ABCD\"))  # min is A ( ASCII value of A is 65)\n",
    "print(max(\"XYZz\"))  # max is z (ASCII value of z is 122)"
   ]
  },
  {
   "cell_type": "code",
   "execution_count": 10,
   "metadata": {},
   "outputs": [
    {
     "name": "stdout",
     "output_type": "stream",
     "text": [
      "5\n",
      "3\n"
     ]
    }
   ],
   "source": [
    "# length of a string len()\n",
    "\n",
    "print(len('HELLO'))  # 5\n",
    "print(len([1,2,3]))  # 3"
   ]
  },
  {
   "cell_type": "markdown",
   "metadata": {},
   "source": [
    "## Type Conversion functions\n",
    "\n",
    "Python also provides built-in functions that convert values from one type to another. <br>\n",
    "\n",
    "The **int** function takes any value as argument and converts into integer if it can, or produces an error <br>\n",
    "\n",
    "int can convert a floating point values to integers, but it doesn't round off; it chops off the fraction part."
   ]
  },
  {
   "cell_type": "code",
   "execution_count": 13,
   "metadata": {},
   "outputs": [
    {
     "name": "stdout",
     "output_type": "stream",
     "text": [
      "123\n",
      "22\n",
      "-2\n"
     ]
    },
    {
     "ename": "ValueError",
     "evalue": "invalid literal for int() with base 10: '123hii'",
     "output_type": "error",
     "traceback": [
      "\u001b[1;31m---------------------------------------------------------------------------\u001b[0m",
      "\u001b[1;31mValueError\u001b[0m                                Traceback (most recent call last)",
      "\u001b[1;32m<ipython-input-13-a5c3713d5174>\u001b[0m in \u001b[0;36m<module>\u001b[1;34m\u001b[0m\n\u001b[0;32m      2\u001b[0m \u001b[0mprint\u001b[0m\u001b[1;33m(\u001b[0m\u001b[0mint\u001b[0m\u001b[1;33m(\u001b[0m\u001b[1;36m22.33\u001b[0m\u001b[1;33m)\u001b[0m\u001b[1;33m)\u001b[0m\u001b[1;33m\u001b[0m\u001b[1;33m\u001b[0m\u001b[0m\n\u001b[0;32m      3\u001b[0m \u001b[0mprint\u001b[0m\u001b[1;33m(\u001b[0m\u001b[0mint\u001b[0m\u001b[1;33m(\u001b[0m\u001b[1;33m-\u001b[0m\u001b[1;36m2.5\u001b[0m\u001b[1;33m)\u001b[0m\u001b[1;33m)\u001b[0m\u001b[1;33m\u001b[0m\u001b[1;33m\u001b[0m\u001b[0m\n\u001b[1;32m----> 4\u001b[1;33m \u001b[0mprint\u001b[0m\u001b[1;33m(\u001b[0m\u001b[0mint\u001b[0m\u001b[1;33m(\u001b[0m\u001b[1;34m'123hii'\u001b[0m\u001b[1;33m)\u001b[0m\u001b[1;33m)\u001b[0m\u001b[1;33m\u001b[0m\u001b[1;33m\u001b[0m\u001b[0m\n\u001b[0m",
      "\u001b[1;31mValueError\u001b[0m: invalid literal for int() with base 10: '123hii'"
     ]
    }
   ],
   "source": [
    "print(int('123'))\n",
    "print(int(22.33))\n",
    "print(int(-2.5))\n",
    "print(int('123hii'))"
   ]
  },
  {
   "cell_type": "markdown",
   "metadata": {},
   "source": [
    "Float converts integers and strings to floating-point numbers"
   ]
  },
  {
   "cell_type": "code",
   "execution_count": 14,
   "metadata": {},
   "outputs": [
    {
     "name": "stdout",
     "output_type": "stream",
     "text": [
      "32.3\n",
      "32.0\n"
     ]
    }
   ],
   "source": [
    "print(float('32.3'))\n",
    "print(float(32))"
   ]
  },
  {
   "cell_type": "markdown",
   "metadata": {},
   "source": [
    "String converts its argument to a string"
   ]
  },
  {
   "cell_type": "code",
   "execution_count": 17,
   "metadata": {},
   "outputs": [
    {
     "name": "stdout",
     "output_type": "stream",
     "text": [
      "<class 'str'>\n",
      "<class 'str'>\n"
     ]
    }
   ],
   "source": [
    "a = str(323)\n",
    "print(type(a))\n",
    "a = str(23.23)\n",
    "print(type(a))"
   ]
  },
  {
   "cell_type": "markdown",
   "metadata": {},
   "source": [
    "## Random numbers\n",
    "\n",
    "The **random module** provides functions that generate **pseudorandom** numbers which we call as **random** <br>\n",
    "\n",
    "The function random returns a random float between 0.0 and 1.0 ( including 0.0 but not 1.0). Each time you call random, you get the next number in a long series."
   ]
  },
  {
   "cell_type": "code",
   "execution_count": 19,
   "metadata": {},
   "outputs": [
    {
     "name": "stdout",
     "output_type": "stream",
     "text": [
      "0.3997899042804045\n",
      "0.03407523963135628\n",
      "0.5978418613744284\n",
      "0.3872423895509992\n",
      "0.30788582078333826\n"
     ]
    }
   ],
   "source": [
    "import random\n",
    "\n",
    "# this program produces list of 5 random numbers\n",
    "\n",
    "for i in range(5):\n",
    "    x = random.random()\n",
    "    print(x)"
   ]
  },
  {
   "cell_type": "code",
   "execution_count": 20,
   "metadata": {},
   "outputs": [
    {
     "name": "stdout",
     "output_type": "stream",
     "text": [
      "0.6762938140261183\n",
      "0.5617911606664219\n",
      "0.9372703331495782\n",
      "0.9879740705241657\n",
      "0.07912745291330248\n"
     ]
    }
   ],
   "source": [
    "import random\n",
    "\n",
    "# this program produces list of 5 random numbers\n",
    "\n",
    "for i in range(5):\n",
    "    x = random.random()\n",
    "    print(x)"
   ]
  },
  {
   "cell_type": "markdown",
   "metadata": {},
   "source": [
    "The random function is only one of many functions that handle random numbers. <br>\n",
    "\n",
    "The function **randint** takes the parameters **low** and **high**, and returns an integer between low and high (including both)"
   ]
  },
  {
   "cell_type": "code",
   "execution_count": 21,
   "metadata": {},
   "outputs": [
    {
     "name": "stdout",
     "output_type": "stream",
     "text": [
      "8\n",
      "6\n",
      "9\n"
     ]
    }
   ],
   "source": [
    "import random\n",
    "\n",
    "print(random.randint(5,10))\n",
    "print(random.randint(5,10))\n",
    "print(random.randint(5,10))"
   ]
  },
  {
   "cell_type": "markdown",
   "metadata": {},
   "source": [
    "To choose an element from a sequence at random, you can use **choice.**"
   ]
  },
  {
   "cell_type": "code",
   "execution_count": 23,
   "metadata": {},
   "outputs": [
    {
     "name": "stdout",
     "output_type": "stream",
     "text": [
      "3\n",
      "4\n",
      "2\n"
     ]
    }
   ],
   "source": [
    "import random\n",
    "\n",
    "a = [1,2,3,4,5]\n",
    "print(random.choice(a))\n",
    "print(random.choice(a))\n",
    "print(random.choice(a))"
   ]
  },
  {
   "cell_type": "markdown",
   "metadata": {},
   "source": [
    "## Math functions\n",
    "\n",
    "Python has a **math module** that provides most of the familiar mathematical function. <br>\n",
    "\n",
    "Before we can use the module, we have to import it. <br>\n",
    "\n",
    "The module object contains the functions and variables defined in the module. <br>\n",
    "\n",
    "**To access one of the functions,** you have to specify the name of the module and the name of the function **separated by a dot (also known as period)**  <br>\n",
    "\n",
    "This format is called _dot notation_"
   ]
  },
  {
   "cell_type": "code",
   "execution_count": 25,
   "metadata": {},
   "outputs": [
    {
     "data": {
      "text/plain": [
       "3.141592653589793"
      ]
     },
     "execution_count": 25,
     "metadata": {},
     "output_type": "execute_result"
    }
   ],
   "source": [
    "import math\n",
    "\n",
    "math.pi"
   ]
  },
  {
   "cell_type": "code",
   "execution_count": 30,
   "metadata": {},
   "outputs": [
    {
     "name": "stdout",
     "output_type": "stream",
     "text": [
      "0.8509035245341184\n",
      "1.6197751905438615\n",
      "2.23606797749979\n"
     ]
    }
   ],
   "source": [
    "import math\n",
    "\n",
    "print(math.sin(45))\n",
    "print(math.tan(45))\n",
    "print(math.sqrt(5))"
   ]
  },
  {
   "cell_type": "markdown",
   "metadata": {},
   "source": [
    "## Adding new functions\n",
    "\n",
    "A function definition specifies the name of a new function and the sequence of statements that execute when the function is called\n",
    "\n",
    "Once we define a function, we can reuse the function over and over throughout our program."
   ]
  },
  {
   "cell_type": "code",
   "execution_count": 31,
   "metadata": {},
   "outputs": [],
   "source": [
    "def even():\n",
    "    a = int(input(\"Enter a number: \"))\n",
    "    if a % 2 == 0:\n",
    "        print(\"It is even number\")"
   ]
  },
  {
   "cell_type": "markdown",
   "metadata": {},
   "source": [
    "**def** is a keyword that indicates that, this is a function definition. <br>\n",
    "\n",
    "The name of the function is **even**. <br>\n",
    "\n",
    "The empty parantheses indicates that this function doesn't take any arguments.\n",
    "\n",
    "The first line of the function definition is called the _header_ <br>\n",
    "The rest is called the _body_. <br>\n",
    "* The header has to end with a colon\n",
    "* The body has to be indented"
   ]
  },
  {
   "cell_type": "code",
   "execution_count": 32,
   "metadata": {},
   "outputs": [
    {
     "name": "stdout",
     "output_type": "stream",
     "text": [
      "<class 'function'>\n",
      "Enter a number: 2\n",
      "It is even number\n"
     ]
    }
   ],
   "source": [
    "def even():\n",
    "    a = int(input(\"Enter a number: \"))\n",
    "    if a % 2 == 0:\n",
    "        print(\"It is even number\")\n",
    "\n",
    "print(type(even))        \n",
    "even()"
   ]
  },
  {
   "cell_type": "code",
   "execution_count": 36,
   "metadata": {},
   "outputs": [
    {
     "name": "stdout",
     "output_type": "stream",
     "text": [
      "Calling function\n",
      "Enter a number: 5\n",
      "Function called successfully\n",
      "<class 'function'>\n"
     ]
    }
   ],
   "source": [
    "def even():\n",
    "    a = int(input(\"Enter a number: \"))\n",
    "    if a % 2 == 0:\n",
    "        print(\"It is even number\")\n",
    "print(\"Calling function\")\n",
    "even()\n",
    "print(\"Function called successfully\")\n",
    "print(type(even))        "
   ]
  },
  {
   "cell_type": "markdown",
   "metadata": {},
   "source": [
    "## Parameters and arguments\n",
    "\n",
    "Inside the function, the arguments are assigned to variables called parameters. <br>"
   ]
  },
  {
   "cell_type": "code",
   "execution_count": 46,
   "metadata": {},
   "outputs": [
    {
     "name": "stdout",
     "output_type": "stream",
     "text": [
      "hello\n",
      "hello\n"
     ]
    }
   ],
   "source": [
    "def funct(value):   # value is a parameter\n",
    "    print(value)\n",
    "    print(value)\n",
    "funct('hello')     # 'hello' is an argument"
   ]
  },
  {
   "cell_type": "code",
   "execution_count": 40,
   "metadata": {},
   "outputs": [
    {
     "name": "stdout",
     "output_type": "stream",
     "text": [
      "5\n",
      "5\n"
     ]
    }
   ],
   "source": [
    "def funct(value):\n",
    "    print(value)\n",
    "    print(value)\n",
    "funct(5)"
   ]
  },
  {
   "cell_type": "code",
   "execution_count": 41,
   "metadata": {},
   "outputs": [
    {
     "name": "stdout",
     "output_type": "stream",
     "text": [
      "0.8564053345287732\n",
      "7\n"
     ]
    }
   ],
   "source": [
    "import random\n",
    "\n",
    "def funct(value):\n",
    "    print(value)\n",
    "    \n",
    "funct(random.random())\n",
    "funct(random.randint(1,10))"
   ]
  },
  {
   "cell_type": "code",
   "execution_count": 42,
   "metadata": {},
   "outputs": [
    {
     "name": "stdout",
     "output_type": "stream",
     "text": [
      "2.0\n"
     ]
    }
   ],
   "source": [
    "import math\n",
    "\n",
    "def funct(value):\n",
    "    print(value)\n",
    "    \n",
    "funct(math.sqrt(4))"
   ]
  },
  {
   "cell_type": "code",
   "execution_count": 45,
   "metadata": {},
   "outputs": [
    {
     "name": "stdout",
     "output_type": "stream",
     "text": [
      "bing_bing_bing_\n"
     ]
    }
   ],
   "source": [
    "def funct(value):\n",
    "    print(value)\n",
    "    \n",
    "funct('bing_' * 3)\n",
    "\n",
    "# argument is evaluated before passing to function"
   ]
  },
  {
   "cell_type": "markdown",
   "metadata": {},
   "source": [
    "## Fruitful functions and void functions\n",
    "\n",
    "Some of the functions which we are using, such as random, math functions gives results.<br>\n",
    "\n",
    "For lack of better name, we call them as _fruitful functions_ <br>\n",
    "Other functions like, funct() (above) perform an action but don't return a value. <br>\n",
    "\n",
    "They are called as _void functions_"
   ]
  },
  {
   "cell_type": "code",
   "execution_count": 50,
   "metadata": {},
   "outputs": [
    {
     "name": "stdout",
     "output_type": "stream",
     "text": [
      "9\n",
      "Function called successfully\n"
     ]
    }
   ],
   "source": [
    "# fruitful functions\n",
    "def sum_of_two(a,b): # taking two inputs\n",
    "    sum_of_digits = a + b\n",
    "    return sum_of_digits\n",
    "\n",
    "sum = sum_of_two(4,5)  # passing 4,5 to user defined function\n",
    "print(sum) \n",
    "print(\"Function called successfully\")"
   ]
  },
  {
   "cell_type": "code",
   "execution_count": 49,
   "metadata": {},
   "outputs": [
    {
     "name": "stdout",
     "output_type": "stream",
     "text": [
      "9\n",
      "Function called successfully\n"
     ]
    }
   ],
   "source": [
    "# void functions\n",
    "\n",
    "def sum_of_digits():  # no parameters\n",
    "    a = 5\n",
    "    b = 4\n",
    "    sum = a + b\n",
    "    print(sum)\n",
    "    \n",
    "sum_of_digits()  # calling function\n",
    "\n",
    "print(\"Function called successfully\")"
   ]
  },
  {
   "cell_type": "markdown",
   "metadata": {},
   "source": [
    "If you try to assign the void function to a variable, <br>\n",
    "\n",
    "you get a special value called **None**"
   ]
  },
  {
   "cell_type": "code",
   "execution_count": 51,
   "metadata": {},
   "outputs": [
    {
     "name": "stdout",
     "output_type": "stream",
     "text": [
      "9\n",
      "None\n"
     ]
    }
   ],
   "source": [
    "# void functions\n",
    "\n",
    "def sum_of_digits():  # no parameters\n",
    "    a = 5\n",
    "    b = 4\n",
    "    sum = a + b\n",
    "    print(sum)\n",
    "    \n",
    "k = sum_of_digits()\n",
    "print(k)"
   ]
  },
  {
   "cell_type": "markdown",
   "metadata": {},
   "source": [
    "The value None is not same as \"None\". It is a special value that has its own type."
   ]
  },
  {
   "cell_type": "code",
   "execution_count": 52,
   "metadata": {},
   "outputs": [
    {
     "name": "stdout",
     "output_type": "stream",
     "text": [
      "<class 'NoneType'>\n"
     ]
    }
   ],
   "source": [
    "print(type(None))"
   ]
  },
  {
   "cell_type": "markdown",
   "metadata": {},
   "source": [
    "<hr>\n"
   ]
  },
  {
   "cell_type": "markdown",
   "metadata": {},
   "source": [
    "What will the following Python program print out?\n",
    "\n",
    "<pre>\n",
    "def fred():\n",
    "    print(\"Zap\")\n",
    "\n",
    "def jane():\n",
    "    print(\"ABC\")\n",
    "    \n",
    "jane()\n",
    "fred()\n",
    "jane()\n",
    "\n",
    "</pre>"
   ]
  },
  {
   "cell_type": "code",
   "execution_count": 54,
   "metadata": {},
   "outputs": [
    {
     "name": "stdout",
     "output_type": "stream",
     "text": [
      "ABC\n",
      "Zap\n",
      "ABC\n"
     ]
    }
   ],
   "source": [
    "def fred():\n",
    "    print(\"Zap\")\n",
    "def jane():\n",
    "    print(\"ABC\")\n",
    "    \n",
    "jane()\n",
    "fred()\n",
    "jane()"
   ]
  },
  {
   "cell_type": "markdown",
   "metadata": {},
   "source": [
    "<hr>\n",
    "Rewrite your pay computation with time-and-a-half for overtime and\n",
    "create a function called computepay which takes two parameters (hours and rate). <br>\n",
    "\n",
    "Enter Hours: 45 <br>\n",
    "Enter Rate: 10 <br>\n",
    "Pay: 475.0 <br>"
   ]
  },
  {
   "cell_type": "code",
   "execution_count": 55,
   "metadata": {},
   "outputs": [
    {
     "name": "stdout",
     "output_type": "stream",
     "text": [
      "Enter hours: 45\n",
      "Enter rate: 10\n",
      "Pay: 475.0\n"
     ]
    }
   ],
   "source": [
    "def computepay(hours,rate):\n",
    "    if hours <= 40:\n",
    "        pay = hours * rate\n",
    "        print(\"Pay: \" + str(pay))\n",
    "    else:\n",
    "        pay = 40 * rate + (hours - 40) * rate * 1.5\n",
    "        print(\"Pay: \" + str(pay))\n",
    "\n",
    "hours = float(input(\"Enter hours: \"))\n",
    "rate = float(input(\"Enter rate: \"))\n",
    "computepay(hours,rate)\n"
   ]
  },
  {
   "cell_type": "markdown",
   "metadata": {},
   "source": [
    "<hr>\n",
    "Write a program to prompt for a score between 0.0 and 1.0. <br>\n",
    "If the score is out of range, print an error message. If the score is between 0.0 and 1.0, <br>\n",
    "\n",
    "Print a grade using the following table:\n",
    "\n",
    "|Score|Grade|\n",
    "|---|---|\n",
    "|>= 0.9|A\n",
    "|>= 0.8|B\n",
    "|>= 0.7|C\n",
    "|>= 0.6|D\n",
    "|< 0.6|F  <br>\n",
    "\n",
    "Enter score: perfect <br>\n",
    "Bad score <br>\n",
    "Enter score: 10.0 <br>\n",
    "Bad score <br>\n",
    "Enter score: 0.75 <br>\n",
    "C <br>\n",
    "Enter score: 0.5 <br>\n",
    "F <br>"
   ]
  },
  {
   "cell_type": "code",
   "execution_count": 57,
   "metadata": {},
   "outputs": [
    {
     "name": "stdout",
     "output_type": "stream",
     "text": [
      "Enter a score b/w 0.0 and 1.0: 10\n"
     ]
    },
    {
     "data": {
      "text/plain": [
       "'Bad score'"
      ]
     },
     "execution_count": 57,
     "metadata": {},
     "output_type": "execute_result"
    }
   ],
   "source": [
    "score = input(\"Enter a score b/w 0.0 and 1.0: \")\n",
    "\n",
    "def computegrade(score):\n",
    "    try:\n",
    "        score = float(score)\n",
    "        if score > 0.0 and score < 1.0:\n",
    "            if score >= 0.9:\n",
    "                return (\"A\")\n",
    "            elif score < 0.9 and score >= 0.8:\n",
    "                return (\"B\")\n",
    "            elif score < 0.8 and score >= 0.7:\n",
    "                return (\"C\")\n",
    "            elif score < 0.7 and score >= 0.6:\n",
    "                return (\"D\")\n",
    "            else:\n",
    "                return (\"F\")\n",
    "        else:\n",
    "            return (\"Bad score\")\n",
    "    except:\n",
    "        return (\"Bad score\")\n",
    "\n",
    "computegrade(score)\n",
    "    "
   ]
  },
  {
   "cell_type": "code",
   "execution_count": 58,
   "metadata": {},
   "outputs": [
    {
     "name": "stdout",
     "output_type": "stream",
     "text": [
      "Enter a score b/w 0.0 and 1.0: hello\n"
     ]
    },
    {
     "data": {
      "text/plain": [
       "'Bad score'"
      ]
     },
     "execution_count": 58,
     "metadata": {},
     "output_type": "execute_result"
    }
   ],
   "source": [
    "score = input(\"Enter a score b/w 0.0 and 1.0: \")\n",
    "\n",
    "def computegrade(score):\n",
    "    try:\n",
    "        score = float(score)\n",
    "        if score > 0.0 and score < 1.0:\n",
    "            if score >= 0.9:\n",
    "                return (\"A\")\n",
    "            elif score < 0.9 and score >= 0.8:\n",
    "                return (\"B\")\n",
    "            elif score < 0.8 and score >= 0.7:\n",
    "                return (\"C\")\n",
    "            elif score < 0.7 and score >= 0.6:\n",
    "                return (\"D\")\n",
    "            else:\n",
    "                return (\"F\")\n",
    "        else:\n",
    "            return (\"Bad score\")\n",
    "    except:\n",
    "        return (\"Bad score\")\n",
    "\n",
    "computegrade(score)"
   ]
  },
  {
   "cell_type": "code",
   "execution_count": 59,
   "metadata": {},
   "outputs": [
    {
     "name": "stdout",
     "output_type": "stream",
     "text": [
      "Enter a score b/w 0.0 and 1.0: 0.6\n"
     ]
    },
    {
     "data": {
      "text/plain": [
       "'D'"
      ]
     },
     "execution_count": 59,
     "metadata": {},
     "output_type": "execute_result"
    }
   ],
   "source": [
    "score = input(\"Enter a score b/w 0.0 and 1.0: \")\n",
    "\n",
    "def computegrade(score):\n",
    "    try:\n",
    "        score = float(score)\n",
    "        if score > 0.0 and score < 1.0:\n",
    "            if score >= 0.9:\n",
    "                return (\"A\")\n",
    "            elif score < 0.9 and score >= 0.8:\n",
    "                return (\"B\")\n",
    "            elif score < 0.8 and score >= 0.7:\n",
    "                return (\"C\")\n",
    "            elif score < 0.7 and score >= 0.6:\n",
    "                return (\"D\")\n",
    "            else:\n",
    "                return (\"F\")\n",
    "        else:\n",
    "            return (\"Bad score\")\n",
    "    except:\n",
    "        return (\"Bad score\")\n",
    "\n",
    "computegrade(score)"
   ]
  },
  {
   "cell_type": "markdown",
   "metadata": {},
   "source": [
    "<center>\n",
    "    <h1>END OF CHAPTER 3 </h1>\n",
    "</center>"
   ]
  }
 ],
 "metadata": {
  "kernelspec": {
   "display_name": "Python 3",
   "language": "python",
   "name": "python3"
  },
  "language_info": {
   "codemirror_mode": {
    "name": "ipython",
    "version": 3
   },
   "file_extension": ".py",
   "mimetype": "text/x-python",
   "name": "python",
   "nbconvert_exporter": "python",
   "pygments_lexer": "ipython3",
   "version": "3.7.6"
  }
 },
 "nbformat": 4,
 "nbformat_minor": 4
}

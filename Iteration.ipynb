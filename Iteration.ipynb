{
 "cells": [
  {
   "cell_type": "markdown",
   "metadata": {},
   "source": [
    "## Updating variables\n",
    "\n",
    "A common pattern in assignment statements is an assignment statement that updates a variable, where the **new value of the variable depends on the old**\n",
    "\n",
    "x = x + 1\n",
    "\n",
    "This means, \"get the current value of x, add 1 and then update x with the new value.\"\n",
    "\n",
    "If you try to update a variable that doesn't exist, you get an error because Python evaluates the right side before it assigns a value to x.\n",
    "\n",
    "Before updating a variable, you have to _initialize_ it, usually with a simple assignment"
   ]
  },
  {
   "cell_type": "code",
   "execution_count": 1,
   "metadata": {},
   "outputs": [
    {
     "ename": "NameError",
     "evalue": "name 'x' is not defined",
     "output_type": "error",
     "traceback": [
      "\u001b[1;31m---------------------------------------------------------------------------\u001b[0m",
      "\u001b[1;31mNameError\u001b[0m                                 Traceback (most recent call last)",
      "\u001b[1;32m<ipython-input-1-2356c9602a19>\u001b[0m in \u001b[0;36m<module>\u001b[1;34m\u001b[0m\n\u001b[1;32m----> 1\u001b[1;33m \u001b[0mx\u001b[0m \u001b[1;33m=\u001b[0m \u001b[0mx\u001b[0m \u001b[1;33m+\u001b[0m \u001b[1;36m1\u001b[0m  \u001b[1;31m#   x += 1\u001b[0m\u001b[1;33m\u001b[0m\u001b[1;33m\u001b[0m\u001b[0m\n\u001b[0m",
      "\u001b[1;31mNameError\u001b[0m: name 'x' is not defined"
     ]
    }
   ],
   "source": [
    "x = x + 1  #   x += 1\n"
   ]
  },
  {
   "cell_type": "code",
   "execution_count": 3,
   "metadata": {},
   "outputs": [
    {
     "name": "stdout",
     "output_type": "stream",
     "text": [
      "1\n"
     ]
    }
   ],
   "source": [
    "x = 0\n",
    "x += 1\n",
    "print(x)"
   ]
  },
  {
   "cell_type": "markdown",
   "metadata": {},
   "source": [
    "Updating a variable by adding 1 is called **increment** <br>\n",
    "Updating a variable by subtracting 1 is called **decrement**"
   ]
  },
  {
   "cell_type": "markdown",
   "metadata": {},
   "source": [
    "## The while statement\n",
    "\n",
    "**syntax:** \n",
    "<pre>\n",
    "initialization\n",
    "while condition:\n",
    "    #statements\n",
    "    increment (or) decrement\n",
    "</pre>\n",
    "\n",
    "<u>Flow of execution:</u><br>\n",
    "* Evaluate the condition, yeilding True or False\n",
    "* If the condition is false, exite the while statement and continue execution at the next statement\n",
    "* If the condition is true, execute the body and then go back to step 1\n",
    "\n",
    "This type of flow is called **loop** because the third step loops back around to the top. <br>\n",
    "\n",
    "We call each time we execute the body of the loop an **iteration** <br>\n",
    "\n",
    "The body of the loop should change the value of one or more variables so that eventually the condition becomes false and the loop terminates. <br>\n",
    "\n",
    "If there is no iteration variable, the loop will repeat forever, resulting in an _infinite loop._"
   ]
  },
  {
   "cell_type": "code",
   "execution_count": 9,
   "metadata": {},
   "outputs": [
    {
     "name": "stdout",
     "output_type": "stream",
     "text": [
      "5\n",
      "4\n",
      "3\n",
      "2\n",
      "1\n"
     ]
    }
   ],
   "source": [
    "var = 5\n",
    "while var > 0:  # condition  \n",
    "    print(var)   # 5 iterations\n",
    "    var -= 1      # decrement"
   ]
  },
  {
   "cell_type": "code",
   "execution_count": 11,
   "metadata": {},
   "outputs": [
    {
     "name": "stdout",
     "output_type": "stream",
     "text": [
      "5 4 3 2 1 "
     ]
    }
   ],
   "source": [
    "var = 5\n",
    "while var > 0:  # condition  \n",
    "    print(var, end = ' ')   # end joins both print statement with a separator,\n",
    "    var -= 1      # decrement"
   ]
  },
  {
   "cell_type": "code",
   "execution_count": 1,
   "metadata": {},
   "outputs": [
    {
     "name": "stdout",
     "output_type": "stream",
     "text": [
      ">>> Hi\n",
      "Try again\n",
      ">>> Hello\n",
      "Try again\n",
      ">>> ABCD\n",
      "Try again\n",
      ">>> done\n",
      "Done!!\n"
     ]
    }
   ],
   "source": [
    "while True:\n",
    "    line = input('>>> ')\n",
    "    if line == 'done':\n",
    "        break\n",
    "    print('Try again')\n",
    "print('Done!!')"
   ]
  },
  {
   "cell_type": "code",
   "execution_count": 4,
   "metadata": {},
   "outputs": [
    {
     "name": "stdout",
     "output_type": "stream",
     "text": [
      "Enter a number: 6\n",
      "3\n",
      "2\n",
      "1\n"
     ]
    }
   ],
   "source": [
    "a = int(input(\"Enter a number: \"))  # 6\n",
    "i = a//2    # integer division   3\n",
    "while i > 0:\n",
    "    if a%i == 0:\n",
    "        print(i)  # factors of given number  3, 2, 1\n",
    "    i -= 1"
   ]
  },
  {
   "cell_type": "markdown",
   "metadata": {},
   "source": [
    "## The range() function\n",
    "\n",
    "We can generate a sequence of numbers using range() function <br>\n",
    "\n",
    "`range(10)` will generate numbers from 0 to 9 (10 numbers).\n",
    "\n",
    "We can also define the start, stop and step size as `range(start, stop,step_size)`. step_size defaults to 1 if not provided."
   ]
  },
  {
   "cell_type": "code",
   "execution_count": 15,
   "metadata": {},
   "outputs": [
    {
     "name": "stdout",
     "output_type": "stream",
     "text": [
      "range(0, 5)\n",
      "[0, 1, 2, 3, 4]\n",
      "[0, 1, 2, 3, 4]\n",
      "[1, 2, 3, 4]\n",
      "[1, 2, 3, 4]\n",
      "even numbers from 2 to 10 ---- step value = 2\n",
      "[2, 4, 6, 8, 10]\n",
      "odd numbers from 1 to 10 --- step value is 2\n",
      "[1, 3, 5, 7, 9]\n",
      "[3, 6, 9, 12, 15, 18]\n"
     ]
    }
   ],
   "source": [
    "print(range(5))\n",
    "\n",
    "#To force this function to output all the items, we can use the function list().\n",
    "#default start value is 0\n",
    "print(list(range(5)))  # prints from 0 to 4 --- here 5 is stop value ( prints upto stop - 1)\n",
    "print(list(range(5)))\n",
    "\n",
    "print(list(range(1,5)))  # prints from 1 to 4 --- here 1 is start value and 5 is stop value\n",
    "\n",
    "# usually, default step value is 1\n",
    "print(list(range(1,5,1)))\n",
    "\n",
    "#print(list(range(1,10,2)))   # step value is 2 --- 1, 1+2, 3+2, 5+2, 7+2   (upto 9)\n",
    "\n",
    "print('even numbers from 2 to 10 ---- step value = 2')\n",
    "print(list(range(2, 11, 2)))   # 2, 2+2, 4+2, 6+2, 8+2  (upto 10)\n",
    "\n",
    "print('odd numbers from 1 to 10 --- step value is 2')\n",
    "print(list(range(1,10,2)))\n",
    "\n",
    "print(list(range(3,20,3))) # numbers divisible by 3 from 3 to 19\n"
   ]
  },
  {
   "cell_type": "markdown",
   "metadata": {},
   "source": [
    "## Definite loops using for\n",
    "\n",
    "When we have a list of things to loop through, we can construct a _definite loop_ using _for statement_ <br>\n",
    "\n",
    "We call the while statement as indefinite loop because, it simply loops until some condition becomes false, <br>\n",
    "\n",
    "Whereas the for loop is looping through a known set of items so it runs through as many iterations as there are items in the set. "
   ]
  },
  {
   "cell_type": "code",
   "execution_count": 6,
   "metadata": {},
   "outputs": [
    {
     "name": "stdout",
     "output_type": "stream",
     "text": [
      "1 2 4 52 345 "
     ]
    }
   ],
   "source": [
    "a = [1,2,4,52,345]\n",
    "for i in a:\n",
    "    print(i, end = ' ')\n",
    "# I1 --- i = 1, I2 --- i = 2, I3 --- i = 4, I4 --- i = 52 etc"
   ]
  },
  {
   "cell_type": "markdown",
   "metadata": {},
   "source": [
    "In Python terms, variable a is a _list_ of 5 items and the for loop goes through the list and executes the body once for each of 5 items in the list"
   ]
  },
  {
   "cell_type": "code",
   "execution_count": 10,
   "metadata": {},
   "outputs": [
    {
     "name": "stdout",
     "output_type": "stream",
     "text": [
      "python jupyter notebook "
     ]
    }
   ],
   "source": [
    "book = ['python', 'jupyter', 'notebook']\n",
    "for i in book:\n",
    "    print(i, end = ' ')"
   ]
  },
  {
   "cell_type": "markdown",
   "metadata": {},
   "source": [
    "Looking at the for loop, _for_ and _in_ are reserved Python keywords, and book, i are variables.\n",
    "\n",
    "In particular, i is the _iteration variable_ for the for loop. <br>\n",
    "\n",
    "The variable i changes for each iteration of the loop and controls when the for loop completes. <br>\n",
    "\n",
    "The iteration variable steps successively through the three strings stored in i variable"
   ]
  },
  {
   "cell_type": "code",
   "execution_count": 12,
   "metadata": {},
   "outputs": [
    {
     "name": "stdout",
     "output_type": "stream",
     "text": [
      "Count:  6\n",
      "Sum:  480\n"
     ]
    }
   ],
   "source": [
    "# counting the elements and sum of elements of a list\n",
    "count = 0\n",
    "sum = 0\n",
    "for i in [10,123,124,56,78,89]:\n",
    "    count += 1\n",
    "    sum += i\n",
    "print(\"Count: \", count)\n",
    "print(\"Sum: \", sum)"
   ]
  },
  {
   "cell_type": "code",
   "execution_count": 17,
   "metadata": {},
   "outputs": [
    {
     "name": "stdout",
     "output_type": "stream",
     "text": [
      "Sum:  5050\n"
     ]
    }
   ],
   "source": [
    "# sum of numbers from 1 to 100\n",
    "\n",
    "num = range(1, 101)   # num contains a sequence of numbers from 1 to 100\n",
    "sum = 0  \n",
    "\n",
    "for i in num:\n",
    "    sum += i   # sum = sum + i\n",
    "print('Sum: ', sum)"
   ]
  },
  {
   "cell_type": "code",
   "execution_count": 18,
   "metadata": {},
   "outputs": [
    {
     "name": "stdout",
     "output_type": "stream",
     "text": [
      "Enter a number: 3\n",
      "3 is a prime number\n"
     ]
    }
   ],
   "source": [
    "# check if the number is prime or not\n",
    "\n",
    "num = int(input(\"Enter a number: \"))\n",
    "count =  0\n",
    "for i in range(2, num//2):\n",
    "    if num % i == 0:\n",
    "        count = 1\n",
    "        break\n",
    "    \n",
    "if count == 0:\n",
    "    print(num, 'is a prime number')"
   ]
  },
  {
   "cell_type": "code",
   "execution_count": 19,
   "metadata": {
    "scrolled": true
   },
   "outputs": [
    {
     "name": "stdout",
     "output_type": "stream",
     "text": [
      "Enter a number: 3\n",
      "3 * 1 = 3\n",
      "3 * 2 = 6\n",
      "3 * 3 = 9\n",
      "3 * 4 = 12\n",
      "3 * 5 = 15\n",
      "3 * 6 = 18\n",
      "3 * 7 = 21\n",
      "3 * 8 = 24\n",
      "3 * 9 = 27\n",
      "3 * 10 = 30\n"
     ]
    }
   ],
   "source": [
    "# print multiplication table\n",
    "\n",
    "num = int(input(\"Enter a number: \"))\n",
    "for i in range(1, 11):\n",
    "    k = num * i\n",
    "    print(num, '*', i, '=', k)"
   ]
  },
  {
   "cell_type": "markdown",
   "metadata": {},
   "source": [
    "### Loops with else\n",
    "\n",
    "A loop can also have an optional `else` block. <br>\n",
    "\n",
    "The else part is executed if a loop executed successfully for all iterations.\n",
    "\n",
    "The `break` keyword can be used to stop a for loop. In such cases, the else part is ignored.\n",
    "\n",
    "Hence, a for loop's else part runs if no break occurs."
   ]
  },
  {
   "cell_type": "code",
   "execution_count": 27,
   "metadata": {},
   "outputs": [
    {
     "name": "stdout",
     "output_type": "stream",
     "text": [
      "1 2 3 4 5 6 7 8 9 10 \n",
      "for loop executed for all iterations successfully\n"
     ]
    }
   ],
   "source": [
    "# print numbers from 1 to 10\n",
    "for i in range(1,11):\n",
    "    print(i, end = ' ')\n",
    "else:\n",
    "    print()\n",
    "    print('for loop executed for all iterations successfully')"
   ]
  },
  {
   "cell_type": "markdown",
   "metadata": {},
   "source": [
    "## break statement\n",
    "\n",
    "The `break` statement terminates the loop containing it. Control of the program flows to the statement immediately after the body of the loop.\n",
    "\n",
    "If the break statement is inside a nested loop (loop inside another loop), the break statement will terminate the innermost loop."
   ]
  },
  {
   "cell_type": "code",
   "execution_count": 30,
   "metadata": {},
   "outputs": [
    {
     "name": "stdout",
     "output_type": "stream",
     "text": [
      "1 2 3 4 "
     ]
    }
   ],
   "source": [
    "# print numbers from 1 to 10 and break when number is 5\n",
    "\n",
    "for i in range(1,11):\n",
    "    if i == 5:\n",
    "        break\n",
    "    else:\n",
    "        print(i, end = ' ')\n",
    "else:        # else part is not executed  --- we used break in for loop\n",
    "    print()\n",
    "    print('For loop executed successfully for all iterations')    "
   ]
  },
  {
   "cell_type": "code",
   "execution_count": 31,
   "metadata": {},
   "outputs": [
    {
     "name": "stdout",
     "output_type": "stream",
     "text": [
      "q\n",
      "w\n",
      "e\n",
      "End!\n"
     ]
    }
   ],
   "source": [
    "for val in \"qwerty\":\n",
    "    if val == \"r\":\n",
    "        break\n",
    "    print(val)\n",
    "\n",
    "print(\"End!\")"
   ]
  },
  {
   "cell_type": "markdown",
   "metadata": {},
   "source": [
    "## continue statement\n",
    "\n",
    "The `continue` statement is used to skip the rest of the code inside a loop for the current iteration only. Loop does not terminate but continues on with the next iteration."
   ]
  },
  {
   "cell_type": "code",
   "execution_count": 35,
   "metadata": {},
   "outputs": [
    {
     "name": "stdout",
     "output_type": "stream",
     "text": [
      "1 2 3 4 6 7 8 9 10 "
     ]
    }
   ],
   "source": [
    "for i in range(1,11):\n",
    "    if i == 5:\n",
    "        continue\n",
    "    else:\n",
    "        print(i, end = ' ')   # 1 to 10 without 5"
   ]
  },
  {
   "cell_type": "markdown",
   "metadata": {},
   "source": [
    "## pass statement\n",
    "\n",
    "---"
   ]
  },
  {
   "cell_type": "markdown",
   "metadata": {},
   "source": [
    "---\n",
    "\n",
    "Write a program which repeatedly reads numbers until the user enters\n",
    "“done”. \n",
    "<br>\n",
    "Once “done” is entered, print out the total, count, and average of the\n",
    "numbers. <br>\n",
    "If the user enters anything other than a number, detect their mistake\n",
    "using try and except and print an error message and skip to the next number."
   ]
  },
  {
   "cell_type": "code",
   "execution_count": 5,
   "metadata": {},
   "outputs": [
    {
     "name": "stdout",
     "output_type": "stream",
     "text": [
      "Enter a number: 12\n",
      "Enter a number: 13\n",
      "Enter a number: 14\n",
      "Enter a number: done\n",
      "done!!\n",
      "3\n",
      "39\n",
      "13.0\n"
     ]
    }
   ],
   "source": [
    "sum = 0\n",
    "count = 0\n",
    "avg = 0\n",
    "while True:\n",
    "    inp = input(\"Enter a number: \")\n",
    "    if inp == 'done':\n",
    "        break\n",
    "    try:\n",
    "        inp = int(inp)\n",
    "    except:\n",
    "        print('Invailed Input')\n",
    "        continue\n",
    "    count += 1\n",
    "    sum += inp\n",
    "print ('done!!')\n",
    "print (count)\n",
    "print(sum)\n",
    "avg = sum/count\n",
    "print(avg)"
   ]
  },
  {
   "cell_type": "markdown",
   "metadata": {},
   "source": [
    "Write another program that prompts for a list of numbers as above\n",
    "and at the end prints out both the maximum and minimum of the numbers instead of the average."
   ]
  },
  {
   "cell_type": "code",
   "execution_count": 7,
   "metadata": {},
   "outputs": [
    {
     "name": "stdout",
     "output_type": "stream",
     "text": [
      "Enter a number: 123\n",
      "Enter a number: 1\n",
      "Enter a number: 0\n",
      "Enter a number: 234\n",
      "Enter a number: 45\n",
      "Enter a number: -1\n",
      "Enter a number: done\n",
      "Maximum is:  234\n",
      "Minimum is:  -1\n"
     ]
    }
   ],
   "source": [
    "largest = None\n",
    "smallest = None\n",
    "\n",
    "while True:\n",
    "    num = input(\"Enter a number: \")\n",
    "    if num == 'done':\n",
    "        break\n",
    "    try:\n",
    "        num = int(num)\n",
    "        if largest is None or num > largest:\n",
    "            largest = num\n",
    "        if smallest is None or num < smallest:\n",
    "            smallest = num\n",
    "    except:\n",
    "        print(\"Invalid input\")\n",
    "print(\"Maximum is: \", largest)\n",
    "print(\"Minimum is: \", smallest)"
   ]
  },
  {
   "cell_type": "markdown",
   "metadata": {},
   "source": [
    "<center>\n",
    "    <h1>END OF CHAPTER 4</h1>\n",
    "</center>"
   ]
  }
 ],
 "metadata": {
  "kernelspec": {
   "display_name": "Python 3",
   "language": "python",
   "name": "python3"
  },
  "language_info": {
   "codemirror_mode": {
    "name": "ipython",
    "version": 3
   },
   "file_extension": ".py",
   "mimetype": "text/x-python",
   "name": "python",
   "nbconvert_exporter": "python",
   "pygments_lexer": "ipython3",
   "version": "3.7.6"
  }
 },
 "nbformat": 4,
 "nbformat_minor": 4
}

{
 "cells": [
  {
   "cell_type": "markdown",
   "metadata": {},
   "source": [
    "# Dictionaries\n",
    "\n",
    "A dictionary is like a list<br>\n",
    "\n",
    "In a list, the index positions have to be integers. <br>\n",
    "\n",
    "**In a dictionary, the <span style = \"color:red\">indices can be (almost) any type.</span>**\n",
    "\n",
    "Dictionaries are enclosed within `{}`\n",
    "\n",
    "Set of indices in dictionary are called as `keys`. Set of keys maps to a Set of values. <br>\n",
    "\n",
    "**<span style = \"color:blue\">Each key maps to a value</span>**\n",
    "\n",
    "The association of a key and value is called `key-value` pair or sometimes `items`. <br>\n",
    "\n",
    "The function `dict()` is used to create an empty dictionary."
   ]
  },
  {
   "cell_type": "code",
   "execution_count": 1,
   "metadata": {},
   "outputs": [
    {
     "name": "stdout",
     "output_type": "stream",
     "text": [
      "{}\n",
      "<class 'dict'>\n"
     ]
    }
   ],
   "source": [
    "dic1 = dict()\n",
    "print(dic1)\n",
    "print(type(dic1))"
   ]
  },
  {
   "cell_type": "code",
   "execution_count": 7,
   "metadata": {},
   "outputs": [
    {
     "name": "stdout",
     "output_type": "stream",
     "text": [
      "{}\n",
      "{'k': 'val'}\n"
     ]
    }
   ],
   "source": [
    "# To add the items in a dictionary, we can use square brackets\n",
    "\n",
    "dic = dict()\n",
    "print(dic)\n",
    "dic['k'] = 'val'\n",
    "print(dic)\n",
    "\n",
    "# This line creates an item that maps from the key ’k’ \n",
    "# to the value “val”"
   ]
  },
  {
   "cell_type": "markdown",
   "metadata": {},
   "source": [
    "Dictionary can be created by placing sequence of elements within curly `{}` braces, separated by `,`. \n",
    "\n",
    "_Values in a dictionary can be of any datatype and can be duplicated, whereas keys can’t be repeated and must be immutable._"
   ]
  },
  {
   "cell_type": "code",
   "execution_count": 21,
   "metadata": {},
   "outputs": [
    {
     "name": "stdout",
     "output_type": "stream",
     "text": [
      "{'a': '1', 1: 12.4, 156.7: [1, 2, 3]}\n",
      "<class 'dict'>\n",
      "1\n",
      "12.4\n",
      "[1, 2, 3]\n"
     ]
    },
    {
     "ename": "KeyError",
     "evalue": "'45'",
     "output_type": "error",
     "traceback": [
      "\u001b[1;31m---------------------------------------------------------------------------\u001b[0m",
      "\u001b[1;31mKeyError\u001b[0m                                  Traceback (most recent call last)",
      "\u001b[1;32m<ipython-input-21-bd31a9c23cb0>\u001b[0m in \u001b[0;36m<module>\u001b[1;34m\u001b[0m\n\u001b[0;32m     11\u001b[0m \u001b[1;31m#prints this list\u001b[0m\u001b[1;33m\u001b[0m\u001b[1;33m\u001b[0m\u001b[1;33m\u001b[0m\u001b[0m\n\u001b[0;32m     12\u001b[0m \u001b[1;33m\u001b[0m\u001b[0m\n\u001b[1;32m---> 13\u001b[1;33m \u001b[0mprint\u001b[0m\u001b[1;33m(\u001b[0m\u001b[0mdic2\u001b[0m\u001b[1;33m[\u001b[0m\u001b[1;34m'45'\u001b[0m\u001b[1;33m]\u001b[0m\u001b[1;33m)\u001b[0m   \u001b[1;31m# key error\u001b[0m\u001b[1;33m\u001b[0m\u001b[1;33m\u001b[0m\u001b[0m\n\u001b[0m",
      "\u001b[1;31mKeyError\u001b[0m: '45'"
     ]
    }
   ],
   "source": [
    "# creating a new dictionary with items\n",
    "\n",
    "dic2 = {'a' : '1' , 1 : 12.4, 156.7 : [1,2,3]}\n",
    "print(dic2)\n",
    "print(type(dic2))\n",
    "\n",
    "# dic2.get('a')\n",
    "print(dic2['a'])   #  key 'a' maps to value '1' -- prints '1'\n",
    "print(dic2[1])   # key 1 maps to value 12.4 -- prints 12.4\n",
    "print(dic2[156.7])  # key 156.7 maps to value [1,2,3] --\n",
    "#prints this list\n",
    "\n",
    "print(dic2['45'])   # key error"
   ]
  },
  {
   "cell_type": "code",
   "execution_count": 23,
   "metadata": {},
   "outputs": [
    {
     "name": "stdout",
     "output_type": "stream",
     "text": [
      "{'a': '1', 1: 12.4, 156.7: [1, 2, 3], 453: 'jklm'}\n"
     ]
    }
   ],
   "source": [
    "dic3 = {'a' : '1' , 1 : 12.4, 156.7 : [1,2,3]}\n",
    "dic3[453] = 'jklm'   # appends into dic3\n",
    "print(dic3)   "
   ]
  },
  {
   "cell_type": "code",
   "execution_count": 25,
   "metadata": {},
   "outputs": [
    {
     "name": "stdout",
     "output_type": "stream",
     "text": [
      "before update, dic4[156.7] =  [1, 2, 3]\n",
      "after update, dic4[156.7] =  abc\n"
     ]
    }
   ],
   "source": [
    "# updating existing keys\n",
    "\n",
    "dic4 = {'a': '1', 1: 12.4, 156.7: [1, 2, 3], 453: 'jklm'}\n",
    "print(\"before update, dic4[156.7] = \", dic4[156.7])\n",
    "dic4[156.7] = 'abc'\n",
    "print(\"after update, dic4[156.7] = \", dic4[156.7])\n",
    "\n",
    "#While adding a value, if the key value already exists, \n",
    "#the value gets updated \n",
    "#otherwise a new Key with the value is added to the Dictionary."
   ]
  },
  {
   "cell_type": "markdown",
   "metadata": {},
   "source": [
    "### Nested Dictionary"
   ]
  },
  {
   "cell_type": "code",
   "execution_count": 28,
   "metadata": {},
   "outputs": [
    {
     "name": "stdout",
     "output_type": "stream",
     "text": [
      "{'val1': {1: 'ABCD'}, 'val2': {'num': '928', 'num2': 698}}\n",
      "{1: 'ABCD'}\n",
      "{'num': '928', 'num2': 698}\n",
      "928\n",
      "698\n"
     ]
    }
   ],
   "source": [
    "# Nested dictionary\n",
    "\n",
    "Dict = {'val1': {1: 'ABCD'},'val2': {'num': '928', 'num2' : 698}}\n",
    "\n",
    "print(Dict)\n",
    "print(Dict['val1'])\n",
    "print(Dict['val2'])\n",
    "print(Dict['val2']['num'])\n",
    "print(Dict['val2']['num2'])"
   ]
  },
  {
   "cell_type": "markdown",
   "metadata": {},
   "source": [
    "### Deleting dictionary\n",
    "\n",
    "using `del`"
   ]
  },
  {
   "cell_type": "code",
   "execution_count": 29,
   "metadata": {},
   "outputs": [
    {
     "name": "stdout",
     "output_type": "stream",
     "text": [
      "{'val1': {1: 'ABCD'}, 'val2': {'num': '928', 'num2': 698}}\n"
     ]
    },
    {
     "ename": "NameError",
     "evalue": "name 'Dict' is not defined",
     "output_type": "error",
     "traceback": [
      "\u001b[1;31m---------------------------------------------------------------------------\u001b[0m",
      "\u001b[1;31mNameError\u001b[0m                                 Traceback (most recent call last)",
      "\u001b[1;32m<ipython-input-29-003793dd0b45>\u001b[0m in \u001b[0;36m<module>\u001b[1;34m\u001b[0m\n\u001b[0;32m      2\u001b[0m \u001b[0mprint\u001b[0m\u001b[1;33m(\u001b[0m\u001b[0mDict\u001b[0m\u001b[1;33m)\u001b[0m\u001b[1;33m\u001b[0m\u001b[1;33m\u001b[0m\u001b[0m\n\u001b[0;32m      3\u001b[0m \u001b[1;32mdel\u001b[0m \u001b[0mDict\u001b[0m\u001b[1;33m\u001b[0m\u001b[1;33m\u001b[0m\u001b[0m\n\u001b[1;32m----> 4\u001b[1;33m \u001b[0mprint\u001b[0m\u001b[1;33m(\u001b[0m\u001b[0mDict\u001b[0m\u001b[1;33m)\u001b[0m   \u001b[1;31m# error\u001b[0m\u001b[1;33m\u001b[0m\u001b[1;33m\u001b[0m\u001b[0m\n\u001b[0m",
      "\u001b[1;31mNameError\u001b[0m: name 'Dict' is not defined"
     ]
    }
   ],
   "source": [
    "Dict = {'val1': {1: 'ABCD'},'val2': {'num': '928', 'num2' : 698}}\n",
    "print(Dict)\n",
    "del Dict\n",
    "print(Dict)   # error"
   ]
  },
  {
   "cell_type": "markdown",
   "metadata": {},
   "source": [
    "### Finding length of dictionary\n",
    "\n",
    "using `len()`\n",
    "\n",
    "It returns the number of key-value pairs."
   ]
  },
  {
   "cell_type": "code",
   "execution_count": 30,
   "metadata": {},
   "outputs": [
    {
     "name": "stdout",
     "output_type": "stream",
     "text": [
      "2\n"
     ]
    }
   ],
   "source": [
    "Dict = {'val1': {1: 'ABCD'},'val2': {'num': '928', 'num2' : 698}}\n",
    "print(len(Dict))"
   ]
  },
  {
   "cell_type": "markdown",
   "metadata": {},
   "source": [
    "### The `in` operator in dictionary\n",
    "\n",
    "It tells you whether something appears **as a key** in the dictionary"
   ]
  },
  {
   "cell_type": "code",
   "execution_count": 32,
   "metadata": {},
   "outputs": [
    {
     "name": "stdout",
     "output_type": "stream",
     "text": [
      "True\n",
      "True\n",
      "False\n"
     ]
    }
   ],
   "source": [
    "Dict = {1: 'ABCD', 'val2': '928', 2 : 698, 3: 'Key'}\n",
    "\n",
    "print(1 in Dict)   # true\n",
    "print(2 in Dict)   # true\n",
    "print('ABCD' in Dict)   # false"
   ]
  },
  {
   "cell_type": "markdown",
   "metadata": {},
   "source": [
    "---"
   ]
  },
  {
   "cell_type": "code",
   "execution_count": 44,
   "metadata": {},
   "outputs": [
    {
     "name": "stdout",
     "output_type": "stream",
     "text": [
      "{'e': 3, 'x': 1, 'p': 2, 'c': 1, 't': 2, 'o': 2, 'r': 1, 'n': 1, 'u': 1, 'm': 1}\n"
     ]
    }
   ],
   "source": [
    "# to count how many times each letter appears\n",
    "Str = 'expectopetronum'\n",
    "k = dict()   # empty dict to store each letter count\n",
    "for i in Str:\n",
    "    if i not in k:\n",
    "        k[i] = 1    # creates a key, if the letter is not in dict\n",
    "    else:\n",
    "        k[i] = k[i] + 1 # increases the count value if the key is in dict\n",
    "print(d)"
   ]
  },
  {
   "cell_type": "markdown",
   "metadata": {},
   "source": [
    "## get() method \n",
    "\n",
    "The `get()` method returns the value associated with a specific key. \n",
    "\n",
    "`get()` accepts two arguments: the key for which you want to search and a \n",
    "default value that is returned if the key is not found."
   ]
  },
  {
   "cell_type": "code",
   "execution_count": 52,
   "metadata": {},
   "outputs": [
    {
     "name": "stdout",
     "output_type": "stream",
     "text": [
      "ABCD\n",
      "928\n",
      "45\n",
      "klk\n",
      "None\n"
     ]
    }
   ],
   "source": [
    "Dict = {1: 'ABCD', 'val2': '928', 2 : 698, 3: 'Key'}\n",
    "\n",
    "print(Dict.get(1,0)) # 'ABCD'\n",
    "print(Dict.get('val2', 45))  # '928'\n",
    "print(Dict.get(34, 45))  # 45  -- there is no key with 34\n",
    "print(Dict.get('xyz','klk'))   # 'klk' -- there is no key with 'xyz'\n",
    "print(Dict.get('abcde'))   # prints None since there is no return value"
   ]
  },
  {
   "cell_type": "code",
   "execution_count": 51,
   "metadata": {},
   "outputs": [
    {
     "name": "stdout",
     "output_type": "stream",
     "text": [
      "{'e': 3, 'x': 1, 'p': 2, 'c': 1, 't': 2, 'o': 2, 'r': 1, 'n': 1, 'u': 1, 'm': 1}\n"
     ]
    }
   ],
   "source": [
    "# rewriting the above program using get()\n",
    "# to count how many times each letter appears\n",
    "Str = 'expectopetronum'\n",
    "k = dict()   # empty dict to store each letter count\n",
    "for i in Str:\n",
    "    k[i] = k.get(i,0) + 1\n",
    "print(d)"
   ]
  },
  {
   "cell_type": "markdown",
   "metadata": {},
   "source": [
    "### Iterating Through a Dictionary\n",
    "\n",
    "We can iterate through each key in a dictionary using a `for` loop."
   ]
  },
  {
   "cell_type": "code",
   "execution_count": 57,
   "metadata": {},
   "outputs": [
    {
     "name": "stdout",
     "output_type": "stream",
     "text": [
      "1,22,333,44,34.56,"
     ]
    }
   ],
   "source": [
    "# Iterating through a Dictionary\n",
    "Dict_1 = {1: 1,2 : 22, 3: 333, 4: 44, 5: 34.56}\n",
    "for i in Dict_1:\n",
    "        print(Dict_1[i], end = \",\")"
   ]
  },
  {
   "cell_type": "markdown",
   "metadata": {},
   "source": [
    "### Python Dictionary Comprehension\n",
    "\n",
    "Dictionary comprehension consists of an expression pair `(key: value)` followed by a `for` statement inside curly braces `{}`.\n",
    "\n",
    "It is used to create a new dictionary from an iterable in Python."
   ]
  },
  {
   "cell_type": "code",
   "execution_count": 62,
   "metadata": {},
   "outputs": [
    {
     "name": "stdout",
     "output_type": "stream",
     "text": [
      "{0: 0, 1: 1, 2: 8, 3: 27, 4: 64, 5: 125}\n",
      "{0: 0, 1: 1, 2: 8, 3: 27, 4: 64, 5: 125}\n"
     ]
    }
   ],
   "source": [
    "# printing cubes upto 5\n",
    "cubes = {l : l*l*l for l in range(6)}\n",
    "print(cubes)\n",
    "\n",
    "# other way using loop\n",
    "cubes = dict()\n",
    "for i in range(6):\n",
    "    cubes[i] = i**3   # power operator, i**3 = i cube 3\n",
    "print(cubes)"
   ]
  },
  {
   "cell_type": "markdown",
   "metadata": {},
   "source": [
    "A dictionary comprehension can optionally contain more for or if statements.\n",
    "\n",
    "An optional if statement can filter out items to form the new dictionary."
   ]
  },
  {
   "cell_type": "code",
   "execution_count": 64,
   "metadata": {},
   "outputs": [
    {
     "name": "stdout",
     "output_type": "stream",
     "text": [
      "{1: 1, 3: 27, 5: 125}\n",
      "{0: 0, 2: 8, 4: 64}\n"
     ]
    }
   ],
   "source": [
    "# find cubes of odd numbers\n",
    "cubes = {l : l*l*l for l in range(6) if not(l%2) == 0}\n",
    "print(cubes)\n",
    "\n",
    "# find cubes of even numbers\n",
    "cubes = {l : l*l*l for l in range(6) if l%2 == 0}\n",
    "print(cubes)"
   ]
  },
  {
   "cell_type": "markdown",
   "metadata": {},
   "source": [
    "## Bulit-in Dictionary methods\n",
    "\n",
    "* `clear()`\n",
    "\n",
    "* `copy()` \n",
    "\n",
    "* `fromkeys(keys, value)` - \n",
    "\n",
    "* `get(key, value)`\n",
    "\n",
    "* `items()`\n",
    "\n",
    "* `keys()`\n",
    "\n",
    "* `pop(key, value)`\n",
    "\n",
    "* `popitem()`\n",
    "\n",
    "* `setdefault(key, value)`\n",
    "\n",
    "* `update([other])`\n",
    "\n",
    "* `values()`"
   ]
  },
  {
   "cell_type": "markdown",
   "metadata": {},
   "source": [
    "### update()"
   ]
  },
  {
   "cell_type": "code",
   "execution_count": 66,
   "metadata": {},
   "outputs": [
    {
     "name": "stdout",
     "output_type": "stream",
     "text": [
      "{1: 'val1', 2: 'val2', 3: 'val3', 4: 'val4'}\n",
      "{}\n"
     ]
    }
   ],
   "source": [
    "# The clear() method removes all items from the dictionary.\n",
    "# this method doesn't take any parameters\n",
    "\n",
    "d = {1 : 'val1', 2 : 'val2', 3 : 'val3', 4 : 'val4'}\n",
    "print(d)\n",
    "d.clear()\n",
    "print(d)  # empty dict"
   ]
  },
  {
   "cell_type": "markdown",
   "metadata": {},
   "source": [
    "### copy()"
   ]
  },
  {
   "cell_type": "code",
   "execution_count": 102,
   "metadata": {
    "scrolled": true
   },
   "outputs": [
    {
     "name": "stdout",
     "output_type": "stream",
     "text": [
      "{1: 'val1', 2: 'val2', 3: 'val3', 4: 'val4'}\n",
      "{1: 'val1', 2: 'val2', 3: 'val3', 4: 'val4'}\n",
      "k:  {}\n",
      "d:  {1: 'val1', 2: 'val2', 3: 'val3', 4: 'val4'}\n",
      "\n",
      "{1: 'val1', 2: 'val2', 3: 'val3', 4: 'val4'}\n",
      "{1: 'val1', 2: 'val2', 3: 'val3', 4: 'val4'}\n",
      "k:  {}\n",
      "d:  {}\n"
     ]
    }
   ],
   "source": [
    "# The copy() method returns a duplicate copy of the dictionary.\n",
    "# this method doesn't takes any parameters\n",
    "\n",
    "d1 = {1 : 'val1', 2 : 'val2', 3 : 'val3', 4 : 'val4'}\n",
    "print(d)\n",
    "k = d1.copy()\n",
    "print(k)\n",
    "\n",
    "# clearing k clears only k but not d\n",
    "k.clear()\n",
    "print('k: ', k)    # prints empty dict\n",
    "print('d: ', d1)   # prints d1\n",
    "print()\n",
    "\n",
    "# using = operator\n",
    "d2 = {1 : 'val1', 2 : 'val2', 3 : 'val3', 4 : 'val4'}\n",
    "print(d2)\n",
    "k = d2\n",
    "print(k)\n",
    "\n",
    "# clearing k clears both k and d\n",
    "k.clear()\n",
    "print('k: ', k)\n",
    "print('d: ', d2)"
   ]
  },
  {
   "cell_type": "markdown",
   "metadata": {},
   "source": [
    "### fromkeys()"
   ]
  },
  {
   "cell_type": "markdown",
   "metadata": {},
   "source": [
    "The `fromkeys()` method creates a new dictionary from the given \n",
    "sequence of elements with a value provided by the user.\n",
    "\n",
    "The fromkeys method returns the dictionary with \n",
    "specified keys and values. \n",
    "\n",
    "* The **keys parameter is required**, and it is an iterable specifying the keys of the new dictionary.\n",
    "* The **value parameter is optional** and the value for all keys. The default value is None.\n",
    "\n",
    "If a value argument is set, each element of the newly created dictionary is set to the provided value."
   ]
  },
  {
   "cell_type": "code",
   "execution_count": 103,
   "metadata": {},
   "outputs": [
    {
     "name": "stdout",
     "output_type": "stream",
     "text": [
      "<class 'tuple'>\n",
      "<class 'str'>\n",
      "{'key1': 'value', 'key2': 'value', 'key3': 'value', 'key4': 'value'}\n",
      "\n",
      "<class 'list'>\n",
      "<class 'list'>\n",
      "{'key1': [1, 2], 'key2': [1, 2], 'key3': [1, 2], 'key4': [1, 2]}\n",
      "{'key1': [1, 2, 3], 'key2': [1, 2, 3], 'key3': [1, 2, 3], 'key4': [1, 2, 3]}\n"
     ]
    }
   ],
   "source": [
    "KEYS = ('key1', 'key2', 'key3', 'key4') # a tuple of keys\n",
    "print(type(KEYS))\n",
    "VALUES = ('value')  # a string\n",
    "print(type(VALUES))\n",
    "DICTIONARY = dict.fromkeys(KEYS, VALUES)\n",
    "print(DICTIONARY)\n",
    "\n",
    "print()\n",
    "\n",
    "KEYS = ['key1', 'key2', 'key3', 'key4'] # a list of keys\n",
    "print(type(KEYS))\n",
    "VALUES = [1, 2]   # a list of values\n",
    "print(type(VALUES))\n",
    "DICTIONARY = dict.fromkeys(KEYS, VALUES)\n",
    "print(DICTIONARY)\n",
    "VALUES.append(3)   # appends 3 to list VALUES\n",
    "print(DICTIONARY)  # again python evaluates line 14 and prints"
   ]
  },
  {
   "cell_type": "markdown",
   "metadata": {},
   "source": [
    "### items()"
   ]
  },
  {
   "cell_type": "markdown",
   "metadata": {},
   "source": [
    "The `items()` method returns a view object that displays a list of dictionary's  (key, value) tuple pairs.\n",
    "\n",
    "* items() method **doesn't take any parameters.**\n",
    "* items() method returns a view object that displays a list of a given dictionary's (key, value) tuple pair."
   ]
  },
  {
   "cell_type": "code",
   "execution_count": 85,
   "metadata": {},
   "outputs": [
    {
     "name": "stdout",
     "output_type": "stream",
     "text": [
      "dict_items([(1, 'val1'), (2, 'val2'), (3, 'val3'), (4, 'val4')])\n"
     ]
    }
   ],
   "source": [
    "p = {1: 'val1', 2: 'val2', 3: 'val3', 4: 'val4'}\n",
    "\n",
    "print(p.items())"
   ]
  },
  {
   "cell_type": "markdown",
   "metadata": {},
   "source": [
    "### keys()"
   ]
  },
  {
   "cell_type": "code",
   "execution_count": 89,
   "metadata": {},
   "outputs": [
    {
     "name": "stdout",
     "output_type": "stream",
     "text": [
      "dict_keys([1, 2, 3, 4])\n"
     ]
    }
   ],
   "source": [
    "# The keys() method returns a view object that displays a \n",
    "# list of all the keys in the dictionary\n",
    "p = {1: 'val1', 2: 'val2', 3: 'val3', 4: 'val4'}\n",
    "KEYS = p.keys()\n",
    "print(KEYS)"
   ]
  },
  {
   "cell_type": "markdown",
   "metadata": {},
   "source": [
    "### pop()"
   ]
  },
  {
   "cell_type": "code",
   "execution_count": 94,
   "metadata": {},
   "outputs": [
    {
     "name": "stdout",
     "output_type": "stream",
     "text": [
      "val1\n",
      "{2: 'val2', 3: 'val3', 4: 'val4'}\n",
      "no key\n"
     ]
    },
    {
     "ename": "KeyError",
     "evalue": "'n'",
     "output_type": "error",
     "traceback": [
      "\u001b[1;31m---------------------------------------------------------------------------\u001b[0m",
      "\u001b[1;31mKeyError\u001b[0m                                  Traceback (most recent call last)",
      "\u001b[1;32m<ipython-input-94-62077863d985>\u001b[0m in \u001b[0;36m<module>\u001b[1;34m\u001b[0m\n\u001b[0;32m      5\u001b[0m \u001b[0mprint\u001b[0m\u001b[1;33m(\u001b[0m\u001b[0mh\u001b[0m\u001b[1;33m)\u001b[0m\u001b[1;33m\u001b[0m\u001b[1;33m\u001b[0m\u001b[0m\n\u001b[0;32m      6\u001b[0m \u001b[0mprint\u001b[0m\u001b[1;33m(\u001b[0m\u001b[0mh\u001b[0m\u001b[1;33m.\u001b[0m\u001b[0mpop\u001b[0m\u001b[1;33m(\u001b[0m\u001b[1;34m'k'\u001b[0m\u001b[1;33m,\u001b[0m \u001b[1;34m'no key'\u001b[0m\u001b[1;33m)\u001b[0m\u001b[1;33m)\u001b[0m \u001b[1;31m# no key\u001b[0m\u001b[1;33m\u001b[0m\u001b[1;33m\u001b[0m\u001b[0m\n\u001b[1;32m----> 7\u001b[1;33m \u001b[0mprint\u001b[0m\u001b[1;33m(\u001b[0m\u001b[1;34m'_'\u001b[0m\u001b[1;33m,\u001b[0m \u001b[0mh\u001b[0m\u001b[1;33m.\u001b[0m\u001b[0mpop\u001b[0m\u001b[1;33m(\u001b[0m\u001b[1;34m'n'\u001b[0m\u001b[1;33m)\u001b[0m\u001b[1;33m)\u001b[0m  \u001b[1;31m# key error\u001b[0m\u001b[1;33m\u001b[0m\u001b[1;33m\u001b[0m\u001b[0m\n\u001b[0m",
      "\u001b[1;31mKeyError\u001b[0m: 'n'"
     ]
    }
   ],
   "source": [
    "# The pop() method removes the specified item from the dictionary.\n",
    "# The value of the removed item is the return value of the pop() method\n",
    "h = {1: 'val1', 2: 'val2', 3: 'val3', 4: 'val4'}\n",
    "print(h.pop(1, 'no key'))\n",
    "print(h)\n",
    "print(h.pop('k', 'no key')) # no key\n",
    "print('_', h.pop('n'))  # key error"
   ]
  },
  {
   "cell_type": "markdown",
   "metadata": {},
   "source": [
    "### popitem()"
   ]
  },
  {
   "cell_type": "markdown",
   "metadata": {},
   "source": [
    "The `popitem()` method removes and returns the last element (key, value) pair inserted into the dictionary.\n",
    "\n",
    "The popitem() **doesn't take any parameters.**\n",
    "\n",
    "* Returns the latest inserted element (key,value) pair from the dictionary.\n",
    "* Removes the returned element pair from the dictionary."
   ]
  },
  {
   "cell_type": "code",
   "execution_count": 88,
   "metadata": {},
   "outputs": [
    {
     "name": "stdout",
     "output_type": "stream",
     "text": [
      "(4, 'val4')\n",
      "{1: 'val1', 2: 'val2', 3: 'val3'}\n"
     ]
    },
    {
     "ename": "KeyError",
     "evalue": "'popitem(): dictionary is empty'",
     "output_type": "error",
     "traceback": [
      "\u001b[1;31m---------------------------------------------------------------------------\u001b[0m",
      "\u001b[1;31mKeyError\u001b[0m                                  Traceback (most recent call last)",
      "\u001b[1;32m<ipython-input-88-b07024a7aaa6>\u001b[0m in \u001b[0;36m<module>\u001b[1;34m\u001b[0m\n\u001b[0;32m      4\u001b[0m \u001b[1;33m\u001b[0m\u001b[0m\n\u001b[0;32m      5\u001b[0m \u001b[0mq\u001b[0m \u001b[1;33m=\u001b[0m \u001b[0mdict\u001b[0m\u001b[1;33m(\u001b[0m\u001b[1;33m)\u001b[0m\u001b[1;33m\u001b[0m\u001b[1;33m\u001b[0m\u001b[0m\n\u001b[1;32m----> 6\u001b[1;33m \u001b[0mprint\u001b[0m\u001b[1;33m(\u001b[0m\u001b[0mq\u001b[0m\u001b[1;33m.\u001b[0m\u001b[0mpopitem\u001b[0m\u001b[1;33m(\u001b[0m\u001b[1;33m)\u001b[0m\u001b[1;33m)\u001b[0m   \u001b[1;31m# keyerror\u001b[0m\u001b[1;33m\u001b[0m\u001b[1;33m\u001b[0m\u001b[0m\n\u001b[0m",
      "\u001b[1;31mKeyError\u001b[0m: 'popitem(): dictionary is empty'"
     ]
    }
   ],
   "source": [
    "p = {1: 'val1', 2: 'val2', 3: 'val3', 4: 'val4'}\n",
    "print(p.popitem())\n",
    "print(p)\n",
    "\n",
    "q = dict()\n",
    "print(q.popitem())   # keyerror"
   ]
  },
  {
   "cell_type": "markdown",
   "metadata": {},
   "source": [
    "### setdefault()"
   ]
  },
  {
   "cell_type": "markdown",
   "metadata": {},
   "source": [
    "The `setdefault()` method returns the value of the item with the specified key.\n",
    "\n",
    "key name is required. <br>\n",
    "If the key does not exist, insert the key, with the specified value."
   ]
  },
  {
   "cell_type": "code",
   "execution_count": 95,
   "metadata": {},
   "outputs": [
    {
     "name": "stdout",
     "output_type": "stream",
     "text": [
      "val1\n",
      "val4\n",
      "no key\n"
     ]
    }
   ],
   "source": [
    "c = {1: 'val1', 2: 'val2', 3: 'val3', 4: 'val4'}\n",
    "print(c.setdefault(1,'no key'))\n",
    "print(c.setdefault(4, 'no key'))\n",
    "print(c.setdefault('g', 'no key'))"
   ]
  },
  {
   "cell_type": "markdown",
   "metadata": {},
   "source": [
    "### update()"
   ]
  },
  {
   "cell_type": "markdown",
   "metadata": {},
   "source": [
    "The update() method inserts the specified items to the dictionary.\n",
    "The specified items can be a dictionary, or an iterable object with key value pairs. <br>\n",
    "\n",
    "update() method **adds element(s) to the dictionary if the key is not in the dictionary. If the key is in the dictionary, it updates the key with the new value.**\n",
    "\n",
    "If update() is called without passing parameters, the dictionary remains unchanged.\n",
    "\n",
    "Parameters: \n",
    "A dictionary or an iterable object with key value pairs, that will be inserted to the dictionary\n",
    "\n",
    "It doesn't return any value (returns None)."
   ]
  },
  {
   "cell_type": "code",
   "execution_count": 97,
   "metadata": {},
   "outputs": [
    {
     "name": "stdout",
     "output_type": "stream",
     "text": [
      "{1: 'val6', 2: 'val2', 3: 'val3', 4: 'val4', 5: 'val5', 'i': 3, 'n': 90, 'l': 89}\n"
     ]
    }
   ],
   "source": [
    "e = {1: 'val1', 2: 'val2', 3: 'val3', 4: 'val4'}\n",
    "e.update({1 : 'val6'})\n",
    "e.update({5 : 'val5'})\n",
    "e.update(i = 3, n = 90, l = 89)\n",
    "print(e)"
   ]
  },
  {
   "cell_type": "markdown",
   "metadata": {},
   "source": [
    "### values()"
   ]
  },
  {
   "cell_type": "code",
   "execution_count": 101,
   "metadata": {},
   "outputs": [
    {
     "name": "stdout",
     "output_type": "stream",
     "text": [
      "{1: 'val1', 2: 'val2', 3: 'val3', 4: 'val4', 'a': 'a', 'b': 'nine'}\n",
      "dict_values(['val1', 'val2', 'val3', 'val4', 'a', 'nine'])\n"
     ]
    }
   ],
   "source": [
    "# The values() method returns a view object that displays a \n",
    "# list of all the values in the dictionary.\n",
    "\n",
    "# returns a view object that displays a list of all values \n",
    "# in a given dictionary.\n",
    "\n",
    "f = {1: 'val1', 2: 'val2', 3: 'val3', 4: 'val4'}\n",
    "f.update(a = 'a', b = 'nine')\n",
    "print(f)\n",
    "print(f.values())"
   ]
  },
  {
   "cell_type": "markdown",
   "metadata": {},
   "source": [
    "## Built-in functions\n",
    "\n",
    "* `all()`  - Returns `True` if **all the keys** of the dict are `True` or dict is empty\n",
    "\n",
    "* `any()` - Returns `True` if **any key** of the dict is `True`. If the dict is empty, it returns `False`\n",
    "\n",
    "* `len()` - Return length of the dict\n",
    "\n",
    "* `sorted()` - Returns a new sorted list of **keys** in the dict"
   ]
  },
  {
   "cell_type": "code",
   "execution_count": 107,
   "metadata": {},
   "outputs": [
    {
     "name": "stdout",
     "output_type": "stream",
     "text": [
      "dict_keys([0, 1, 2, 3, 4])\n",
      "False\n",
      "True\n",
      "5\n",
      "[0, 1, 2, 3, 4]\n"
     ]
    }
   ],
   "source": [
    "new = {0 : 'zero', 1 : 'one', 2 : 'two', 3 : 'three', 4 : 'four'}\n",
    "\n",
    "print(new.keys())\n",
    "print(all(new))   # false - contains 0\n",
    "print(any(new))   # true\n",
    "print(len(new))   # 5\n",
    "new = {1 : 'one', 3 : 'three', 4 : 'four', 0 : 'zero', 2 : 'two'}\n",
    "print(sorted(new))"
   ]
  },
  {
   "cell_type": "markdown",
   "metadata": {},
   "source": [
    "<center>\n",
    "    <h1>END OF CHAPTER 7 </h1>\n",
    "</center>"
   ]
  }
 ],
 "metadata": {
  "kernelspec": {
   "display_name": "Python 3",
   "language": "python",
   "name": "python3"
  },
  "language_info": {
   "codemirror_mode": {
    "name": "ipython",
    "version": 3
   },
   "file_extension": ".py",
   "mimetype": "text/x-python",
   "name": "python",
   "nbconvert_exporter": "python",
   "pygments_lexer": "ipython3",
   "version": "3.7.6"
  }
 },
 "nbformat": 4,
 "nbformat_minor": 4
}
